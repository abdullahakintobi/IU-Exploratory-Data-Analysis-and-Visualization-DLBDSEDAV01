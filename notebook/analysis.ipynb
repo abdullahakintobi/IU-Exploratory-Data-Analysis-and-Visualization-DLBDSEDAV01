{
 "cells": [
  {
   "cell_type": "markdown",
   "id": "38b0d47c",
   "metadata": {},
   "source": [
    "## **Project Title: A Visual Exploration of the Relationship Between Trade Tariffs and Germany's Economic Growth from 1988 to 2021**\n",
    "\n",
    "> Author: Abdullah Akintobi  \n",
    "> Date: September 20, 2025\n",
    "\n",
    "\n",
    "### **Table of Contents**\n",
    "\n",
    "<ul>\n",
    "    <li><a href=\"#phase-1-project-scoping--data-preparation\">Phase 1: Project Scoping & Data Preparation</a>\n",
    "        <ul>\n",
    "            <li><a href=\"#11-introduction\">1.1 Introduction</a></li>\n",
    "            <li><a href=\"#12-import-dependencies\">1.2 Import Dependencies</a></li>\n",
    "            <li><a href=\"#13-data-loading-and-initial-observations\">1.3 Data Loading and Initial Observations</a></li>\n",
    "            <li><a href=\"#14-data-preprocessing\">1.4 Data Preprocessing</a></li>\n",
    "        </ul>\n",
    "    </li>\n",
    "    <li><a href=\"#phase-2-exploratory-data-analysis-eda--visualization\">Phase 2: Exploratory Data Analysis (EDA) & Visualization</a>\n",
    "        <ul>\n",
    "            <li><a href=\"#21-descriptive-statistics\">2.1 Descriptive Statistics</a></li>\n",
    "            <li><a href=\"#22-advanced-data-analysis\">2.2 Advanced Data Analysis</a>\n",
    "                <ul>\n",
    "                    <li><a href=\"#221-univariate-analysis\">2.2.1 Univariate Analysis</a></li>\n",
    "                    <li><a href=\"#222-bivariate-analysis\">2.2.2 Bivariate Analysis</a></li>\n",
    "                    <li><a href=\"#223-multivariate-analysis\">2.2.3 Multivariate Analysis</a></li>\n",
    "                </ul>\n",
    "            </li>\n",
    "        </ul>\n",
    "    </li>\n",
    "    <li><a href=\"#phase-3-research-questions-analysis--conclusion\">Phase 3: Research Questions Analysis & Conclusion</a>\n",
    "        <ul>\n",
    "            <li><a href=\"#31-research-questions-analysis\">3.1 Research Questions Analysis</a>\n",
    "                <ul>\n",
    "                    <li><a href=\"#311-temporal-analysis-1988-2021\">3.1.1 Temporal Analysis (1988-2021)</a></li>\n",
    "                    <li><a href=\"#312-correlation-analysis\">3.1.2 Correlation Analysis</a></li>\n",
    "                    <li><a href=\"#313-trade-volume-and-policy-analysis\">3.1.3 Trade Volume and Policy Analysis</a></li>\n",
    "                </ul>\n",
    "            </li>\n",
    "            <li><a href=\"#32-insights--conclusion\">3.2 Insights & Conclusion</a></li>\n",
    "        </ul>\n",
    "    </li>\n",
    "</ul>"
   ]
  },
  {
   "cell_type": "markdown",
   "id": "3a938ef6",
   "metadata": {},
   "source": [
    "## **Phase 1: Project Scoping & Data Preparation** <a id='phase-1-project-scoping--data-preparation'></a>\n",
    "\n",
    "In this initial phase, we will setup all the requirements for our analysis, define the project's purpose, and ensure our data is clean and ready to use."
   ]
  },
  {
   "cell_type": "markdown",
   "id": "e82be604",
   "metadata": {},
   "source": [
    "### **1.1 Introduction** <a id='11-introduction'></a>\n",
    "\n",
    "This project conducts an exploratory data analysis of Germany's trade and economic performance from 1988 to 2021 to evaluate the influence of tariff policy changes on key economic indicators.\n",
    "\n",
    "The dataset used for this analysis is the \"World Export and Import Dataset (1988-2021)\", which was sourced from Kaggle. This comprehensive dataset, compiled from reputable sources such as the World Bank and the World Trade Organization, provides detailed information on Germany's trade volumes, economic growth, and key tariff metrics over the 33-year period. Click [here](https://www.kaggle.com/datasets/muhammadtalhaawan/world-export-and-import-dataset) to access the dataset directly from Kaggle. Kindly note that this dataset was downloaded from kaggle on September 2, 2025 in cases the dataset was updated by its authour. \n",
    "\n",
    "The central problem is to determine the correlation between Germany's tariff rate fluctuations and its economic growth and trade volumes over the 33-year period.\n",
    "\n",
    "The analysis will address this problem by answering the following specific research questions:\n",
    "\n",
    "- **Correlation with Economic Growth:** What is the statistical correlation between changes in Germany's tariff rates (both `AHS Simple Average (%)` and `MFN Simple Average (%)`) and its `Country Growth (%)`?\n",
    "\n",
    "- **Impact on Trade Volume:** How do changes in tariff policies correspond with fluctuations in Germany's total trade volumes, as measured by `Export (US$ Thousand)` and `Import (US$ Thousand)`?\n",
    "\n",
    "- **Historical Analysis:** Can distinct periods be identified where a shift in trade policy appears to have a measurable impact on Germany's economic trajectory?\n",
    "\n",
    "The insights gained will provide empirical evidence of the intricate relationship between a nation's trade policy and economic health, serving as a comprehensive case study."
   ]
  },
  {
   "cell_type": "markdown",
   "id": "bef4a715",
   "metadata": {},
   "source": [
    "### **1.2 Import Dependencies** <a id='12-import-dependencies'></a>"
   ]
  },
  {
   "cell_type": "code",
   "execution_count": 1,
   "id": "006adfb9",
   "metadata": {},
   "outputs": [],
   "source": [
    "# Import necessary libraries\n",
    "import numpy as np\n",
    "import pandas as pd\n",
    "import plotly.express as px\n",
    "from scipy import stats\n",
    "\n",
    "# Set display options\n",
    "pd.set_option(\"display.max_columns\", None)\n",
    "pd.set_option(\"display.width\", None)\n",
    "pd.set_option(\"display.float_format\", \"{:,.2f}\".format)"
   ]
  },
  {
   "cell_type": "markdown",
   "id": "ce534270",
   "metadata": {},
   "source": [
    "### **1.3 Data Loading and Initial Observations** <a id='13-data-loading-and-initial-observations'></a>\n",
    "\n",
    "In this section, we will:\n",
    "\n",
    "- Load and preview the raw dataset.\n",
    "\n",
    "- Select the features to be used for the analysis."
   ]
  },
  {
   "cell_type": "code",
   "execution_count": 2,
   "id": "9aabba83",
   "metadata": {},
   "outputs": [
    {
     "data": {
      "text/html": [
       "<div>\n",
       "<style scoped>\n",
       "    .dataframe tbody tr th:only-of-type {\n",
       "        vertical-align: middle;\n",
       "    }\n",
       "\n",
       "    .dataframe tbody tr th {\n",
       "        vertical-align: top;\n",
       "    }\n",
       "\n",
       "    .dataframe thead th {\n",
       "        text-align: right;\n",
       "    }\n",
       "</style>\n",
       "<table border=\"1\" class=\"dataframe\">\n",
       "  <thead>\n",
       "    <tr style=\"text-align: right;\">\n",
       "      <th></th>\n",
       "      <th>Partner Name</th>\n",
       "      <th>Year</th>\n",
       "      <th>Export (US$ Thousand)</th>\n",
       "      <th>Import (US$ Thousand)</th>\n",
       "      <th>Export Product Share (%)</th>\n",
       "      <th>Import Product Share (%)</th>\n",
       "      <th>Revealed comparative advantage</th>\n",
       "      <th>World Growth (%)</th>\n",
       "      <th>Country Growth (%)</th>\n",
       "      <th>AHS Simple Average (%)</th>\n",
       "      <th>AHS Weighted Average (%)</th>\n",
       "      <th>AHS Total Tariff Lines</th>\n",
       "      <th>AHS Dutiable Tariff Lines Share (%)</th>\n",
       "      <th>AHS Duty Free Tariff Lines Share (%)</th>\n",
       "      <th>AHS Specific Tariff Lines Share (%)</th>\n",
       "      <th>AHS AVE Tariff Lines Share (%)</th>\n",
       "      <th>AHS MaxRate (%)</th>\n",
       "      <th>AHS MinRate (%)</th>\n",
       "      <th>AHS SpecificDuty Imports (US$ Thousand)</th>\n",
       "      <th>AHS Dutiable Imports (US$ Thousand)</th>\n",
       "      <th>AHS Duty Free Imports (US$ Thousand)</th>\n",
       "      <th>MFN Simple Average (%)</th>\n",
       "      <th>MFN Weighted Average (%)</th>\n",
       "      <th>MFN Total Tariff Lines</th>\n",
       "      <th>MFN Dutiable Tariff Lines Share (%)</th>\n",
       "      <th>MFN Duty Free Tariff Lines Share (%)</th>\n",
       "      <th>MFN Specific Tariff Lines Share (%)</th>\n",
       "      <th>MFN AVE Tariff Lines Share (%)</th>\n",
       "      <th>MFN MaxRate (%)</th>\n",
       "      <th>MFN MinRate (%)</th>\n",
       "      <th>MFN SpecificDuty Imports (US$ Thousand)</th>\n",
       "      <th>MFN Dutiable Imports (US$ Thousand)</th>\n",
       "      <th>MFN Duty Free Imports (US$ Thousand)</th>\n",
       "    </tr>\n",
       "  </thead>\n",
       "  <tbody>\n",
       "    <tr>\n",
       "      <th>0</th>\n",
       "      <td>Aruba</td>\n",
       "      <td>1988</td>\n",
       "      <td>3,498.10</td>\n",
       "      <td>328.49</td>\n",
       "      <td>100.00</td>\n",
       "      <td>100</td>\n",
       "      <td>NaN</td>\n",
       "      <td>NaN</td>\n",
       "      <td>NaN</td>\n",
       "      <td>2.80</td>\n",
       "      <td>2.92</td>\n",
       "      <td>155.00</td>\n",
       "      <td>18.06</td>\n",
       "      <td>60.00</td>\n",
       "      <td>20.00</td>\n",
       "      <td>1.94</td>\n",
       "      <td>50.00</td>\n",
       "      <td>0.00</td>\n",
       "      <td>1,867.00</td>\n",
       "      <td>2,346.37</td>\n",
       "      <td>781.65</td>\n",
       "      <td>13.59</td>\n",
       "      <td>8.46</td>\n",
       "      <td>1,152.00</td>\n",
       "      <td>63.54</td>\n",
       "      <td>22.74</td>\n",
       "      <td>70.32</td>\n",
       "      <td>31.61</td>\n",
       "      <td>352.69</td>\n",
       "      <td>0.00</td>\n",
       "      <td>2,186.00</td>\n",
       "      <td>3,128.02</td>\n",
       "      <td>0.00</td>\n",
       "    </tr>\n",
       "    <tr>\n",
       "      <th>1</th>\n",
       "      <td>Afghanistan</td>\n",
       "      <td>1988</td>\n",
       "      <td>213,030.40</td>\n",
       "      <td>54,459.52</td>\n",
       "      <td>100.00</td>\n",
       "      <td>100</td>\n",
       "      <td>NaN</td>\n",
       "      <td>NaN</td>\n",
       "      <td>NaN</td>\n",
       "      <td>0.88</td>\n",
       "      <td>1.83</td>\n",
       "      <td>548.00</td>\n",
       "      <td>8.76</td>\n",
       "      <td>82.66</td>\n",
       "      <td>8.03</td>\n",
       "      <td>0.55</td>\n",
       "      <td>35.00</td>\n",
       "      <td>0.00</td>\n",
       "      <td>30,863.03</td>\n",
       "      <td>70,204.13</td>\n",
       "      <td>23,987.37</td>\n",
       "      <td>17.68</td>\n",
       "      <td>12.43</td>\n",
       "      <td>4,142.00</td>\n",
       "      <td>69.41</td>\n",
       "      <td>15.64</td>\n",
       "      <td>72.45</td>\n",
       "      <td>40.51</td>\n",
       "      <td>2,029.66</td>\n",
       "      <td>0.00</td>\n",
       "      <td>78,436.91</td>\n",
       "      <td>94,191.50</td>\n",
       "      <td>0.00</td>\n",
       "    </tr>\n",
       "    <tr>\n",
       "      <th>2</th>\n",
       "      <td>Angola</td>\n",
       "      <td>1988</td>\n",
       "      <td>375,527.89</td>\n",
       "      <td>370,702.76</td>\n",
       "      <td>100.00</td>\n",
       "      <td>100</td>\n",
       "      <td>NaN</td>\n",
       "      <td>NaN</td>\n",
       "      <td>NaN</td>\n",
       "      <td>2.02</td>\n",
       "      <td>3.89</td>\n",
       "      <td>633.00</td>\n",
       "      <td>25.43</td>\n",
       "      <td>69.19</td>\n",
       "      <td>5.37</td>\n",
       "      <td>0.00</td>\n",
       "      <td>40.00</td>\n",
       "      <td>0.00</td>\n",
       "      <td>723,819.51</td>\n",
       "      <td>754,183.84</td>\n",
       "      <td>167,297.68</td>\n",
       "      <td>12.70</td>\n",
       "      <td>6.14</td>\n",
       "      <td>5,438.00</td>\n",
       "      <td>76.00</td>\n",
       "      <td>16.27</td>\n",
       "      <td>41.55</td>\n",
       "      <td>24.80</td>\n",
       "      <td>451.15</td>\n",
       "      <td>0.00</td>\n",
       "      <td>727,741.99</td>\n",
       "      <td>921,481.52</td>\n",
       "      <td>0.00</td>\n",
       "    </tr>\n",
       "    <tr>\n",
       "      <th>3</th>\n",
       "      <td>Anguila</td>\n",
       "      <td>1988</td>\n",
       "      <td>366.98</td>\n",
       "      <td>4.00</td>\n",
       "      <td>100.00</td>\n",
       "      <td>100</td>\n",
       "      <td>NaN</td>\n",
       "      <td>NaN</td>\n",
       "      <td>NaN</td>\n",
       "      <td>3.71</td>\n",
       "      <td>1.09</td>\n",
       "      <td>33.00</td>\n",
       "      <td>6.06</td>\n",
       "      <td>72.73</td>\n",
       "      <td>21.21</td>\n",
       "      <td>0.00</td>\n",
       "      <td>35.00</td>\n",
       "      <td>0.00</td>\n",
       "      <td>60.00</td>\n",
       "      <td>65.00</td>\n",
       "      <td>518.00</td>\n",
       "      <td>16.63</td>\n",
       "      <td>14.75</td>\n",
       "      <td>322.00</td>\n",
       "      <td>66.15</td>\n",
       "      <td>22.05</td>\n",
       "      <td>78.79</td>\n",
       "      <td>36.36</td>\n",
       "      <td>100.00</td>\n",
       "      <td>0.00</td>\n",
       "      <td>94.00</td>\n",
       "      <td>583.00</td>\n",
       "      <td>0.00</td>\n",
       "    </tr>\n",
       "    <tr>\n",
       "      <th>4</th>\n",
       "      <td>Albania</td>\n",
       "      <td>1988</td>\n",
       "      <td>30,103.56</td>\n",
       "      <td>47,709.30</td>\n",
       "      <td>100.00</td>\n",
       "      <td>100</td>\n",
       "      <td>NaN</td>\n",
       "      <td>NaN</td>\n",
       "      <td>NaN</td>\n",
       "      <td>1.84</td>\n",
       "      <td>2.38</td>\n",
       "      <td>744.00</td>\n",
       "      <td>20.83</td>\n",
       "      <td>60.48</td>\n",
       "      <td>17.61</td>\n",
       "      <td>1.08</td>\n",
       "      <td>25.00</td>\n",
       "      <td>0.00</td>\n",
       "      <td>18,806.15</td>\n",
       "      <td>62,294.53</td>\n",
       "      <td>38,901.42</td>\n",
       "      <td>19.20</td>\n",
       "      <td>9.68</td>\n",
       "      <td>5,684.00</td>\n",
       "      <td>66.87</td>\n",
       "      <td>19.19</td>\n",
       "      <td>57.93</td>\n",
       "      <td>48.52</td>\n",
       "      <td>3,000.00</td>\n",
       "      <td>0.00</td>\n",
       "      <td>37,904.09</td>\n",
       "      <td>101,195.95</td>\n",
       "      <td>0.00</td>\n",
       "    </tr>\n",
       "  </tbody>\n",
       "</table>\n",
       "</div>"
      ],
      "text/plain": [
       "  Partner Name  Year  Export (US$ Thousand)  Import (US$ Thousand)  \\\n",
       "0        Aruba  1988               3,498.10                 328.49   \n",
       "1  Afghanistan  1988             213,030.40              54,459.52   \n",
       "2       Angola  1988             375,527.89             370,702.76   \n",
       "3      Anguila  1988                 366.98                   4.00   \n",
       "4      Albania  1988              30,103.56              47,709.30   \n",
       "\n",
       "   Export Product Share (%)  Import Product Share (%)  \\\n",
       "0                    100.00                       100   \n",
       "1                    100.00                       100   \n",
       "2                    100.00                       100   \n",
       "3                    100.00                       100   \n",
       "4                    100.00                       100   \n",
       "\n",
       "   Revealed comparative advantage  World Growth (%)  Country Growth (%)  \\\n",
       "0                             NaN               NaN                 NaN   \n",
       "1                             NaN               NaN                 NaN   \n",
       "2                             NaN               NaN                 NaN   \n",
       "3                             NaN               NaN                 NaN   \n",
       "4                             NaN               NaN                 NaN   \n",
       "\n",
       "   AHS Simple Average (%)  AHS Weighted Average (%)  AHS Total Tariff Lines  \\\n",
       "0                    2.80                      2.92                  155.00   \n",
       "1                    0.88                      1.83                  548.00   \n",
       "2                    2.02                      3.89                  633.00   \n",
       "3                    3.71                      1.09                   33.00   \n",
       "4                    1.84                      2.38                  744.00   \n",
       "\n",
       "   AHS Dutiable Tariff Lines Share (%)  AHS Duty Free Tariff Lines Share (%)  \\\n",
       "0                                18.06                                 60.00   \n",
       "1                                 8.76                                 82.66   \n",
       "2                                25.43                                 69.19   \n",
       "3                                 6.06                                 72.73   \n",
       "4                                20.83                                 60.48   \n",
       "\n",
       "   AHS Specific Tariff Lines Share (%)  AHS AVE Tariff Lines Share (%)  \\\n",
       "0                                20.00                            1.94   \n",
       "1                                 8.03                            0.55   \n",
       "2                                 5.37                            0.00   \n",
       "3                                21.21                            0.00   \n",
       "4                                17.61                            1.08   \n",
       "\n",
       "   AHS MaxRate (%)  AHS MinRate (%)  AHS SpecificDuty Imports (US$ Thousand)  \\\n",
       "0            50.00             0.00                                 1,867.00   \n",
       "1            35.00             0.00                                30,863.03   \n",
       "2            40.00             0.00                               723,819.51   \n",
       "3            35.00             0.00                                    60.00   \n",
       "4            25.00             0.00                                18,806.15   \n",
       "\n",
       "   AHS Dutiable Imports (US$ Thousand)  AHS Duty Free Imports (US$ Thousand)  \\\n",
       "0                             2,346.37                                781.65   \n",
       "1                            70,204.13                             23,987.37   \n",
       "2                           754,183.84                            167,297.68   \n",
       "3                                65.00                                518.00   \n",
       "4                            62,294.53                             38,901.42   \n",
       "\n",
       "   MFN Simple Average (%)  MFN Weighted Average (%)  MFN Total Tariff Lines  \\\n",
       "0                   13.59                      8.46                1,152.00   \n",
       "1                   17.68                     12.43                4,142.00   \n",
       "2                   12.70                      6.14                5,438.00   \n",
       "3                   16.63                     14.75                  322.00   \n",
       "4                   19.20                      9.68                5,684.00   \n",
       "\n",
       "   MFN Dutiable Tariff Lines Share (%)  MFN Duty Free Tariff Lines Share (%)  \\\n",
       "0                                63.54                                 22.74   \n",
       "1                                69.41                                 15.64   \n",
       "2                                76.00                                 16.27   \n",
       "3                                66.15                                 22.05   \n",
       "4                                66.87                                 19.19   \n",
       "\n",
       "   MFN Specific Tariff Lines Share (%)  MFN AVE Tariff Lines Share (%)  \\\n",
       "0                                70.32                           31.61   \n",
       "1                                72.45                           40.51   \n",
       "2                                41.55                           24.80   \n",
       "3                                78.79                           36.36   \n",
       "4                                57.93                           48.52   \n",
       "\n",
       "   MFN MaxRate (%)  MFN MinRate (%)  MFN SpecificDuty Imports (US$ Thousand)  \\\n",
       "0           352.69             0.00                                 2,186.00   \n",
       "1         2,029.66             0.00                                78,436.91   \n",
       "2           451.15             0.00                               727,741.99   \n",
       "3           100.00             0.00                                    94.00   \n",
       "4         3,000.00             0.00                                37,904.09   \n",
       "\n",
       "   MFN Dutiable Imports (US$ Thousand)  MFN Duty Free Imports (US$ Thousand)  \n",
       "0                             3,128.02                                  0.00  \n",
       "1                            94,191.50                                  0.00  \n",
       "2                           921,481.52                                  0.00  \n",
       "3                               583.00                                  0.00  \n",
       "4                           101,195.95                                  0.00  "
      ]
     },
     "execution_count": 2,
     "metadata": {},
     "output_type": "execute_result"
    }
   ],
   "source": [
    "# Load and preview the raw dataset\n",
    "df_raw = pd.read_csv(\"../data/raw/34_years_world_export_import_dataset.csv\")\n",
    "df_raw.head()"
   ]
  },
  {
   "cell_type": "code",
   "execution_count": 3,
   "id": "702bfa97",
   "metadata": {},
   "outputs": [
    {
     "data": {
      "text/plain": [
       "(8096, 33)"
      ]
     },
     "execution_count": 3,
     "metadata": {},
     "output_type": "execute_result"
    }
   ],
   "source": [
    "# Check the shape of the dataset\n",
    "df_raw.shape"
   ]
  },
  {
   "cell_type": "code",
   "execution_count": 4,
   "id": "5c4f71ae",
   "metadata": {},
   "outputs": [
    {
     "name": "stdout",
     "output_type": "stream",
     "text": [
      "German Democratic Republic\n",
      "Germany\n"
     ]
    }
   ],
   "source": [
    "# Get unique values in Partner Name column and sort them alphabetically\n",
    "unique_partners = sorted(df_raw[\"Partner Name\"].unique())\n",
    "\n",
    "# Print partners that start with 'Ger'\n",
    "for partner in unique_partners:\n",
    "    if partner.startswith(\"Ger\"):\n",
    "        print(partner)"
   ]
  },
  {
   "cell_type": "code",
   "execution_count": 5,
   "id": "b8f26728",
   "metadata": {},
   "outputs": [
    {
     "data": {
      "text/plain": [
       "array([1988, 1989, 1990])"
      ]
     },
     "execution_count": 5,
     "metadata": {},
     "output_type": "execute_result"
    }
   ],
   "source": [
    "# Check the years for 'German Democratic Republic'\n",
    "df_raw[df_raw[\"Partner Name\"] == \"German Democratic Republic\"][\"Year\"].unique()"
   ]
  },
  {
   "cell_type": "markdown",
   "id": "0bd24398",
   "metadata": {},
   "source": [
    "**Observations:**\n",
    "\n",
    "The dataset contains records for both the **[German Democratic Republic](https://en.wikipedia.org/wiki/East_Germany)** (from 1988 to 1990) and **Germany** (from 1988 to 2021). We will combine the records for both countries from 1988 to 1990 into a single unified record for Germany. This is crucial for our analysis because it accurately reflects the political and economic reality of **Germany's reunification in 1990**. Merging these records allows for a **continuous time-series analysis** over the entire 1988-2021 period, preventing a misleading split in the data and providing a more historically representative view of the country's economic trends.\n",
    "\n",
    "We also observed that the dataset contains 8,096 rows and 33 columns. For the purpose of this project, we will focus on a subset of the data that is essential for our analysis.\n",
    "\n",
    "Below are the seven key features we will use:\n",
    "\n",
    "  - **`Partner Name`**: This column will be used to filter the data specifically for 'Germany'.\n",
    "\n",
    "  - **`Year`**: This time-series variable is essential for plotting data over the 1988-2021 period.\n",
    "\n",
    "  - **`Country Growth (%)`**: The primary variable for measuring Germany's economic growth.\n",
    "\n",
    "  - **`AHS Simple Average (%)`**: One of two key tariff variables, representing the \"Applied Harmonized System\" tariff rate.\n",
    "\n",
    "  - **`MFN Simple Average (%)`**: The second key tariff variable, representing the \"Most Favored Nation\" tariff rate.\n",
    "\n",
    "  - **`Export (US$ Thousand)`**: Used to analyze the volume of trade over time.\n",
    "\n",
    "  - **`Import (US$ Thousand)`**: Also used to analyze the volume of trade over time.\n",
    "\n",
    "You can click [here](../data/meta/data_dictionary.csv) to see the full description of each column in the dataset. In the next section we will preprocess the data by perfoming feature selection, removing unwanted records, and merging the record for Germany and German Democratic Republic."
   ]
  },
  {
   "cell_type": "markdown",
   "id": "69a7c2e2",
   "metadata": {},
   "source": [
    "### **1.4 Data Preprocessing** <a id='14-data-preprocessing'></a>\n",
    "\n",
    "In this section, we will:\n",
    "\n",
    "- Drop the columns that are not necessary for our analysis.\n",
    "\n",
    "- Remove the records where Partner Name is not German Democratic Republic or Germany.\n",
    "\n",
    "- Merge the German Democratic Republic and Germany records as Germany from the years 1988 to 1990."
   ]
  },
  {
   "cell_type": "code",
   "execution_count": 6,
   "id": "25e5acf0",
   "metadata": {},
   "outputs": [
    {
     "data": {
      "text/html": [
       "<div>\n",
       "<style scoped>\n",
       "    .dataframe tbody tr th:only-of-type {\n",
       "        vertical-align: middle;\n",
       "    }\n",
       "\n",
       "    .dataframe tbody tr th {\n",
       "        vertical-align: top;\n",
       "    }\n",
       "\n",
       "    .dataframe thead th {\n",
       "        text-align: right;\n",
       "    }\n",
       "</style>\n",
       "<table border=\"1\" class=\"dataframe\">\n",
       "  <thead>\n",
       "    <tr style=\"text-align: right;\">\n",
       "      <th></th>\n",
       "      <th>Partner Name</th>\n",
       "      <th>Year</th>\n",
       "      <th>Country Growth (%)</th>\n",
       "      <th>AHS Simple Average (%)</th>\n",
       "      <th>MFN Simple Average (%)</th>\n",
       "      <th>Export (US$ Thousand)</th>\n",
       "      <th>Import (US$ Thousand)</th>\n",
       "    </tr>\n",
       "  </thead>\n",
       "  <tbody>\n",
       "    <tr>\n",
       "      <th>47</th>\n",
       "      <td>German Democratic Republic</td>\n",
       "      <td>1988</td>\n",
       "      <td>NaN</td>\n",
       "      <td>7.12</td>\n",
       "      <td>14.39</td>\n",
       "      <td>1,457,269.16</td>\n",
       "      <td>2,119,791.68</td>\n",
       "    </tr>\n",
       "    <tr>\n",
       "      <th>48</th>\n",
       "      <td>Germany</td>\n",
       "      <td>1988</td>\n",
       "      <td>NaN</td>\n",
       "      <td>10.87</td>\n",
       "      <td>14.06</td>\n",
       "      <td>34,936,844.60</td>\n",
       "      <td>41,497,301.75</td>\n",
       "    </tr>\n",
       "    <tr>\n",
       "      <th>254</th>\n",
       "      <td>German Democratic Republic</td>\n",
       "      <td>1989</td>\n",
       "      <td>NaN</td>\n",
       "      <td>9.08</td>\n",
       "      <td>23.22</td>\n",
       "      <td>2,219,953.81</td>\n",
       "      <td>2,777,570.21</td>\n",
       "    </tr>\n",
       "    <tr>\n",
       "      <th>255</th>\n",
       "      <td>Germany</td>\n",
       "      <td>1989</td>\n",
       "      <td>3.78</td>\n",
       "      <td>14.66</td>\n",
       "      <td>23.62</td>\n",
       "      <td>56,006,031.96</td>\n",
       "      <td>74,625,428.25</td>\n",
       "    </tr>\n",
       "    <tr>\n",
       "      <th>464</th>\n",
       "      <td>German Democratic Republic</td>\n",
       "      <td>1990</td>\n",
       "      <td>NaN</td>\n",
       "      <td>38.61</td>\n",
       "      <td>20.13</td>\n",
       "      <td>2,292,162.27</td>\n",
       "      <td>2,934,573.27</td>\n",
       "    </tr>\n",
       "    <tr>\n",
       "      <th>465</th>\n",
       "      <td>Germany</td>\n",
       "      <td>1990</td>\n",
       "      <td>12.71</td>\n",
       "      <td>14.32</td>\n",
       "      <td>21.52</td>\n",
       "      <td>71,575,355.58</td>\n",
       "      <td>94,023,242.66</td>\n",
       "    </tr>\n",
       "    <tr>\n",
       "      <th>677</th>\n",
       "      <td>Germany</td>\n",
       "      <td>1991</td>\n",
       "      <td>6.56</td>\n",
       "      <td>14.67</td>\n",
       "      <td>15.62</td>\n",
       "      <td>103,376,006.33</td>\n",
       "      <td>121,689,855.99</td>\n",
       "    </tr>\n",
       "    <tr>\n",
       "      <th>892</th>\n",
       "      <td>Germany</td>\n",
       "      <td>1992</td>\n",
       "      <td>2.46</td>\n",
       "      <td>14.58</td>\n",
       "      <td>15.84</td>\n",
       "      <td>166,404,685.94</td>\n",
       "      <td>190,486,407.63</td>\n",
       "    </tr>\n",
       "    <tr>\n",
       "      <th>1124</th>\n",
       "      <td>Germany</td>\n",
       "      <td>1993</td>\n",
       "      <td>-8.40</td>\n",
       "      <td>12.30</td>\n",
       "      <td>16.10</td>\n",
       "      <td>190,361,676.92</td>\n",
       "      <td>209,670,232.14</td>\n",
       "    </tr>\n",
       "    <tr>\n",
       "      <th>1358</th>\n",
       "      <td>Germany</td>\n",
       "      <td>1994</td>\n",
       "      <td>5.54</td>\n",
       "      <td>15.87</td>\n",
       "      <td>18.65</td>\n",
       "      <td>315,745,347.69</td>\n",
       "      <td>348,752,497.10</td>\n",
       "    </tr>\n",
       "  </tbody>\n",
       "</table>\n",
       "</div>"
      ],
      "text/plain": [
       "                    Partner Name  Year  Country Growth (%)  \\\n",
       "47    German Democratic Republic  1988                 NaN   \n",
       "48                       Germany  1988                 NaN   \n",
       "254   German Democratic Republic  1989                 NaN   \n",
       "255                      Germany  1989                3.78   \n",
       "464   German Democratic Republic  1990                 NaN   \n",
       "465                      Germany  1990               12.71   \n",
       "677                      Germany  1991                6.56   \n",
       "892                      Germany  1992                2.46   \n",
       "1124                     Germany  1993               -8.40   \n",
       "1358                     Germany  1994                5.54   \n",
       "\n",
       "      AHS Simple Average (%)  MFN Simple Average (%)  Export (US$ Thousand)  \\\n",
       "47                      7.12                   14.39           1,457,269.16   \n",
       "48                     10.87                   14.06          34,936,844.60   \n",
       "254                     9.08                   23.22           2,219,953.81   \n",
       "255                    14.66                   23.62          56,006,031.96   \n",
       "464                    38.61                   20.13           2,292,162.27   \n",
       "465                    14.32                   21.52          71,575,355.58   \n",
       "677                    14.67                   15.62         103,376,006.33   \n",
       "892                    14.58                   15.84         166,404,685.94   \n",
       "1124                   12.30                   16.10         190,361,676.92   \n",
       "1358                   15.87                   18.65         315,745,347.69   \n",
       "\n",
       "      Import (US$ Thousand)  \n",
       "47             2,119,791.68  \n",
       "48            41,497,301.75  \n",
       "254            2,777,570.21  \n",
       "255           74,625,428.25  \n",
       "464            2,934,573.27  \n",
       "465           94,023,242.66  \n",
       "677          121,689,855.99  \n",
       "892          190,486,407.63  \n",
       "1124         209,670,232.14  \n",
       "1358         348,752,497.10  "
      ]
     },
     "execution_count": 6,
     "metadata": {},
     "output_type": "execute_result"
    }
   ],
   "source": [
    "# Define the columns (features) required for the analysis\n",
    "FEATURES_TO_KEEP = [\n",
    "    \"Partner Name\",\n",
    "    \"Year\",\n",
    "    \"Country Growth (%)\",\n",
    "    \"AHS Simple Average (%)\",\n",
    "    \"MFN Simple Average (%)\",\n",
    "    \"Export (US$ Thousand)\",\n",
    "    \"Import (US$ Thousand)\",\n",
    "]\n",
    "\n",
    "# Drop columns that are not necessary for the analysis\n",
    "df_filtered = df_raw[FEATURES_TO_KEEP]\n",
    "\n",
    "# Define the countries of interest\n",
    "countries_of_interest = [\"Germany\", \"German Democratic Republic\"]\n",
    "\n",
    "# Filter the DataFrame to include only records for the countries of interest\n",
    "df_germany_gdr = df_filtered[\n",
    "    df_filtered[\"Partner Name\"].isin(countries_of_interest)\n",
    "].copy()\n",
    "\n",
    "# Preview the cleaned and filtered DataFrame\n",
    "df_germany_gdr.head(10)"
   ]
  },
  {
   "cell_type": "code",
   "execution_count": 7,
   "id": "a2ce55f9",
   "metadata": {},
   "outputs": [
    {
     "data": {
      "text/html": [
       "<div>\n",
       "<style scoped>\n",
       "    .dataframe tbody tr th:only-of-type {\n",
       "        vertical-align: middle;\n",
       "    }\n",
       "\n",
       "    .dataframe tbody tr th {\n",
       "        vertical-align: top;\n",
       "    }\n",
       "\n",
       "    .dataframe thead th {\n",
       "        text-align: right;\n",
       "    }\n",
       "</style>\n",
       "<table border=\"1\" class=\"dataframe\">\n",
       "  <thead>\n",
       "    <tr style=\"text-align: right;\">\n",
       "      <th></th>\n",
       "      <th>Partner Name</th>\n",
       "      <th>Year</th>\n",
       "      <th>Country Growth (%)</th>\n",
       "      <th>AHS Simple Average (%)</th>\n",
       "      <th>MFN Simple Average (%)</th>\n",
       "      <th>Export (US$ Thousand)</th>\n",
       "      <th>Import (US$ Thousand)</th>\n",
       "    </tr>\n",
       "  </thead>\n",
       "  <tbody>\n",
       "    <tr>\n",
       "      <th>0</th>\n",
       "      <td>Germany</td>\n",
       "      <td>1988</td>\n",
       "      <td>NaN</td>\n",
       "      <td>17.99</td>\n",
       "      <td>28.45</td>\n",
       "      <td>36,394,113.76</td>\n",
       "      <td>43,617,093.43</td>\n",
       "    </tr>\n",
       "    <tr>\n",
       "      <th>1</th>\n",
       "      <td>Germany</td>\n",
       "      <td>1989</td>\n",
       "      <td>3.78</td>\n",
       "      <td>23.74</td>\n",
       "      <td>46.84</td>\n",
       "      <td>58,225,985.77</td>\n",
       "      <td>77,402,998.46</td>\n",
       "    </tr>\n",
       "    <tr>\n",
       "      <th>2</th>\n",
       "      <td>Germany</td>\n",
       "      <td>1990</td>\n",
       "      <td>12.71</td>\n",
       "      <td>52.93</td>\n",
       "      <td>41.65</td>\n",
       "      <td>73,867,517.85</td>\n",
       "      <td>96,957,815.93</td>\n",
       "    </tr>\n",
       "    <tr>\n",
       "      <th>3</th>\n",
       "      <td>Germany</td>\n",
       "      <td>1991</td>\n",
       "      <td>6.56</td>\n",
       "      <td>14.67</td>\n",
       "      <td>15.62</td>\n",
       "      <td>103,376,006.33</td>\n",
       "      <td>121,689,855.99</td>\n",
       "    </tr>\n",
       "    <tr>\n",
       "      <th>4</th>\n",
       "      <td>Germany</td>\n",
       "      <td>1992</td>\n",
       "      <td>2.46</td>\n",
       "      <td>14.58</td>\n",
       "      <td>15.84</td>\n",
       "      <td>166,404,685.94</td>\n",
       "      <td>190,486,407.63</td>\n",
       "    </tr>\n",
       "  </tbody>\n",
       "</table>\n",
       "</div>"
      ],
      "text/plain": [
       "  Partner Name  Year  Country Growth (%)  AHS Simple Average (%)  \\\n",
       "0      Germany  1988                 NaN                   17.99   \n",
       "1      Germany  1989                3.78                   23.74   \n",
       "2      Germany  1990               12.71                   52.93   \n",
       "3      Germany  1991                6.56                   14.67   \n",
       "4      Germany  1992                2.46                   14.58   \n",
       "\n",
       "   MFN Simple Average (%)  Export (US$ Thousand)  Import (US$ Thousand)  \n",
       "0                   28.45          36,394,113.76          43,617,093.43  \n",
       "1                   46.84          58,225,985.77          77,402,998.46  \n",
       "2                   41.65          73,867,517.85          96,957,815.93  \n",
       "3                   15.62         103,376,006.33         121,689,855.99  \n",
       "4                   15.84         166,404,685.94         190,486,407.63  "
      ]
     },
     "execution_count": 7,
     "metadata": {},
     "output_type": "execute_result"
    }
   ],
   "source": [
    "# Define the years for merging\n",
    "YEARS_TO_MERGE = [1988, 1989, 1990]\n",
    "\n",
    "# Split data: merge years vs keep others\n",
    "df_merge = df_germany_gdr[df_germany_gdr[\"Year\"].isin(YEARS_TO_MERGE)].copy()\n",
    "df_remaining = df_germany_gdr[~df_germany_gdr[\"Year\"].isin(YEARS_TO_MERGE)].copy()\n",
    "\n",
    "# Aggregate numeric data for merge years\n",
    "df_aggregated = df_merge.groupby(\"Year\", as_index=False).sum(numeric_only=True)\n",
    "\n",
    "# Fix incorrect 1988 growth value (was summed as 0)\n",
    "mask_1988 = (df_aggregated[\"Year\"] == 1988) & (df_aggregated[\"Country Growth (%)\"] == 0)\n",
    "df_aggregated.loc[mask_1988, \"Country Growth (%)\"] = np.nan\n",
    "\n",
    "# Assign unified partner name and keep required features\n",
    "df_aggregated[\"Partner Name\"] = \"Germany\"\n",
    "df_aggregated = df_aggregated[FEATURES_TO_KEEP]\n",
    "\n",
    "# Combine merged and remaining data\n",
    "df_final = (\n",
    "    pd.concat([df_aggregated, df_remaining])\n",
    "    .sort_values(by=\"Year\")\n",
    "    .reset_index(drop=True)\n",
    ")\n",
    "\n",
    "# Preview final dataset\n",
    "df_final.head()"
   ]
  },
  {
   "cell_type": "code",
   "execution_count": 8,
   "id": "7d1339e7",
   "metadata": {},
   "outputs": [
    {
     "name": "stdout",
     "output_type": "stream",
     "text": [
      "<class 'pandas.core.frame.DataFrame'>\n",
      "RangeIndex: 34 entries, 0 to 33\n",
      "Data columns (total 7 columns):\n",
      " #   Column                  Non-Null Count  Dtype  \n",
      "---  ------                  --------------  -----  \n",
      " 0   Partner Name            34 non-null     object \n",
      " 1   Year                    34 non-null     int64  \n",
      " 2   Country Growth (%)      33 non-null     float64\n",
      " 3   AHS Simple Average (%)  34 non-null     float64\n",
      " 4   MFN Simple Average (%)  34 non-null     float64\n",
      " 5   Export (US$ Thousand)   34 non-null     float64\n",
      " 6   Import (US$ Thousand)   34 non-null     float64\n",
      "dtypes: float64(5), int64(1), object(1)\n",
      "memory usage: 2.0+ KB\n"
     ]
    }
   ],
   "source": [
    "# Check data information\n",
    "df_final.info()"
   ]
  },
  {
   "cell_type": "code",
   "execution_count": 9,
   "id": "3484417d",
   "metadata": {},
   "outputs": [
    {
     "name": "stdout",
     "output_type": "stream",
     "text": [
      "Number of duplicate records: 0\n"
     ]
    }
   ],
   "source": [
    "# Check for duplicates in the processed data\n",
    "print(f\"Number of duplicate records: {df_final.duplicated().sum()}\")"
   ]
  },
  {
   "cell_type": "code",
   "execution_count": 10,
   "id": "8400fed7",
   "metadata": {},
   "outputs": [
    {
     "data": {
      "text/plain": [
       "Partner Name              0\n",
       "Year                      0\n",
       "Country Growth (%)        1\n",
       "AHS Simple Average (%)    0\n",
       "MFN Simple Average (%)    0\n",
       "Export (US$ Thousand)     0\n",
       "Import (US$ Thousand)     0\n",
       "dtype: int64"
      ]
     },
     "execution_count": 10,
     "metadata": {},
     "output_type": "execute_result"
    }
   ],
   "source": [
    "# Count the number of null (missing) values in each column\n",
    "df_final.isnull().sum()"
   ]
  },
  {
   "cell_type": "code",
   "execution_count": 11,
   "id": "1079ef44",
   "metadata": {},
   "outputs": [],
   "source": [
    "# Get growth rates for 1989 and 1990\n",
    "growth_1989 = df_final.loc[df_final[\"Year\"] == 1989, \"Country Growth (%)\"].values[0]\n",
    "growth_1990 = df_final.loc[df_final[\"Year\"] == 1990, \"Country Growth (%)\"].values[0]\n",
    "\n",
    "# Apply weighted interpolation: 75% for 1989, 25% for 1990\n",
    "weighted_growth_1988 = round(0.75 * growth_1989 + 0.25 * growth_1990, 2)\n",
    "\n",
    "# Fill the missing value in 1988\n",
    "df_final.loc[\n",
    "    (df_final[\"Year\"] == 1988) & (df_final[\"Country Growth (%)\"].isna()),\n",
    "    \"Country Growth (%)\",\n",
    "] = weighted_growth_1988\n",
    "\n",
    "# Convert Export and Import columns to the appropriate units\n",
    "df_final[\"Export (US$)\"] = df_final[\"Export (US$ Thousand)\"] * 1000\n",
    "df_final[\"Import (US$)\"] = df_final[\"Import (US$ Thousand)\"] * 1000"
   ]
  },
  {
   "cell_type": "code",
   "execution_count": 12,
   "id": "80363cb6",
   "metadata": {},
   "outputs": [
    {
     "data": {
      "text/html": [
       "<div>\n",
       "<style scoped>\n",
       "    .dataframe tbody tr th:only-of-type {\n",
       "        vertical-align: middle;\n",
       "    }\n",
       "\n",
       "    .dataframe tbody tr th {\n",
       "        vertical-align: top;\n",
       "    }\n",
       "\n",
       "    .dataframe thead th {\n",
       "        text-align: right;\n",
       "    }\n",
       "</style>\n",
       "<table border=\"1\" class=\"dataframe\">\n",
       "  <thead>\n",
       "    <tr style=\"text-align: right;\">\n",
       "      <th></th>\n",
       "      <th>Year</th>\n",
       "      <th>Country Growth (%)</th>\n",
       "      <th>AHS Simple Average (%)</th>\n",
       "      <th>MFN Simple Average (%)</th>\n",
       "      <th>Export (US$)</th>\n",
       "      <th>Import (US$)</th>\n",
       "    </tr>\n",
       "  </thead>\n",
       "  <tbody>\n",
       "    <tr>\n",
       "      <th>0</th>\n",
       "      <td>1988</td>\n",
       "      <td>6.01</td>\n",
       "      <td>17.99</td>\n",
       "      <td>28.45</td>\n",
       "      <td>36,394,113,760.00</td>\n",
       "      <td>43,617,093,430.00</td>\n",
       "    </tr>\n",
       "    <tr>\n",
       "      <th>1</th>\n",
       "      <td>1989</td>\n",
       "      <td>3.78</td>\n",
       "      <td>23.74</td>\n",
       "      <td>46.84</td>\n",
       "      <td>58,225,985,770.00</td>\n",
       "      <td>77,402,998,460.00</td>\n",
       "    </tr>\n",
       "    <tr>\n",
       "      <th>2</th>\n",
       "      <td>1990</td>\n",
       "      <td>12.71</td>\n",
       "      <td>52.93</td>\n",
       "      <td>41.65</td>\n",
       "      <td>73,867,517,850.00</td>\n",
       "      <td>96,957,815,930.00</td>\n",
       "    </tr>\n",
       "    <tr>\n",
       "      <th>3</th>\n",
       "      <td>1991</td>\n",
       "      <td>6.56</td>\n",
       "      <td>14.67</td>\n",
       "      <td>15.62</td>\n",
       "      <td>103,376,006,330.00</td>\n",
       "      <td>121,689,855,990.00</td>\n",
       "    </tr>\n",
       "    <tr>\n",
       "      <th>4</th>\n",
       "      <td>1992</td>\n",
       "      <td>2.46</td>\n",
       "      <td>14.58</td>\n",
       "      <td>15.84</td>\n",
       "      <td>166,404,685,940.00</td>\n",
       "      <td>190,486,407,630.00</td>\n",
       "    </tr>\n",
       "  </tbody>\n",
       "</table>\n",
       "</div>"
      ],
      "text/plain": [
       "   Year  Country Growth (%)  AHS Simple Average (%)  MFN Simple Average (%)  \\\n",
       "0  1988                6.01                   17.99                   28.45   \n",
       "1  1989                3.78                   23.74                   46.84   \n",
       "2  1990               12.71                   52.93                   41.65   \n",
       "3  1991                6.56                   14.67                   15.62   \n",
       "4  1992                2.46                   14.58                   15.84   \n",
       "\n",
       "        Export (US$)       Import (US$)  \n",
       "0  36,394,113,760.00  43,617,093,430.00  \n",
       "1  58,225,985,770.00  77,402,998,460.00  \n",
       "2  73,867,517,850.00  96,957,815,930.00  \n",
       "3 103,376,006,330.00 121,689,855,990.00  \n",
       "4 166,404,685,940.00 190,486,407,630.00  "
      ]
     },
     "execution_count": 12,
     "metadata": {},
     "output_type": "execute_result"
    }
   ],
   "source": [
    "# Drop the specified columns as they are no longer needed\n",
    "df_final.drop(\n",
    "    columns=[\"Partner Name\", \"Export (US$ Thousand)\", \"Import (US$ Thousand)\"],\n",
    "    inplace=True,\n",
    ")\n",
    "df_final.head()"
   ]
  },
  {
   "cell_type": "code",
   "execution_count": 13,
   "id": "ad8032b5",
   "metadata": {},
   "outputs": [],
   "source": [
    "# Save the processed data\n",
    "df_final.to_csv(\"../data/processed/germany_trade_data.csv\", index=False)"
   ]
  },
  {
   "cell_type": "markdown",
   "id": "547698ae",
   "metadata": {},
   "source": [
    "**Observations**\n",
    "\n",
    "After merging the records for the **German Democratic Republic** and **Germany** for the years 1988, 1989, and 1990, we observed that the `Country Growth (%)` record for the year 1988 is missing in the merged data. This occurred because the `Country Growth (%)` was unavailable for both the German Democratic Republic and Germany in 1988, resulting in a single null value in the `Country Growth (%)` column of our new DataFrame. We also confirmed that the new DataFrame contains no duplicate records and that all column datatypes are correct.\n",
    "\n",
    "To address the missing value, we didn't remove the 1988 record because dropping a point in a time-series dataset can introduce discontinuities and potential bias into the analysis. Instead, we will fill the missing value using a **weighted interpolation approach**, assigning more weight to the 1989 growth rate since it is chronologically closer to 1988, and less weight to the 1990 growth rate, which was unusually high due to the economic effects of reunification. Specifically, we apply a 75%-25% weighting between 1989 and 1990 growth rates to derive a more historically representative estimate for 1988. This method ensures continuity in the dataset while minimizing the risk of overstating 1988's economic growth due to anomalies in 1990.\n",
    "\n",
    "Finally, we dropped the `Partner Name` column because the dataset now focuses solely on Germany, making the column redundant since it contained only a single unique value. Removing it simplifies the dataset without affecting the analysis.\n",
    "\n",
    "We also converted the **'Export (US$ Thousand)'** and **'Import (US$ Thousand)'** to **'Export (US$)'** and **'Import (US$)'** by multiplying them by 1000 to remove ambiguity in the analysis results. We then dropped the original **'Export (US$ Thousand)'** and **'Import (US$ Thousand)'** columns, along with the **'Partner Name'** column.\n",
    "\n",
    "In the next section, we will load our [processed data](../data/processed/germany_trade_data.csv) and begin our exploratory data analysis and visualization."
   ]
  },
  {
   "cell_type": "markdown",
   "id": "917becbd",
   "metadata": {},
   "source": [
    "## **Phase 2: Exploratory Data Analysis (EDA) & Visualization** <a id='phase-2-exploratory-data-analysis-eda--visualization'></a>\n",
    "\n",
    "This is the core of the project. We'll use statistical and visual techniques to uncover patterns and relationships within the data."
   ]
  },
  {
   "cell_type": "markdown",
   "id": "e9c85d7c",
   "metadata": {},
   "source": [
    "### **2.1 Descriptive Statistics** <a id='21-descriptive-statistics'></a>"
   ]
  },
  {
   "cell_type": "code",
   "execution_count": 14,
   "id": "a29b793c",
   "metadata": {},
   "outputs": [
    {
     "data": {
      "text/html": [
       "<div>\n",
       "<style scoped>\n",
       "    .dataframe tbody tr th:only-of-type {\n",
       "        vertical-align: middle;\n",
       "    }\n",
       "\n",
       "    .dataframe tbody tr th {\n",
       "        vertical-align: top;\n",
       "    }\n",
       "\n",
       "    .dataframe thead th {\n",
       "        text-align: right;\n",
       "    }\n",
       "</style>\n",
       "<table border=\"1\" class=\"dataframe\">\n",
       "  <thead>\n",
       "    <tr style=\"text-align: right;\">\n",
       "      <th></th>\n",
       "      <th>Year</th>\n",
       "      <th>Country Growth (%)</th>\n",
       "      <th>AHS Simple Average (%)</th>\n",
       "      <th>MFN Simple Average (%)</th>\n",
       "      <th>Export (US$)</th>\n",
       "      <th>Import (US$)</th>\n",
       "    </tr>\n",
       "  </thead>\n",
       "  <tbody>\n",
       "    <tr>\n",
       "      <th>29</th>\n",
       "      <td>2017</td>\n",
       "      <td>2.73</td>\n",
       "      <td>5.66</td>\n",
       "      <td>8.36</td>\n",
       "      <td>1,063,050,623,690.00</td>\n",
       "      <td>1,342,854,801,130.00</td>\n",
       "    </tr>\n",
       "    <tr>\n",
       "      <th>30</th>\n",
       "      <td>2018</td>\n",
       "      <td>7.45</td>\n",
       "      <td>6.10</td>\n",
       "      <td>8.74</td>\n",
       "      <td>1,182,722,787,690.00</td>\n",
       "      <td>1,442,346,350,390.00</td>\n",
       "    </tr>\n",
       "    <tr>\n",
       "      <th>31</th>\n",
       "      <td>2019</td>\n",
       "      <td>-2.06</td>\n",
       "      <td>7.06</td>\n",
       "      <td>9.19</td>\n",
       "      <td>1,138,191,259,210.00</td>\n",
       "      <td>1,367,050,118,960.00</td>\n",
       "    </tr>\n",
       "    <tr>\n",
       "      <th>32</th>\n",
       "      <td>2020</td>\n",
       "      <td>-2.73</td>\n",
       "      <td>6.12</td>\n",
       "      <td>8.30</td>\n",
       "      <td>1,092,044,662,420.00</td>\n",
       "      <td>1,291,639,475,470.00</td>\n",
       "    </tr>\n",
       "    <tr>\n",
       "      <th>33</th>\n",
       "      <td>2021</td>\n",
       "      <td>10.20</td>\n",
       "      <td>5.76</td>\n",
       "      <td>8.52</td>\n",
       "      <td>1,353,626,272,540.00</td>\n",
       "      <td>1,538,830,199,200.00</td>\n",
       "    </tr>\n",
       "  </tbody>\n",
       "</table>\n",
       "</div>"
      ],
      "text/plain": [
       "    Year  Country Growth (%)  AHS Simple Average (%)  MFN Simple Average (%)  \\\n",
       "29  2017                2.73                    5.66                    8.36   \n",
       "30  2018                7.45                    6.10                    8.74   \n",
       "31  2019               -2.06                    7.06                    9.19   \n",
       "32  2020               -2.73                    6.12                    8.30   \n",
       "33  2021               10.20                    5.76                    8.52   \n",
       "\n",
       "           Export (US$)         Import (US$)  \n",
       "29 1,063,050,623,690.00 1,342,854,801,130.00  \n",
       "30 1,182,722,787,690.00 1,442,346,350,390.00  \n",
       "31 1,138,191,259,210.00 1,367,050,118,960.00  \n",
       "32 1,092,044,662,420.00 1,291,639,475,470.00  \n",
       "33 1,353,626,272,540.00 1,538,830,199,200.00  "
      ]
     },
     "execution_count": 14,
     "metadata": {},
     "output_type": "execute_result"
    }
   ],
   "source": [
    "# Load and preview the processed data\n",
    "ger_trade = pd.read_csv(\"../data/processed/germany_trade_data.csv\")\n",
    "ger_trade.tail()"
   ]
  },
  {
   "cell_type": "code",
   "execution_count": 15,
   "id": "0777a152",
   "metadata": {},
   "outputs": [
    {
     "name": "stdout",
     "output_type": "stream",
     "text": [
      "Measures of Central Tendency:\n"
     ]
    },
    {
     "data": {
      "text/html": [
       "<div>\n",
       "<style scoped>\n",
       "    .dataframe tbody tr th:only-of-type {\n",
       "        vertical-align: middle;\n",
       "    }\n",
       "\n",
       "    .dataframe tbody tr th {\n",
       "        vertical-align: top;\n",
       "    }\n",
       "\n",
       "    .dataframe thead th {\n",
       "        text-align: right;\n",
       "    }\n",
       "</style>\n",
       "<table border=\"1\" class=\"dataframe\">\n",
       "  <thead>\n",
       "    <tr style=\"text-align: right;\">\n",
       "      <th></th>\n",
       "      <th>Mean</th>\n",
       "      <th>Median</th>\n",
       "      <th>Mode</th>\n",
       "    </tr>\n",
       "  </thead>\n",
       "  <tbody>\n",
       "    <tr>\n",
       "      <th>Year</th>\n",
       "      <td>2,004.50</td>\n",
       "      <td>2,004.50</td>\n",
       "      <td>1,988.00</td>\n",
       "    </tr>\n",
       "    <tr>\n",
       "      <th>Country Growth (%)</th>\n",
       "      <td>2.93</td>\n",
       "      <td>2.85</td>\n",
       "      <td>2.85</td>\n",
       "    </tr>\n",
       "    <tr>\n",
       "      <th>AHS Simple Average (%)</th>\n",
       "      <td>10.95</td>\n",
       "      <td>8.68</td>\n",
       "      <td>7.24</td>\n",
       "    </tr>\n",
       "    <tr>\n",
       "      <th>MFN Simple Average (%)</th>\n",
       "      <td>13.33</td>\n",
       "      <td>9.70</td>\n",
       "      <td>8.30</td>\n",
       "    </tr>\n",
       "    <tr>\n",
       "      <th>Export (US$)</th>\n",
       "      <td>685,184,509,489.41</td>\n",
       "      <td>702,868,423,590.00</td>\n",
       "      <td>36,394,113,760.00</td>\n",
       "    </tr>\n",
       "    <tr>\n",
       "      <th>Import (US$)</th>\n",
       "      <td>837,879,149,312.65</td>\n",
       "      <td>894,765,282,100.00</td>\n",
       "      <td>43,617,093,430.00</td>\n",
       "    </tr>\n",
       "  </tbody>\n",
       "</table>\n",
       "</div>"
      ],
      "text/plain": [
       "                                     Mean             Median              Mode\n",
       "Year                             2,004.50           2,004.50          1,988.00\n",
       "Country Growth (%)                   2.93               2.85              2.85\n",
       "AHS Simple Average (%)              10.95               8.68              7.24\n",
       "MFN Simple Average (%)              13.33               9.70              8.30\n",
       "Export (US$)           685,184,509,489.41 702,868,423,590.00 36,394,113,760.00\n",
       "Import (US$)           837,879,149,312.65 894,765,282,100.00 43,617,093,430.00"
      ]
     },
     "execution_count": 15,
     "metadata": {},
     "output_type": "execute_result"
    }
   ],
   "source": [
    "# Calculate measures of central tendency\n",
    "central_tendency = pd.DataFrame(\n",
    "    {\n",
    "        \"Mean\": ger_trade.mean(numeric_only=True),\n",
    "        \"Median\": ger_trade.median(numeric_only=True),\n",
    "        \"Mode\": ger_trade.mode(numeric_only=True).iloc[0],\n",
    "    }\n",
    ")\n",
    "\n",
    "print(\"Measures of Central Tendency:\")\n",
    "central_tendency"
   ]
  },
  {
   "cell_type": "code",
   "execution_count": 16,
   "id": "52cbebf4",
   "metadata": {},
   "outputs": [
    {
     "name": "stdout",
     "output_type": "stream",
     "text": [
      "Measures of Dispersion:\n"
     ]
    },
    {
     "data": {
      "text/html": [
       "<div>\n",
       "<style scoped>\n",
       "    .dataframe tbody tr th:only-of-type {\n",
       "        vertical-align: middle;\n",
       "    }\n",
       "\n",
       "    .dataframe tbody tr th {\n",
       "        vertical-align: top;\n",
       "    }\n",
       "\n",
       "    .dataframe thead th {\n",
       "        text-align: right;\n",
       "    }\n",
       "</style>\n",
       "<table border=\"1\" class=\"dataframe\">\n",
       "  <thead>\n",
       "    <tr style=\"text-align: right;\">\n",
       "      <th></th>\n",
       "      <th>Year</th>\n",
       "      <th>Country Growth (%)</th>\n",
       "      <th>AHS Simple Average (%)</th>\n",
       "      <th>MFN Simple Average (%)</th>\n",
       "      <th>Export (US$)</th>\n",
       "      <th>Import (US$)</th>\n",
       "    </tr>\n",
       "  </thead>\n",
       "  <tbody>\n",
       "    <tr>\n",
       "      <th>Variance</th>\n",
       "      <td>99.17</td>\n",
       "      <td>33.08</td>\n",
       "      <td>70.93</td>\n",
       "      <td>78.19</td>\n",
       "      <td>152,285,252,042,982,913,212,416.00</td>\n",
       "      <td>238,995,245,526,099,563,642,880.00</td>\n",
       "    </tr>\n",
       "    <tr>\n",
       "      <th>Std Dev</th>\n",
       "      <td>9.96</td>\n",
       "      <td>5.75</td>\n",
       "      <td>8.42</td>\n",
       "      <td>8.84</td>\n",
       "      <td>390,237,430,345.92</td>\n",
       "      <td>488,871,399,783.32</td>\n",
       "    </tr>\n",
       "    <tr>\n",
       "      <th>Minimum</th>\n",
       "      <td>1,988.00</td>\n",
       "      <td>-11.75</td>\n",
       "      <td>5.66</td>\n",
       "      <td>8.30</td>\n",
       "      <td>36,394,113,760.00</td>\n",
       "      <td>43,617,093,430.00</td>\n",
       "    </tr>\n",
       "    <tr>\n",
       "      <th>Maximum</th>\n",
       "      <td>2,021.00</td>\n",
       "      <td>12.71</td>\n",
       "      <td>52.93</td>\n",
       "      <td>46.84</td>\n",
       "      <td>1,353,626,272,540.00</td>\n",
       "      <td>1,538,830,199,200.00</td>\n",
       "    </tr>\n",
       "    <tr>\n",
       "      <th>Range</th>\n",
       "      <td>33.00</td>\n",
       "      <td>24.46</td>\n",
       "      <td>47.27</td>\n",
       "      <td>38.54</td>\n",
       "      <td>1,317,232,158,780.00</td>\n",
       "      <td>1,495,213,105,770.00</td>\n",
       "    </tr>\n",
       "    <tr>\n",
       "      <th>IQR</th>\n",
       "      <td>16.50</td>\n",
       "      <td>7.50</td>\n",
       "      <td>4.19</td>\n",
       "      <td>4.26</td>\n",
       "      <td>631,709,721,112.50</td>\n",
       "      <td>828,307,563,655.00</td>\n",
       "    </tr>\n",
       "  </tbody>\n",
       "</table>\n",
       "</div>"
      ],
      "text/plain": [
       "             Year  Country Growth (%)  AHS Simple Average (%)  \\\n",
       "Variance    99.17               33.08                   70.93   \n",
       "Std Dev      9.96                5.75                    8.42   \n",
       "Minimum  1,988.00              -11.75                    5.66   \n",
       "Maximum  2,021.00               12.71                   52.93   \n",
       "Range       33.00               24.46                   47.27   \n",
       "IQR         16.50                7.50                    4.19   \n",
       "\n",
       "          MFN Simple Average (%)                       Export (US$)  \\\n",
       "Variance                   78.19 152,285,252,042,982,913,212,416.00   \n",
       "Std Dev                     8.84                 390,237,430,345.92   \n",
       "Minimum                     8.30                  36,394,113,760.00   \n",
       "Maximum                    46.84               1,353,626,272,540.00   \n",
       "Range                      38.54               1,317,232,158,780.00   \n",
       "IQR                         4.26                 631,709,721,112.50   \n",
       "\n",
       "                               Import (US$)  \n",
       "Variance 238,995,245,526,099,563,642,880.00  \n",
       "Std Dev                  488,871,399,783.32  \n",
       "Minimum                   43,617,093,430.00  \n",
       "Maximum                1,538,830,199,200.00  \n",
       "Range                  1,495,213,105,770.00  \n",
       "IQR                      828,307,563,655.00  "
      ]
     },
     "execution_count": 16,
     "metadata": {},
     "output_type": "execute_result"
    }
   ],
   "source": [
    "# Calculate measures of dispersion\n",
    "dispersion = pd.DataFrame(\n",
    "    {\n",
    "        \"Variance\": ger_trade.var(numeric_only=True),\n",
    "        \"Std Dev\": ger_trade.std(numeric_only=True),\n",
    "        \"Minimum\": ger_trade.min(numeric_only=True),\n",
    "        \"Maximum\": ger_trade.max(numeric_only=True),\n",
    "        \"Range\": ger_trade.max(numeric_only=True) - ger_trade.min(numeric_only=True),\n",
    "        \"IQR\": ger_trade.quantile(0.75, numeric_only=True)\n",
    "        - ger_trade.quantile(0.25, numeric_only=True),\n",
    "    }\n",
    ")\n",
    "\n",
    "print(\"Measures of Dispersion:\")\n",
    "dispersion.T"
   ]
  },
  {
   "cell_type": "code",
   "execution_count": 17,
   "id": "7883c6a2",
   "metadata": {},
   "outputs": [
    {
     "name": "stdout",
     "output_type": "stream",
     "text": [
      "Distribution Statistics:\n"
     ]
    },
    {
     "data": {
      "text/html": [
       "<div>\n",
       "<style scoped>\n",
       "    .dataframe tbody tr th:only-of-type {\n",
       "        vertical-align: middle;\n",
       "    }\n",
       "\n",
       "    .dataframe tbody tr th {\n",
       "        vertical-align: top;\n",
       "    }\n",
       "\n",
       "    .dataframe thead th {\n",
       "        text-align: right;\n",
       "    }\n",
       "</style>\n",
       "<table border=\"1\" class=\"dataframe\">\n",
       "  <thead>\n",
       "    <tr style=\"text-align: right;\">\n",
       "      <th></th>\n",
       "      <th>Skewness</th>\n",
       "      <th>Kurtosis</th>\n",
       "    </tr>\n",
       "  </thead>\n",
       "  <tbody>\n",
       "    <tr>\n",
       "      <th>Year</th>\n",
       "      <td>0.00</td>\n",
       "      <td>-1.20</td>\n",
       "    </tr>\n",
       "    <tr>\n",
       "      <th>Country Growth (%)</th>\n",
       "      <td>-0.54</td>\n",
       "      <td>0.05</td>\n",
       "    </tr>\n",
       "    <tr>\n",
       "      <th>AHS Simple Average (%)</th>\n",
       "      <td>4.06</td>\n",
       "      <td>19.40</td>\n",
       "    </tr>\n",
       "    <tr>\n",
       "      <th>MFN Simple Average (%)</th>\n",
       "      <td>2.90</td>\n",
       "      <td>8.40</td>\n",
       "    </tr>\n",
       "    <tr>\n",
       "      <th>Export (US$)</th>\n",
       "      <td>-0.17</td>\n",
       "      <td>-1.30</td>\n",
       "    </tr>\n",
       "    <tr>\n",
       "      <th>Import (US$)</th>\n",
       "      <td>-0.20</td>\n",
       "      <td>-1.49</td>\n",
       "    </tr>\n",
       "  </tbody>\n",
       "</table>\n",
       "</div>"
      ],
      "text/plain": [
       "                        Skewness  Kurtosis\n",
       "Year                        0.00     -1.20\n",
       "Country Growth (%)         -0.54      0.05\n",
       "AHS Simple Average (%)      4.06     19.40\n",
       "MFN Simple Average (%)      2.90      8.40\n",
       "Export (US$)               -0.17     -1.30\n",
       "Import (US$)               -0.20     -1.49"
      ]
     },
     "execution_count": 17,
     "metadata": {},
     "output_type": "execute_result"
    }
   ],
   "source": [
    "# Calculate skewness and kurtosis\n",
    "distribution_stats = pd.DataFrame(\n",
    "    {\n",
    "        \"Skewness\": ger_trade.skew(numeric_only=True),\n",
    "        \"Kurtosis\": ger_trade.kurtosis(numeric_only=True),\n",
    "    }\n",
    ")\n",
    "\n",
    "print(\"Distribution Statistics:\")\n",
    "distribution_stats"
   ]
  },
  {
   "cell_type": "code",
   "execution_count": 18,
   "id": "8c755bc1",
   "metadata": {},
   "outputs": [
    {
     "data": {
      "text/html": [
       "<div>\n",
       "<style scoped>\n",
       "    .dataframe tbody tr th:only-of-type {\n",
       "        vertical-align: middle;\n",
       "    }\n",
       "\n",
       "    .dataframe tbody tr th {\n",
       "        vertical-align: top;\n",
       "    }\n",
       "\n",
       "    .dataframe thead th {\n",
       "        text-align: right;\n",
       "    }\n",
       "</style>\n",
       "<table border=\"1\" class=\"dataframe\">\n",
       "  <thead>\n",
       "    <tr style=\"text-align: right;\">\n",
       "      <th></th>\n",
       "      <th>Column</th>\n",
       "      <th>Statistic</th>\n",
       "      <th>P-value</th>\n",
       "      <th>Normal Distribution</th>\n",
       "    </tr>\n",
       "  </thead>\n",
       "  <tbody>\n",
       "    <tr>\n",
       "      <th>0</th>\n",
       "      <td>Year</td>\n",
       "      <td>0.96</td>\n",
       "      <td>0.20</td>\n",
       "      <td>Yes</td>\n",
       "    </tr>\n",
       "    <tr>\n",
       "      <th>1</th>\n",
       "      <td>Country Growth (%)</td>\n",
       "      <td>0.97</td>\n",
       "      <td>0.52</td>\n",
       "      <td>Yes</td>\n",
       "    </tr>\n",
       "    <tr>\n",
       "      <th>2</th>\n",
       "      <td>AHS Simple Average (%)</td>\n",
       "      <td>0.54</td>\n",
       "      <td>0.00</td>\n",
       "      <td>No</td>\n",
       "    </tr>\n",
       "    <tr>\n",
       "      <th>3</th>\n",
       "      <td>MFN Simple Average (%)</td>\n",
       "      <td>0.57</td>\n",
       "      <td>0.00</td>\n",
       "      <td>No</td>\n",
       "    </tr>\n",
       "    <tr>\n",
       "      <th>4</th>\n",
       "      <td>Export (US$)</td>\n",
       "      <td>0.92</td>\n",
       "      <td>0.02</td>\n",
       "      <td>No</td>\n",
       "    </tr>\n",
       "    <tr>\n",
       "      <th>5</th>\n",
       "      <td>Import (US$)</td>\n",
       "      <td>0.90</td>\n",
       "      <td>0.00</td>\n",
       "      <td>No</td>\n",
       "    </tr>\n",
       "  </tbody>\n",
       "</table>\n",
       "</div>"
      ],
      "text/plain": [
       "                   Column  Statistic  P-value Normal Distribution\n",
       "0                    Year       0.96     0.20                 Yes\n",
       "1      Country Growth (%)       0.97     0.52                 Yes\n",
       "2  AHS Simple Average (%)       0.54     0.00                  No\n",
       "3  MFN Simple Average (%)       0.57     0.00                  No\n",
       "4            Export (US$)       0.92     0.02                  No\n",
       "5            Import (US$)       0.90     0.00                  No"
      ]
     },
     "execution_count": 18,
     "metadata": {},
     "output_type": "execute_result"
    }
   ],
   "source": [
    "# Perform Shapiro-Wilk test for normality and store results in a DataFrame\n",
    "results = []\n",
    "for column in ger_trade.select_dtypes(include=[np.number]).columns:\n",
    "    statistic, p_value = stats.shapiro(ger_trade[column])\n",
    "    results.append(\n",
    "        {\n",
    "            \"Column\": column,\n",
    "            \"Statistic\": round(statistic, 4),\n",
    "            \"P-value\": round(p_value, 4),\n",
    "            \"Normal Distribution\": \"Yes\" if p_value > 0.05 else \"No\",\n",
    "        }\n",
    "    )\n",
    "\n",
    "# Convert to DataFrame\n",
    "shapiro_df = pd.DataFrame(results)\n",
    "shapiro_df"
   ]
  },
  {
   "cell_type": "code",
   "execution_count": 19,
   "id": "b99b5544",
   "metadata": {},
   "outputs": [
    {
     "data": {
      "application/vnd.plotly.v1+json": {
       "config": {
        "plotlyServerURL": "https://plot.ly"
       },
       "data": [
        {
         "coloraxis": "coloraxis",
         "hovertemplate": "x: %{x}<br>y: %{y}<br>color: %{z}<extra></extra>",
         "name": "0",
         "type": "heatmap",
         "x": [
          "Year",
          "Country Growth (%)",
          "AHS Simple Average (%)",
          "MFN Simple Average (%)",
          "Export (US$)",
          "Import (US$)"
         ],
         "xaxis": "x",
         "y": [
          "Year",
          "Country Growth (%)",
          "AHS Simple Average (%)",
          "MFN Simple Average (%)",
          "Export (US$)",
          "Import (US$)"
         ],
         "yaxis": "y",
         "z": {
          "bdata": "AAAAAAAA8D9BEu2KzZHEv71WKcs1/uO/ES/x2Q+c5b8akbHTB+/uP1Z4gy0Lz+4/QRLtis2RxL8AAAAAAADwP8ABUY7GHdU/+J0RDtKwzT/Aj30Snbmwv7RKMCdXtrC/vVYpyzX+47/AAVGOxh3VPwAAAAAAAPA/TExUZRR06z/z0R7bCovkv4hYss5iS+S/ES/x2Q+c5b/4nREO0rDNP0xMVGUUdOs/AAAAAAAA8D/URdHfwzDmv90web2/6+W/GpGx0wfv7j/Aj30Snbmwv/PRHtsKi+S/1EXR38Mw5r8AAAAAAADwP/4UlHpn5e8/VniDLQvP7j+0SjAnV7awv4hYss5iS+S/3TB5vb/r5b/+FJR6Z+XvPwAAAAAAAPA/",
          "dtype": "f8",
          "shape": "6, 6"
         }
        }
       ],
       "layout": {
        "coloraxis": {
         "colorscale": [
          [
           0,
           "rgb(103,0,31)"
          ],
          [
           0.1,
           "rgb(178,24,43)"
          ],
          [
           0.2,
           "rgb(214,96,77)"
          ],
          [
           0.3,
           "rgb(244,165,130)"
          ],
          [
           0.4,
           "rgb(253,219,199)"
          ],
          [
           0.5,
           "rgb(247,247,247)"
          ],
          [
           0.6,
           "rgb(209,229,240)"
          ],
          [
           0.7,
           "rgb(146,197,222)"
          ],
          [
           0.8,
           "rgb(67,147,195)"
          ],
          [
           0.9,
           "rgb(33,102,172)"
          ],
          [
           1,
           "rgb(5,48,97)"
          ]
         ]
        },
        "template": {
         "data": {
          "bar": [
           {
            "error_x": {
             "color": "#2a3f5f"
            },
            "error_y": {
             "color": "#2a3f5f"
            },
            "marker": {
             "line": {
              "color": "#E5ECF6",
              "width": 0.5
             },
             "pattern": {
              "fillmode": "overlay",
              "size": 10,
              "solidity": 0.2
             }
            },
            "type": "bar"
           }
          ],
          "barpolar": [
           {
            "marker": {
             "line": {
              "color": "#E5ECF6",
              "width": 0.5
             },
             "pattern": {
              "fillmode": "overlay",
              "size": 10,
              "solidity": 0.2
             }
            },
            "type": "barpolar"
           }
          ],
          "carpet": [
           {
            "aaxis": {
             "endlinecolor": "#2a3f5f",
             "gridcolor": "white",
             "linecolor": "white",
             "minorgridcolor": "white",
             "startlinecolor": "#2a3f5f"
            },
            "baxis": {
             "endlinecolor": "#2a3f5f",
             "gridcolor": "white",
             "linecolor": "white",
             "minorgridcolor": "white",
             "startlinecolor": "#2a3f5f"
            },
            "type": "carpet"
           }
          ],
          "choropleth": [
           {
            "colorbar": {
             "outlinewidth": 0,
             "ticks": ""
            },
            "type": "choropleth"
           }
          ],
          "contour": [
           {
            "colorbar": {
             "outlinewidth": 0,
             "ticks": ""
            },
            "colorscale": [
             [
              0,
              "#0d0887"
             ],
             [
              0.1111111111111111,
              "#46039f"
             ],
             [
              0.2222222222222222,
              "#7201a8"
             ],
             [
              0.3333333333333333,
              "#9c179e"
             ],
             [
              0.4444444444444444,
              "#bd3786"
             ],
             [
              0.5555555555555556,
              "#d8576b"
             ],
             [
              0.6666666666666666,
              "#ed7953"
             ],
             [
              0.7777777777777778,
              "#fb9f3a"
             ],
             [
              0.8888888888888888,
              "#fdca26"
             ],
             [
              1,
              "#f0f921"
             ]
            ],
            "type": "contour"
           }
          ],
          "contourcarpet": [
           {
            "colorbar": {
             "outlinewidth": 0,
             "ticks": ""
            },
            "type": "contourcarpet"
           }
          ],
          "heatmap": [
           {
            "colorbar": {
             "outlinewidth": 0,
             "ticks": ""
            },
            "colorscale": [
             [
              0,
              "#0d0887"
             ],
             [
              0.1111111111111111,
              "#46039f"
             ],
             [
              0.2222222222222222,
              "#7201a8"
             ],
             [
              0.3333333333333333,
              "#9c179e"
             ],
             [
              0.4444444444444444,
              "#bd3786"
             ],
             [
              0.5555555555555556,
              "#d8576b"
             ],
             [
              0.6666666666666666,
              "#ed7953"
             ],
             [
              0.7777777777777778,
              "#fb9f3a"
             ],
             [
              0.8888888888888888,
              "#fdca26"
             ],
             [
              1,
              "#f0f921"
             ]
            ],
            "type": "heatmap"
           }
          ],
          "histogram": [
           {
            "marker": {
             "pattern": {
              "fillmode": "overlay",
              "size": 10,
              "solidity": 0.2
             }
            },
            "type": "histogram"
           }
          ],
          "histogram2d": [
           {
            "colorbar": {
             "outlinewidth": 0,
             "ticks": ""
            },
            "colorscale": [
             [
              0,
              "#0d0887"
             ],
             [
              0.1111111111111111,
              "#46039f"
             ],
             [
              0.2222222222222222,
              "#7201a8"
             ],
             [
              0.3333333333333333,
              "#9c179e"
             ],
             [
              0.4444444444444444,
              "#bd3786"
             ],
             [
              0.5555555555555556,
              "#d8576b"
             ],
             [
              0.6666666666666666,
              "#ed7953"
             ],
             [
              0.7777777777777778,
              "#fb9f3a"
             ],
             [
              0.8888888888888888,
              "#fdca26"
             ],
             [
              1,
              "#f0f921"
             ]
            ],
            "type": "histogram2d"
           }
          ],
          "histogram2dcontour": [
           {
            "colorbar": {
             "outlinewidth": 0,
             "ticks": ""
            },
            "colorscale": [
             [
              0,
              "#0d0887"
             ],
             [
              0.1111111111111111,
              "#46039f"
             ],
             [
              0.2222222222222222,
              "#7201a8"
             ],
             [
              0.3333333333333333,
              "#9c179e"
             ],
             [
              0.4444444444444444,
              "#bd3786"
             ],
             [
              0.5555555555555556,
              "#d8576b"
             ],
             [
              0.6666666666666666,
              "#ed7953"
             ],
             [
              0.7777777777777778,
              "#fb9f3a"
             ],
             [
              0.8888888888888888,
              "#fdca26"
             ],
             [
              1,
              "#f0f921"
             ]
            ],
            "type": "histogram2dcontour"
           }
          ],
          "mesh3d": [
           {
            "colorbar": {
             "outlinewidth": 0,
             "ticks": ""
            },
            "type": "mesh3d"
           }
          ],
          "parcoords": [
           {
            "line": {
             "colorbar": {
              "outlinewidth": 0,
              "ticks": ""
             }
            },
            "type": "parcoords"
           }
          ],
          "pie": [
           {
            "automargin": true,
            "type": "pie"
           }
          ],
          "scatter": [
           {
            "fillpattern": {
             "fillmode": "overlay",
             "size": 10,
             "solidity": 0.2
            },
            "type": "scatter"
           }
          ],
          "scatter3d": [
           {
            "line": {
             "colorbar": {
              "outlinewidth": 0,
              "ticks": ""
             }
            },
            "marker": {
             "colorbar": {
              "outlinewidth": 0,
              "ticks": ""
             }
            },
            "type": "scatter3d"
           }
          ],
          "scattercarpet": [
           {
            "marker": {
             "colorbar": {
              "outlinewidth": 0,
              "ticks": ""
             }
            },
            "type": "scattercarpet"
           }
          ],
          "scattergeo": [
           {
            "marker": {
             "colorbar": {
              "outlinewidth": 0,
              "ticks": ""
             }
            },
            "type": "scattergeo"
           }
          ],
          "scattergl": [
           {
            "marker": {
             "colorbar": {
              "outlinewidth": 0,
              "ticks": ""
             }
            },
            "type": "scattergl"
           }
          ],
          "scattermap": [
           {
            "marker": {
             "colorbar": {
              "outlinewidth": 0,
              "ticks": ""
             }
            },
            "type": "scattermap"
           }
          ],
          "scattermapbox": [
           {
            "marker": {
             "colorbar": {
              "outlinewidth": 0,
              "ticks": ""
             }
            },
            "type": "scattermapbox"
           }
          ],
          "scatterpolar": [
           {
            "marker": {
             "colorbar": {
              "outlinewidth": 0,
              "ticks": ""
             }
            },
            "type": "scatterpolar"
           }
          ],
          "scatterpolargl": [
           {
            "marker": {
             "colorbar": {
              "outlinewidth": 0,
              "ticks": ""
             }
            },
            "type": "scatterpolargl"
           }
          ],
          "scatterternary": [
           {
            "marker": {
             "colorbar": {
              "outlinewidth": 0,
              "ticks": ""
             }
            },
            "type": "scatterternary"
           }
          ],
          "surface": [
           {
            "colorbar": {
             "outlinewidth": 0,
             "ticks": ""
            },
            "colorscale": [
             [
              0,
              "#0d0887"
             ],
             [
              0.1111111111111111,
              "#46039f"
             ],
             [
              0.2222222222222222,
              "#7201a8"
             ],
             [
              0.3333333333333333,
              "#9c179e"
             ],
             [
              0.4444444444444444,
              "#bd3786"
             ],
             [
              0.5555555555555556,
              "#d8576b"
             ],
             [
              0.6666666666666666,
              "#ed7953"
             ],
             [
              0.7777777777777778,
              "#fb9f3a"
             ],
             [
              0.8888888888888888,
              "#fdca26"
             ],
             [
              1,
              "#f0f921"
             ]
            ],
            "type": "surface"
           }
          ],
          "table": [
           {
            "cells": {
             "fill": {
              "color": "#EBF0F8"
             },
             "line": {
              "color": "white"
             }
            },
            "header": {
             "fill": {
              "color": "#C8D4E3"
             },
             "line": {
              "color": "white"
             }
            },
            "type": "table"
           }
          ]
         },
         "layout": {
          "annotationdefaults": {
           "arrowcolor": "#2a3f5f",
           "arrowhead": 0,
           "arrowwidth": 1
          },
          "autotypenumbers": "strict",
          "coloraxis": {
           "colorbar": {
            "outlinewidth": 0,
            "ticks": ""
           }
          },
          "colorscale": {
           "diverging": [
            [
             0,
             "#8e0152"
            ],
            [
             0.1,
             "#c51b7d"
            ],
            [
             0.2,
             "#de77ae"
            ],
            [
             0.3,
             "#f1b6da"
            ],
            [
             0.4,
             "#fde0ef"
            ],
            [
             0.5,
             "#f7f7f7"
            ],
            [
             0.6,
             "#e6f5d0"
            ],
            [
             0.7,
             "#b8e186"
            ],
            [
             0.8,
             "#7fbc41"
            ],
            [
             0.9,
             "#4d9221"
            ],
            [
             1,
             "#276419"
            ]
           ],
           "sequential": [
            [
             0,
             "#0d0887"
            ],
            [
             0.1111111111111111,
             "#46039f"
            ],
            [
             0.2222222222222222,
             "#7201a8"
            ],
            [
             0.3333333333333333,
             "#9c179e"
            ],
            [
             0.4444444444444444,
             "#bd3786"
            ],
            [
             0.5555555555555556,
             "#d8576b"
            ],
            [
             0.6666666666666666,
             "#ed7953"
            ],
            [
             0.7777777777777778,
             "#fb9f3a"
            ],
            [
             0.8888888888888888,
             "#fdca26"
            ],
            [
             1,
             "#f0f921"
            ]
           ],
           "sequentialminus": [
            [
             0,
             "#0d0887"
            ],
            [
             0.1111111111111111,
             "#46039f"
            ],
            [
             0.2222222222222222,
             "#7201a8"
            ],
            [
             0.3333333333333333,
             "#9c179e"
            ],
            [
             0.4444444444444444,
             "#bd3786"
            ],
            [
             0.5555555555555556,
             "#d8576b"
            ],
            [
             0.6666666666666666,
             "#ed7953"
            ],
            [
             0.7777777777777778,
             "#fb9f3a"
            ],
            [
             0.8888888888888888,
             "#fdca26"
            ],
            [
             1,
             "#f0f921"
            ]
           ]
          },
          "colorway": [
           "#636efa",
           "#EF553B",
           "#00cc96",
           "#ab63fa",
           "#FFA15A",
           "#19d3f3",
           "#FF6692",
           "#B6E880",
           "#FF97FF",
           "#FECB52"
          ],
          "font": {
           "color": "#2a3f5f"
          },
          "geo": {
           "bgcolor": "white",
           "lakecolor": "white",
           "landcolor": "#E5ECF6",
           "showlakes": true,
           "showland": true,
           "subunitcolor": "white"
          },
          "hoverlabel": {
           "align": "left"
          },
          "hovermode": "closest",
          "mapbox": {
           "style": "light"
          },
          "paper_bgcolor": "white",
          "plot_bgcolor": "#E5ECF6",
          "polar": {
           "angularaxis": {
            "gridcolor": "white",
            "linecolor": "white",
            "ticks": ""
           },
           "bgcolor": "#E5ECF6",
           "radialaxis": {
            "gridcolor": "white",
            "linecolor": "white",
            "ticks": ""
           }
          },
          "scene": {
           "xaxis": {
            "backgroundcolor": "#E5ECF6",
            "gridcolor": "white",
            "gridwidth": 2,
            "linecolor": "white",
            "showbackground": true,
            "ticks": "",
            "zerolinecolor": "white"
           },
           "yaxis": {
            "backgroundcolor": "#E5ECF6",
            "gridcolor": "white",
            "gridwidth": 2,
            "linecolor": "white",
            "showbackground": true,
            "ticks": "",
            "zerolinecolor": "white"
           },
           "zaxis": {
            "backgroundcolor": "#E5ECF6",
            "gridcolor": "white",
            "gridwidth": 2,
            "linecolor": "white",
            "showbackground": true,
            "ticks": "",
            "zerolinecolor": "white"
           }
          },
          "shapedefaults": {
           "line": {
            "color": "#2a3f5f"
           }
          },
          "ternary": {
           "aaxis": {
            "gridcolor": "white",
            "linecolor": "white",
            "ticks": ""
           },
           "baxis": {
            "gridcolor": "white",
            "linecolor": "white",
            "ticks": ""
           },
           "bgcolor": "#E5ECF6",
           "caxis": {
            "gridcolor": "white",
            "linecolor": "white",
            "ticks": ""
           }
          },
          "title": {
           "x": 0.05
          },
          "xaxis": {
           "automargin": true,
           "gridcolor": "white",
           "linecolor": "white",
           "ticks": "",
           "title": {
            "standoff": 15
           },
           "zerolinecolor": "white",
           "zerolinewidth": 2
          },
          "yaxis": {
           "automargin": true,
           "gridcolor": "white",
           "linecolor": "white",
           "ticks": "",
           "title": {
            "standoff": 15
           },
           "zerolinecolor": "white",
           "zerolinewidth": 2
          }
         }
        },
        "title": {
         "text": "Correlation Matrix Heatmap"
        },
        "xaxis": {
         "anchor": "y",
         "domain": [
          0,
          1
         ]
        },
        "yaxis": {
         "anchor": "x",
         "autorange": "reversed",
         "domain": [
          0,
          1
         ]
        }
       }
      }
     },
     "metadata": {},
     "output_type": "display_data"
    }
   ],
   "source": [
    "# Calculate correlation matrix\n",
    "correlation_matrix = ger_trade.corr()\n",
    "\n",
    "# Create correlation heatmap\n",
    "fig = px.imshow(\n",
    "    correlation_matrix,\n",
    "    title=\"Correlation Matrix Heatmap\",\n",
    "    color_continuous_scale=\"RdBu\",\n",
    "    aspect=\"auto\",\n",
    ")\n",
    "# fig.update_layout(width=1000, height=800)\n",
    "fig.show()"
   ]
  },
  {
   "cell_type": "code",
   "execution_count": 20,
   "id": "c9c09043",
   "metadata": {},
   "outputs": [
    {
     "name": "stdout",
     "output_type": "stream",
     "text": [
      "Correlation Matrix:\n"
     ]
    },
    {
     "data": {
      "text/html": [
       "<div>\n",
       "<style scoped>\n",
       "    .dataframe tbody tr th:only-of-type {\n",
       "        vertical-align: middle;\n",
       "    }\n",
       "\n",
       "    .dataframe tbody tr th {\n",
       "        vertical-align: top;\n",
       "    }\n",
       "\n",
       "    .dataframe thead th {\n",
       "        text-align: right;\n",
       "    }\n",
       "</style>\n",
       "<table border=\"1\" class=\"dataframe\">\n",
       "  <thead>\n",
       "    <tr style=\"text-align: right;\">\n",
       "      <th></th>\n",
       "      <th>Year</th>\n",
       "      <th>Country Growth (%)</th>\n",
       "      <th>AHS Simple Average (%)</th>\n",
       "      <th>MFN Simple Average (%)</th>\n",
       "      <th>Export (US$)</th>\n",
       "      <th>Import (US$)</th>\n",
       "    </tr>\n",
       "  </thead>\n",
       "  <tbody>\n",
       "    <tr>\n",
       "      <th>Year</th>\n",
       "      <td>1.00</td>\n",
       "      <td>-0.16</td>\n",
       "      <td>-0.62</td>\n",
       "      <td>-0.68</td>\n",
       "      <td>0.97</td>\n",
       "      <td>0.96</td>\n",
       "    </tr>\n",
       "    <tr>\n",
       "      <th>Country Growth (%)</th>\n",
       "      <td>-0.16</td>\n",
       "      <td>1.00</td>\n",
       "      <td>0.33</td>\n",
       "      <td>0.23</td>\n",
       "      <td>-0.07</td>\n",
       "      <td>-0.07</td>\n",
       "    </tr>\n",
       "    <tr>\n",
       "      <th>AHS Simple Average (%)</th>\n",
       "      <td>-0.62</td>\n",
       "      <td>0.33</td>\n",
       "      <td>1.00</td>\n",
       "      <td>0.86</td>\n",
       "      <td>-0.64</td>\n",
       "      <td>-0.63</td>\n",
       "    </tr>\n",
       "    <tr>\n",
       "      <th>MFN Simple Average (%)</th>\n",
       "      <td>-0.68</td>\n",
       "      <td>0.23</td>\n",
       "      <td>0.86</td>\n",
       "      <td>1.00</td>\n",
       "      <td>-0.69</td>\n",
       "      <td>-0.69</td>\n",
       "    </tr>\n",
       "    <tr>\n",
       "      <th>Export (US$)</th>\n",
       "      <td>0.97</td>\n",
       "      <td>-0.07</td>\n",
       "      <td>-0.64</td>\n",
       "      <td>-0.69</td>\n",
       "      <td>1.00</td>\n",
       "      <td>1.00</td>\n",
       "    </tr>\n",
       "    <tr>\n",
       "      <th>Import (US$)</th>\n",
       "      <td>0.96</td>\n",
       "      <td>-0.07</td>\n",
       "      <td>-0.63</td>\n",
       "      <td>-0.69</td>\n",
       "      <td>1.00</td>\n",
       "      <td>1.00</td>\n",
       "    </tr>\n",
       "  </tbody>\n",
       "</table>\n",
       "</div>"
      ],
      "text/plain": [
       "                        Year  Country Growth (%)  AHS Simple Average (%)  \\\n",
       "Year                    1.00               -0.16                   -0.62   \n",
       "Country Growth (%)     -0.16                1.00                    0.33   \n",
       "AHS Simple Average (%) -0.62                0.33                    1.00   \n",
       "MFN Simple Average (%) -0.68                0.23                    0.86   \n",
       "Export (US$)            0.97               -0.07                   -0.64   \n",
       "Import (US$)            0.96               -0.07                   -0.63   \n",
       "\n",
       "                        MFN Simple Average (%)  Export (US$)  Import (US$)  \n",
       "Year                                     -0.68          0.97          0.96  \n",
       "Country Growth (%)                        0.23         -0.07         -0.07  \n",
       "AHS Simple Average (%)                    0.86         -0.64         -0.63  \n",
       "MFN Simple Average (%)                    1.00         -0.69         -0.69  \n",
       "Export (US$)                             -0.69          1.00          1.00  \n",
       "Import (US$)                             -0.69          1.00          1.00  "
      ]
     },
     "execution_count": 20,
     "metadata": {},
     "output_type": "execute_result"
    }
   ],
   "source": [
    "# Print detailed correlation values\n",
    "print(\"Correlation Matrix:\")\n",
    "correlation_matrix"
   ]
  },
  {
   "cell_type": "code",
   "execution_count": 21,
   "id": "23dba841",
   "metadata": {},
   "outputs": [
    {
     "data": {
      "application/vnd.plotly.v1+json": {
       "config": {
        "plotlyServerURL": "https://plot.ly"
       },
       "data": [
        {
         "coloraxis": "coloraxis",
         "hovertemplate": "x: %{x}<br>y: %{y}<br>color: %{z}<extra></extra>",
         "name": "0",
         "type": "heatmap",
         "x": [
          "Year",
          "Country Growth (%)",
          "AHS Simple Average (%)",
          "MFN Simple Average (%)",
          "Export (US$)",
          "Import (US$)"
         ],
         "xaxis": "x",
         "y": [
          "Year",
          "Country Growth (%)",
          "AHS Simple Average (%)",
          "MFN Simple Average (%)",
          "Export (US$)",
          "Import (US$)"
         ],
         "yaxis": "y",
         "z": {
          "bdata": "q6qqqqrKWEDqoosuumgiwJVWMWkVM0rAjy666KK7TcBdNGbxMVWLQh8QfngtDZFC6qKLLrpoIsAAv+Kiq4pAQN0eC+E+9y9AxM3P+oGYJ0C9kQYrTRJBwjYXp+K5XkXClVYxaRUzSsDdHgvhPvcvQKVI7w55u1FAqeeYUTLyT0AdSONA7bN+wggWjx6v/4LCjy666KK7TcDEzc/6gZgnQKnnmFEy8k9ApGkxw3KMU0A9adVHOGmBwrztXPL1i4XCXTRm8TFVi0K9kQYrTRJBwh1I40Dts37CPWnVRzhpgcK9nwE1sx/ARHYCgCc0IsREHxB+eC0NkUI2F6fiuV5FwggWjx6v/4LCvO1c8vWLhcJ2AoAnNCLERC10+ab6TclE",
          "dtype": "f8",
          "shape": "6, 6"
         }
        }
       ],
       "layout": {
        "coloraxis": {
         "colorscale": [
          [
           0,
           "rgb(103,0,31)"
          ],
          [
           0.1,
           "rgb(178,24,43)"
          ],
          [
           0.2,
           "rgb(214,96,77)"
          ],
          [
           0.3,
           "rgb(244,165,130)"
          ],
          [
           0.4,
           "rgb(253,219,199)"
          ],
          [
           0.5,
           "rgb(247,247,247)"
          ],
          [
           0.6,
           "rgb(209,229,240)"
          ],
          [
           0.7,
           "rgb(146,197,222)"
          ],
          [
           0.8,
           "rgb(67,147,195)"
          ],
          [
           0.9,
           "rgb(33,102,172)"
          ],
          [
           1,
           "rgb(5,48,97)"
          ]
         ]
        },
        "template": {
         "data": {
          "bar": [
           {
            "error_x": {
             "color": "#2a3f5f"
            },
            "error_y": {
             "color": "#2a3f5f"
            },
            "marker": {
             "line": {
              "color": "#E5ECF6",
              "width": 0.5
             },
             "pattern": {
              "fillmode": "overlay",
              "size": 10,
              "solidity": 0.2
             }
            },
            "type": "bar"
           }
          ],
          "barpolar": [
           {
            "marker": {
             "line": {
              "color": "#E5ECF6",
              "width": 0.5
             },
             "pattern": {
              "fillmode": "overlay",
              "size": 10,
              "solidity": 0.2
             }
            },
            "type": "barpolar"
           }
          ],
          "carpet": [
           {
            "aaxis": {
             "endlinecolor": "#2a3f5f",
             "gridcolor": "white",
             "linecolor": "white",
             "minorgridcolor": "white",
             "startlinecolor": "#2a3f5f"
            },
            "baxis": {
             "endlinecolor": "#2a3f5f",
             "gridcolor": "white",
             "linecolor": "white",
             "minorgridcolor": "white",
             "startlinecolor": "#2a3f5f"
            },
            "type": "carpet"
           }
          ],
          "choropleth": [
           {
            "colorbar": {
             "outlinewidth": 0,
             "ticks": ""
            },
            "type": "choropleth"
           }
          ],
          "contour": [
           {
            "colorbar": {
             "outlinewidth": 0,
             "ticks": ""
            },
            "colorscale": [
             [
              0,
              "#0d0887"
             ],
             [
              0.1111111111111111,
              "#46039f"
             ],
             [
              0.2222222222222222,
              "#7201a8"
             ],
             [
              0.3333333333333333,
              "#9c179e"
             ],
             [
              0.4444444444444444,
              "#bd3786"
             ],
             [
              0.5555555555555556,
              "#d8576b"
             ],
             [
              0.6666666666666666,
              "#ed7953"
             ],
             [
              0.7777777777777778,
              "#fb9f3a"
             ],
             [
              0.8888888888888888,
              "#fdca26"
             ],
             [
              1,
              "#f0f921"
             ]
            ],
            "type": "contour"
           }
          ],
          "contourcarpet": [
           {
            "colorbar": {
             "outlinewidth": 0,
             "ticks": ""
            },
            "type": "contourcarpet"
           }
          ],
          "heatmap": [
           {
            "colorbar": {
             "outlinewidth": 0,
             "ticks": ""
            },
            "colorscale": [
             [
              0,
              "#0d0887"
             ],
             [
              0.1111111111111111,
              "#46039f"
             ],
             [
              0.2222222222222222,
              "#7201a8"
             ],
             [
              0.3333333333333333,
              "#9c179e"
             ],
             [
              0.4444444444444444,
              "#bd3786"
             ],
             [
              0.5555555555555556,
              "#d8576b"
             ],
             [
              0.6666666666666666,
              "#ed7953"
             ],
             [
              0.7777777777777778,
              "#fb9f3a"
             ],
             [
              0.8888888888888888,
              "#fdca26"
             ],
             [
              1,
              "#f0f921"
             ]
            ],
            "type": "heatmap"
           }
          ],
          "histogram": [
           {
            "marker": {
             "pattern": {
              "fillmode": "overlay",
              "size": 10,
              "solidity": 0.2
             }
            },
            "type": "histogram"
           }
          ],
          "histogram2d": [
           {
            "colorbar": {
             "outlinewidth": 0,
             "ticks": ""
            },
            "colorscale": [
             [
              0,
              "#0d0887"
             ],
             [
              0.1111111111111111,
              "#46039f"
             ],
             [
              0.2222222222222222,
              "#7201a8"
             ],
             [
              0.3333333333333333,
              "#9c179e"
             ],
             [
              0.4444444444444444,
              "#bd3786"
             ],
             [
              0.5555555555555556,
              "#d8576b"
             ],
             [
              0.6666666666666666,
              "#ed7953"
             ],
             [
              0.7777777777777778,
              "#fb9f3a"
             ],
             [
              0.8888888888888888,
              "#fdca26"
             ],
             [
              1,
              "#f0f921"
             ]
            ],
            "type": "histogram2d"
           }
          ],
          "histogram2dcontour": [
           {
            "colorbar": {
             "outlinewidth": 0,
             "ticks": ""
            },
            "colorscale": [
             [
              0,
              "#0d0887"
             ],
             [
              0.1111111111111111,
              "#46039f"
             ],
             [
              0.2222222222222222,
              "#7201a8"
             ],
             [
              0.3333333333333333,
              "#9c179e"
             ],
             [
              0.4444444444444444,
              "#bd3786"
             ],
             [
              0.5555555555555556,
              "#d8576b"
             ],
             [
              0.6666666666666666,
              "#ed7953"
             ],
             [
              0.7777777777777778,
              "#fb9f3a"
             ],
             [
              0.8888888888888888,
              "#fdca26"
             ],
             [
              1,
              "#f0f921"
             ]
            ],
            "type": "histogram2dcontour"
           }
          ],
          "mesh3d": [
           {
            "colorbar": {
             "outlinewidth": 0,
             "ticks": ""
            },
            "type": "mesh3d"
           }
          ],
          "parcoords": [
           {
            "line": {
             "colorbar": {
              "outlinewidth": 0,
              "ticks": ""
             }
            },
            "type": "parcoords"
           }
          ],
          "pie": [
           {
            "automargin": true,
            "type": "pie"
           }
          ],
          "scatter": [
           {
            "fillpattern": {
             "fillmode": "overlay",
             "size": 10,
             "solidity": 0.2
            },
            "type": "scatter"
           }
          ],
          "scatter3d": [
           {
            "line": {
             "colorbar": {
              "outlinewidth": 0,
              "ticks": ""
             }
            },
            "marker": {
             "colorbar": {
              "outlinewidth": 0,
              "ticks": ""
             }
            },
            "type": "scatter3d"
           }
          ],
          "scattercarpet": [
           {
            "marker": {
             "colorbar": {
              "outlinewidth": 0,
              "ticks": ""
             }
            },
            "type": "scattercarpet"
           }
          ],
          "scattergeo": [
           {
            "marker": {
             "colorbar": {
              "outlinewidth": 0,
              "ticks": ""
             }
            },
            "type": "scattergeo"
           }
          ],
          "scattergl": [
           {
            "marker": {
             "colorbar": {
              "outlinewidth": 0,
              "ticks": ""
             }
            },
            "type": "scattergl"
           }
          ],
          "scattermap": [
           {
            "marker": {
             "colorbar": {
              "outlinewidth": 0,
              "ticks": ""
             }
            },
            "type": "scattermap"
           }
          ],
          "scattermapbox": [
           {
            "marker": {
             "colorbar": {
              "outlinewidth": 0,
              "ticks": ""
             }
            },
            "type": "scattermapbox"
           }
          ],
          "scatterpolar": [
           {
            "marker": {
             "colorbar": {
              "outlinewidth": 0,
              "ticks": ""
             }
            },
            "type": "scatterpolar"
           }
          ],
          "scatterpolargl": [
           {
            "marker": {
             "colorbar": {
              "outlinewidth": 0,
              "ticks": ""
             }
            },
            "type": "scatterpolargl"
           }
          ],
          "scatterternary": [
           {
            "marker": {
             "colorbar": {
              "outlinewidth": 0,
              "ticks": ""
             }
            },
            "type": "scatterternary"
           }
          ],
          "surface": [
           {
            "colorbar": {
             "outlinewidth": 0,
             "ticks": ""
            },
            "colorscale": [
             [
              0,
              "#0d0887"
             ],
             [
              0.1111111111111111,
              "#46039f"
             ],
             [
              0.2222222222222222,
              "#7201a8"
             ],
             [
              0.3333333333333333,
              "#9c179e"
             ],
             [
              0.4444444444444444,
              "#bd3786"
             ],
             [
              0.5555555555555556,
              "#d8576b"
             ],
             [
              0.6666666666666666,
              "#ed7953"
             ],
             [
              0.7777777777777778,
              "#fb9f3a"
             ],
             [
              0.8888888888888888,
              "#fdca26"
             ],
             [
              1,
              "#f0f921"
             ]
            ],
            "type": "surface"
           }
          ],
          "table": [
           {
            "cells": {
             "fill": {
              "color": "#EBF0F8"
             },
             "line": {
              "color": "white"
             }
            },
            "header": {
             "fill": {
              "color": "#C8D4E3"
             },
             "line": {
              "color": "white"
             }
            },
            "type": "table"
           }
          ]
         },
         "layout": {
          "annotationdefaults": {
           "arrowcolor": "#2a3f5f",
           "arrowhead": 0,
           "arrowwidth": 1
          },
          "autotypenumbers": "strict",
          "coloraxis": {
           "colorbar": {
            "outlinewidth": 0,
            "ticks": ""
           }
          },
          "colorscale": {
           "diverging": [
            [
             0,
             "#8e0152"
            ],
            [
             0.1,
             "#c51b7d"
            ],
            [
             0.2,
             "#de77ae"
            ],
            [
             0.3,
             "#f1b6da"
            ],
            [
             0.4,
             "#fde0ef"
            ],
            [
             0.5,
             "#f7f7f7"
            ],
            [
             0.6,
             "#e6f5d0"
            ],
            [
             0.7,
             "#b8e186"
            ],
            [
             0.8,
             "#7fbc41"
            ],
            [
             0.9,
             "#4d9221"
            ],
            [
             1,
             "#276419"
            ]
           ],
           "sequential": [
            [
             0,
             "#0d0887"
            ],
            [
             0.1111111111111111,
             "#46039f"
            ],
            [
             0.2222222222222222,
             "#7201a8"
            ],
            [
             0.3333333333333333,
             "#9c179e"
            ],
            [
             0.4444444444444444,
             "#bd3786"
            ],
            [
             0.5555555555555556,
             "#d8576b"
            ],
            [
             0.6666666666666666,
             "#ed7953"
            ],
            [
             0.7777777777777778,
             "#fb9f3a"
            ],
            [
             0.8888888888888888,
             "#fdca26"
            ],
            [
             1,
             "#f0f921"
            ]
           ],
           "sequentialminus": [
            [
             0,
             "#0d0887"
            ],
            [
             0.1111111111111111,
             "#46039f"
            ],
            [
             0.2222222222222222,
             "#7201a8"
            ],
            [
             0.3333333333333333,
             "#9c179e"
            ],
            [
             0.4444444444444444,
             "#bd3786"
            ],
            [
             0.5555555555555556,
             "#d8576b"
            ],
            [
             0.6666666666666666,
             "#ed7953"
            ],
            [
             0.7777777777777778,
             "#fb9f3a"
            ],
            [
             0.8888888888888888,
             "#fdca26"
            ],
            [
             1,
             "#f0f921"
            ]
           ]
          },
          "colorway": [
           "#636efa",
           "#EF553B",
           "#00cc96",
           "#ab63fa",
           "#FFA15A",
           "#19d3f3",
           "#FF6692",
           "#B6E880",
           "#FF97FF",
           "#FECB52"
          ],
          "font": {
           "color": "#2a3f5f"
          },
          "geo": {
           "bgcolor": "white",
           "lakecolor": "white",
           "landcolor": "#E5ECF6",
           "showlakes": true,
           "showland": true,
           "subunitcolor": "white"
          },
          "hoverlabel": {
           "align": "left"
          },
          "hovermode": "closest",
          "mapbox": {
           "style": "light"
          },
          "paper_bgcolor": "white",
          "plot_bgcolor": "#E5ECF6",
          "polar": {
           "angularaxis": {
            "gridcolor": "white",
            "linecolor": "white",
            "ticks": ""
           },
           "bgcolor": "#E5ECF6",
           "radialaxis": {
            "gridcolor": "white",
            "linecolor": "white",
            "ticks": ""
           }
          },
          "scene": {
           "xaxis": {
            "backgroundcolor": "#E5ECF6",
            "gridcolor": "white",
            "gridwidth": 2,
            "linecolor": "white",
            "showbackground": true,
            "ticks": "",
            "zerolinecolor": "white"
           },
           "yaxis": {
            "backgroundcolor": "#E5ECF6",
            "gridcolor": "white",
            "gridwidth": 2,
            "linecolor": "white",
            "showbackground": true,
            "ticks": "",
            "zerolinecolor": "white"
           },
           "zaxis": {
            "backgroundcolor": "#E5ECF6",
            "gridcolor": "white",
            "gridwidth": 2,
            "linecolor": "white",
            "showbackground": true,
            "ticks": "",
            "zerolinecolor": "white"
           }
          },
          "shapedefaults": {
           "line": {
            "color": "#2a3f5f"
           }
          },
          "ternary": {
           "aaxis": {
            "gridcolor": "white",
            "linecolor": "white",
            "ticks": ""
           },
           "baxis": {
            "gridcolor": "white",
            "linecolor": "white",
            "ticks": ""
           },
           "bgcolor": "#E5ECF6",
           "caxis": {
            "gridcolor": "white",
            "linecolor": "white",
            "ticks": ""
           }
          },
          "title": {
           "x": 0.05
          },
          "xaxis": {
           "automargin": true,
           "gridcolor": "white",
           "linecolor": "white",
           "ticks": "",
           "title": {
            "standoff": 15
           },
           "zerolinecolor": "white",
           "zerolinewidth": 2
          },
          "yaxis": {
           "automargin": true,
           "gridcolor": "white",
           "linecolor": "white",
           "ticks": "",
           "title": {
            "standoff": 15
           },
           "zerolinecolor": "white",
           "zerolinewidth": 2
          }
         }
        },
        "title": {
         "text": "Covariance Matrix Heatmap"
        },
        "xaxis": {
         "anchor": "y",
         "domain": [
          0,
          1
         ]
        },
        "yaxis": {
         "anchor": "x",
         "autorange": "reversed",
         "domain": [
          0,
          1
         ]
        }
       }
      }
     },
     "metadata": {},
     "output_type": "display_data"
    }
   ],
   "source": [
    "# Calculate covariance matrix\n",
    "covariance_matrix = ger_trade.cov()\n",
    "\n",
    "# Create covariance heatmap\n",
    "fig = px.imshow(\n",
    "    covariance_matrix,\n",
    "    title=\"Covariance Matrix Heatmap\",\n",
    "    color_continuous_scale=\"RdBu\",\n",
    "    aspect=\"auto\",\n",
    ")\n",
    "# fig.update_layout(width=800, height=800)\n",
    "fig.show()"
   ]
  },
  {
   "cell_type": "code",
   "execution_count": 22,
   "id": "43d3744e",
   "metadata": {},
   "outputs": [
    {
     "name": "stdout",
     "output_type": "stream",
     "text": [
      "Covariance Matrix:\n"
     ]
    },
    {
     "data": {
      "text/html": [
       "<div>\n",
       "<style scoped>\n",
       "    .dataframe tbody tr th:only-of-type {\n",
       "        vertical-align: middle;\n",
       "    }\n",
       "\n",
       "    .dataframe tbody tr th {\n",
       "        vertical-align: top;\n",
       "    }\n",
       "\n",
       "    .dataframe thead th {\n",
       "        text-align: right;\n",
       "    }\n",
       "</style>\n",
       "<table border=\"1\" class=\"dataframe\">\n",
       "  <thead>\n",
       "    <tr style=\"text-align: right;\">\n",
       "      <th></th>\n",
       "      <th>Year</th>\n",
       "      <th>Country Growth (%)</th>\n",
       "      <th>AHS Simple Average (%)</th>\n",
       "      <th>MFN Simple Average (%)</th>\n",
       "      <th>Export (US$)</th>\n",
       "      <th>Import (US$)</th>\n",
       "    </tr>\n",
       "  </thead>\n",
       "  <tbody>\n",
       "    <tr>\n",
       "      <th>Year</th>\n",
       "      <td>99.17</td>\n",
       "      <td>-9.20</td>\n",
       "      <td>-52.40</td>\n",
       "      <td>-59.47</td>\n",
       "      <td>3,756,590,509,254.55</td>\n",
       "      <td>4,687,073,779,588.03</td>\n",
       "    </tr>\n",
       "    <tr>\n",
       "      <th>Country Growth (%)</th>\n",
       "      <td>-9.20</td>\n",
       "      <td>33.08</td>\n",
       "      <td>15.98</td>\n",
       "      <td>11.80</td>\n",
       "      <td>-146,642,982,413.14</td>\n",
       "      <td>-183,567,107,406.18</td>\n",
       "    </tr>\n",
       "    <tr>\n",
       "      <th>AHS Simple Average (%)</th>\n",
       "      <td>-52.40</td>\n",
       "      <td>15.98</td>\n",
       "      <td>70.93</td>\n",
       "      <td>63.89</td>\n",
       "      <td>-2,109,883,026,996.51</td>\n",
       "      <td>-2,611,170,496,994.75</td>\n",
       "    </tr>\n",
       "    <tr>\n",
       "      <th>MFN Simple Average (%)</th>\n",
       "      <td>-59.47</td>\n",
       "      <td>11.80</td>\n",
       "      <td>63.89</td>\n",
       "      <td>78.19</td>\n",
       "      <td>-2,392,951,683,757.15</td>\n",
       "      <td>-2,961,358,867,357.72</td>\n",
       "    </tr>\n",
       "    <tr>\n",
       "      <th>Export (US$)</th>\n",
       "      <td>3,756,590,509,254.55</td>\n",
       "      <td>-146,642,982,413.14</td>\n",
       "      <td>-2,109,883,026,996.51</td>\n",
       "      <td>-2,392,951,683,757.15</td>\n",
       "      <td>152,285,252,042,982,913,212,416.00</td>\n",
       "      <td>190,156,554,138,122,301,997,056.00</td>\n",
       "    </tr>\n",
       "    <tr>\n",
       "      <th>Import (US$)</th>\n",
       "      <td>4,687,073,779,588.03</td>\n",
       "      <td>-183,567,107,406.18</td>\n",
       "      <td>-2,611,170,496,994.75</td>\n",
       "      <td>-2,961,358,867,357.72</td>\n",
       "      <td>190,156,554,138,122,301,997,056.00</td>\n",
       "      <td>238,995,245,526,099,496,534,016.00</td>\n",
       "    </tr>\n",
       "  </tbody>\n",
       "</table>\n",
       "</div>"
      ],
      "text/plain": [
       "                                       Year  Country Growth (%)  \\\n",
       "Year                                  99.17               -9.20   \n",
       "Country Growth (%)                    -9.20               33.08   \n",
       "AHS Simple Average (%)               -52.40               15.98   \n",
       "MFN Simple Average (%)               -59.47               11.80   \n",
       "Export (US$)           3,756,590,509,254.55 -146,642,982,413.14   \n",
       "Import (US$)           4,687,073,779,588.03 -183,567,107,406.18   \n",
       "\n",
       "                        AHS Simple Average (%)  MFN Simple Average (%)  \\\n",
       "Year                                    -52.40                  -59.47   \n",
       "Country Growth (%)                       15.98                   11.80   \n",
       "AHS Simple Average (%)                   70.93                   63.89   \n",
       "MFN Simple Average (%)                   63.89                   78.19   \n",
       "Export (US$)             -2,109,883,026,996.51   -2,392,951,683,757.15   \n",
       "Import (US$)             -2,611,170,496,994.75   -2,961,358,867,357.72   \n",
       "\n",
       "                                             Export (US$)  \\\n",
       "Year                                 3,756,590,509,254.55   \n",
       "Country Growth (%)                    -146,642,982,413.14   \n",
       "AHS Simple Average (%)              -2,109,883,026,996.51   \n",
       "MFN Simple Average (%)              -2,392,951,683,757.15   \n",
       "Export (US$)           152,285,252,042,982,913,212,416.00   \n",
       "Import (US$)           190,156,554,138,122,301,997,056.00   \n",
       "\n",
       "                                             Import (US$)  \n",
       "Year                                 4,687,073,779,588.03  \n",
       "Country Growth (%)                    -183,567,107,406.18  \n",
       "AHS Simple Average (%)              -2,611,170,496,994.75  \n",
       "MFN Simple Average (%)              -2,961,358,867,357.72  \n",
       "Export (US$)           190,156,554,138,122,301,997,056.00  \n",
       "Import (US$)           238,995,245,526,099,496,534,016.00  "
      ]
     },
     "execution_count": 22,
     "metadata": {},
     "output_type": "execute_result"
    }
   ],
   "source": [
    "# Print detailed covariance values\n",
    "print(\"Covariance Matrix:\")\n",
    "covariance_matrix"
   ]
  },
  {
   "cell_type": "markdown",
   "id": "a0653c45",
   "metadata": {},
   "source": [
    "**Key Insights from Descriptive Statistics**\n",
    "\n",
    "* **Tariff Rates:**\n",
    "\n",
    "  The average Applied Harmonized System (AHS) tariff rate was **10.95%** with moderate year-to-year variation, while the Most Favored Nation (MFN) rate averaged **13.33%** and showed greater volatility, reflecting less stability over time.\n",
    "\n",
    "\n",
    "* **Economic Growth:**\n",
    "\n",
    "  Germany’s economy grew at an average rate of **2.93%**, but with significant fluctuations—from a high of **12.71%** to a low of **-11.75%**—highlighting periods of both strong expansion and severe contraction.\n",
    "\n",
    "\n",
    "* **Trade Volumes:**\n",
    "\n",
    "    Exports averaged **\\$685.18 billion** and imports **\\$837.88 billion**, with both reaching peaks of over **\\$1 trillion**, indicating substantial long-term growth in trade activity over the 33-year period.\n"
   ]
  },
  {
   "cell_type": "markdown",
   "id": "b9afe13d",
   "metadata": {},
   "source": [
    "### **2.2 Advanced Data Analysis** <a id='22-advanced-data-analysis'></a>\n",
    "\n",
    "Here, we will perform univariate, bivariate, and multivariate analysis on the data using various visualizations.\n",
    "\n",
    "#### **2.2.1 Univariate Analysis** <a id='221-univariate-analysis'></a>\n",
    "\n",
    "Let's examine each variable individually through various visualizations to understand their distributions and patterns over time."
   ]
  },
  {
   "cell_type": "code",
   "execution_count": 23,
   "id": "67978228",
   "metadata": {},
   "outputs": [
    {
     "data": {
      "application/vnd.plotly.v1+json": {
       "config": {
        "plotlyServerURL": "https://plot.ly"
       },
       "data": [
        {
         "hovertemplate": "Year=%{x}<br>Country Growth (%)=%{y}<extra></extra>",
         "legendgroup": "",
         "line": {
          "color": "#636efa",
          "dash": "solid"
         },
         "marker": {
          "symbol": "circle"
         },
         "mode": "lines",
         "name": "",
         "orientation": "v",
         "showlegend": false,
         "type": "scatter",
         "x": {
          "bdata": "xAfFB8YHxwfIB8kHygfLB8wHzQfOB88H0AfRB9IH0wfUB9UH1gfXB9gH2QfaB9sH3AfdB94H3wfgB+EH4gfjB+QH5Qc=",
          "dtype": "i2"
         },
         "xaxis": "x",
         "y": {
          "bdata": "CtejcD0KGEA9CtejcD0OQOxRuB6FaylAPQrXo3A9GkCuR+F6FK4DQM3MzMzMzCDAKVyPwvUoFkCamZmZmZkkQOF6FK5H4eK/MzMzMzMz97/NzMzMzMwGQLgehetRuM4/zczMzMzMBkDXo3A9Ctf3v83MzMzMzNw/CtejcD2KJUB7FK5H4XoiQNejcD0K1xBAAAAAAACAIUC4HoXrUbgcQGZmZmZmZhhAAAAAAACAJ8BxPQrXo3AbQB+F61G4HiJAw/UoXI/CD8BSuB6F61HwP4/C9Shcj/I/zczMzMzMGsB7FK5H4XrEP9ejcD0K1wVAzczMzMzMHUB7FK5H4XoAwNejcD0K1wXAZmZmZmZmJEA=",
          "dtype": "f8"
         },
         "yaxis": "y"
        }
       ],
       "layout": {
        "legend": {
         "tracegroupgap": 0
        },
        "showlegend": false,
        "template": {
         "data": {
          "bar": [
           {
            "error_x": {
             "color": "#2a3f5f"
            },
            "error_y": {
             "color": "#2a3f5f"
            },
            "marker": {
             "line": {
              "color": "#E5ECF6",
              "width": 0.5
             },
             "pattern": {
              "fillmode": "overlay",
              "size": 10,
              "solidity": 0.2
             }
            },
            "type": "bar"
           }
          ],
          "barpolar": [
           {
            "marker": {
             "line": {
              "color": "#E5ECF6",
              "width": 0.5
             },
             "pattern": {
              "fillmode": "overlay",
              "size": 10,
              "solidity": 0.2
             }
            },
            "type": "barpolar"
           }
          ],
          "carpet": [
           {
            "aaxis": {
             "endlinecolor": "#2a3f5f",
             "gridcolor": "white",
             "linecolor": "white",
             "minorgridcolor": "white",
             "startlinecolor": "#2a3f5f"
            },
            "baxis": {
             "endlinecolor": "#2a3f5f",
             "gridcolor": "white",
             "linecolor": "white",
             "minorgridcolor": "white",
             "startlinecolor": "#2a3f5f"
            },
            "type": "carpet"
           }
          ],
          "choropleth": [
           {
            "colorbar": {
             "outlinewidth": 0,
             "ticks": ""
            },
            "type": "choropleth"
           }
          ],
          "contour": [
           {
            "colorbar": {
             "outlinewidth": 0,
             "ticks": ""
            },
            "colorscale": [
             [
              0,
              "#0d0887"
             ],
             [
              0.1111111111111111,
              "#46039f"
             ],
             [
              0.2222222222222222,
              "#7201a8"
             ],
             [
              0.3333333333333333,
              "#9c179e"
             ],
             [
              0.4444444444444444,
              "#bd3786"
             ],
             [
              0.5555555555555556,
              "#d8576b"
             ],
             [
              0.6666666666666666,
              "#ed7953"
             ],
             [
              0.7777777777777778,
              "#fb9f3a"
             ],
             [
              0.8888888888888888,
              "#fdca26"
             ],
             [
              1,
              "#f0f921"
             ]
            ],
            "type": "contour"
           }
          ],
          "contourcarpet": [
           {
            "colorbar": {
             "outlinewidth": 0,
             "ticks": ""
            },
            "type": "contourcarpet"
           }
          ],
          "heatmap": [
           {
            "colorbar": {
             "outlinewidth": 0,
             "ticks": ""
            },
            "colorscale": [
             [
              0,
              "#0d0887"
             ],
             [
              0.1111111111111111,
              "#46039f"
             ],
             [
              0.2222222222222222,
              "#7201a8"
             ],
             [
              0.3333333333333333,
              "#9c179e"
             ],
             [
              0.4444444444444444,
              "#bd3786"
             ],
             [
              0.5555555555555556,
              "#d8576b"
             ],
             [
              0.6666666666666666,
              "#ed7953"
             ],
             [
              0.7777777777777778,
              "#fb9f3a"
             ],
             [
              0.8888888888888888,
              "#fdca26"
             ],
             [
              1,
              "#f0f921"
             ]
            ],
            "type": "heatmap"
           }
          ],
          "histogram": [
           {
            "marker": {
             "pattern": {
              "fillmode": "overlay",
              "size": 10,
              "solidity": 0.2
             }
            },
            "type": "histogram"
           }
          ],
          "histogram2d": [
           {
            "colorbar": {
             "outlinewidth": 0,
             "ticks": ""
            },
            "colorscale": [
             [
              0,
              "#0d0887"
             ],
             [
              0.1111111111111111,
              "#46039f"
             ],
             [
              0.2222222222222222,
              "#7201a8"
             ],
             [
              0.3333333333333333,
              "#9c179e"
             ],
             [
              0.4444444444444444,
              "#bd3786"
             ],
             [
              0.5555555555555556,
              "#d8576b"
             ],
             [
              0.6666666666666666,
              "#ed7953"
             ],
             [
              0.7777777777777778,
              "#fb9f3a"
             ],
             [
              0.8888888888888888,
              "#fdca26"
             ],
             [
              1,
              "#f0f921"
             ]
            ],
            "type": "histogram2d"
           }
          ],
          "histogram2dcontour": [
           {
            "colorbar": {
             "outlinewidth": 0,
             "ticks": ""
            },
            "colorscale": [
             [
              0,
              "#0d0887"
             ],
             [
              0.1111111111111111,
              "#46039f"
             ],
             [
              0.2222222222222222,
              "#7201a8"
             ],
             [
              0.3333333333333333,
              "#9c179e"
             ],
             [
              0.4444444444444444,
              "#bd3786"
             ],
             [
              0.5555555555555556,
              "#d8576b"
             ],
             [
              0.6666666666666666,
              "#ed7953"
             ],
             [
              0.7777777777777778,
              "#fb9f3a"
             ],
             [
              0.8888888888888888,
              "#fdca26"
             ],
             [
              1,
              "#f0f921"
             ]
            ],
            "type": "histogram2dcontour"
           }
          ],
          "mesh3d": [
           {
            "colorbar": {
             "outlinewidth": 0,
             "ticks": ""
            },
            "type": "mesh3d"
           }
          ],
          "parcoords": [
           {
            "line": {
             "colorbar": {
              "outlinewidth": 0,
              "ticks": ""
             }
            },
            "type": "parcoords"
           }
          ],
          "pie": [
           {
            "automargin": true,
            "type": "pie"
           }
          ],
          "scatter": [
           {
            "fillpattern": {
             "fillmode": "overlay",
             "size": 10,
             "solidity": 0.2
            },
            "type": "scatter"
           }
          ],
          "scatter3d": [
           {
            "line": {
             "colorbar": {
              "outlinewidth": 0,
              "ticks": ""
             }
            },
            "marker": {
             "colorbar": {
              "outlinewidth": 0,
              "ticks": ""
             }
            },
            "type": "scatter3d"
           }
          ],
          "scattercarpet": [
           {
            "marker": {
             "colorbar": {
              "outlinewidth": 0,
              "ticks": ""
             }
            },
            "type": "scattercarpet"
           }
          ],
          "scattergeo": [
           {
            "marker": {
             "colorbar": {
              "outlinewidth": 0,
              "ticks": ""
             }
            },
            "type": "scattergeo"
           }
          ],
          "scattergl": [
           {
            "marker": {
             "colorbar": {
              "outlinewidth": 0,
              "ticks": ""
             }
            },
            "type": "scattergl"
           }
          ],
          "scattermap": [
           {
            "marker": {
             "colorbar": {
              "outlinewidth": 0,
              "ticks": ""
             }
            },
            "type": "scattermap"
           }
          ],
          "scattermapbox": [
           {
            "marker": {
             "colorbar": {
              "outlinewidth": 0,
              "ticks": ""
             }
            },
            "type": "scattermapbox"
           }
          ],
          "scatterpolar": [
           {
            "marker": {
             "colorbar": {
              "outlinewidth": 0,
              "ticks": ""
             }
            },
            "type": "scatterpolar"
           }
          ],
          "scatterpolargl": [
           {
            "marker": {
             "colorbar": {
              "outlinewidth": 0,
              "ticks": ""
             }
            },
            "type": "scatterpolargl"
           }
          ],
          "scatterternary": [
           {
            "marker": {
             "colorbar": {
              "outlinewidth": 0,
              "ticks": ""
             }
            },
            "type": "scatterternary"
           }
          ],
          "surface": [
           {
            "colorbar": {
             "outlinewidth": 0,
             "ticks": ""
            },
            "colorscale": [
             [
              0,
              "#0d0887"
             ],
             [
              0.1111111111111111,
              "#46039f"
             ],
             [
              0.2222222222222222,
              "#7201a8"
             ],
             [
              0.3333333333333333,
              "#9c179e"
             ],
             [
              0.4444444444444444,
              "#bd3786"
             ],
             [
              0.5555555555555556,
              "#d8576b"
             ],
             [
              0.6666666666666666,
              "#ed7953"
             ],
             [
              0.7777777777777778,
              "#fb9f3a"
             ],
             [
              0.8888888888888888,
              "#fdca26"
             ],
             [
              1,
              "#f0f921"
             ]
            ],
            "type": "surface"
           }
          ],
          "table": [
           {
            "cells": {
             "fill": {
              "color": "#EBF0F8"
             },
             "line": {
              "color": "white"
             }
            },
            "header": {
             "fill": {
              "color": "#C8D4E3"
             },
             "line": {
              "color": "white"
             }
            },
            "type": "table"
           }
          ]
         },
         "layout": {
          "annotationdefaults": {
           "arrowcolor": "#2a3f5f",
           "arrowhead": 0,
           "arrowwidth": 1
          },
          "autotypenumbers": "strict",
          "coloraxis": {
           "colorbar": {
            "outlinewidth": 0,
            "ticks": ""
           }
          },
          "colorscale": {
           "diverging": [
            [
             0,
             "#8e0152"
            ],
            [
             0.1,
             "#c51b7d"
            ],
            [
             0.2,
             "#de77ae"
            ],
            [
             0.3,
             "#f1b6da"
            ],
            [
             0.4,
             "#fde0ef"
            ],
            [
             0.5,
             "#f7f7f7"
            ],
            [
             0.6,
             "#e6f5d0"
            ],
            [
             0.7,
             "#b8e186"
            ],
            [
             0.8,
             "#7fbc41"
            ],
            [
             0.9,
             "#4d9221"
            ],
            [
             1,
             "#276419"
            ]
           ],
           "sequential": [
            [
             0,
             "#0d0887"
            ],
            [
             0.1111111111111111,
             "#46039f"
            ],
            [
             0.2222222222222222,
             "#7201a8"
            ],
            [
             0.3333333333333333,
             "#9c179e"
            ],
            [
             0.4444444444444444,
             "#bd3786"
            ],
            [
             0.5555555555555556,
             "#d8576b"
            ],
            [
             0.6666666666666666,
             "#ed7953"
            ],
            [
             0.7777777777777778,
             "#fb9f3a"
            ],
            [
             0.8888888888888888,
             "#fdca26"
            ],
            [
             1,
             "#f0f921"
            ]
           ],
           "sequentialminus": [
            [
             0,
             "#0d0887"
            ],
            [
             0.1111111111111111,
             "#46039f"
            ],
            [
             0.2222222222222222,
             "#7201a8"
            ],
            [
             0.3333333333333333,
             "#9c179e"
            ],
            [
             0.4444444444444444,
             "#bd3786"
            ],
            [
             0.5555555555555556,
             "#d8576b"
            ],
            [
             0.6666666666666666,
             "#ed7953"
            ],
            [
             0.7777777777777778,
             "#fb9f3a"
            ],
            [
             0.8888888888888888,
             "#fdca26"
            ],
            [
             1,
             "#f0f921"
            ]
           ]
          },
          "colorway": [
           "#636efa",
           "#EF553B",
           "#00cc96",
           "#ab63fa",
           "#FFA15A",
           "#19d3f3",
           "#FF6692",
           "#B6E880",
           "#FF97FF",
           "#FECB52"
          ],
          "font": {
           "color": "#2a3f5f"
          },
          "geo": {
           "bgcolor": "white",
           "lakecolor": "white",
           "landcolor": "#E5ECF6",
           "showlakes": true,
           "showland": true,
           "subunitcolor": "white"
          },
          "hoverlabel": {
           "align": "left"
          },
          "hovermode": "closest",
          "mapbox": {
           "style": "light"
          },
          "paper_bgcolor": "white",
          "plot_bgcolor": "#E5ECF6",
          "polar": {
           "angularaxis": {
            "gridcolor": "white",
            "linecolor": "white",
            "ticks": ""
           },
           "bgcolor": "#E5ECF6",
           "radialaxis": {
            "gridcolor": "white",
            "linecolor": "white",
            "ticks": ""
           }
          },
          "scene": {
           "xaxis": {
            "backgroundcolor": "#E5ECF6",
            "gridcolor": "white",
            "gridwidth": 2,
            "linecolor": "white",
            "showbackground": true,
            "ticks": "",
            "zerolinecolor": "white"
           },
           "yaxis": {
            "backgroundcolor": "#E5ECF6",
            "gridcolor": "white",
            "gridwidth": 2,
            "linecolor": "white",
            "showbackground": true,
            "ticks": "",
            "zerolinecolor": "white"
           },
           "zaxis": {
            "backgroundcolor": "#E5ECF6",
            "gridcolor": "white",
            "gridwidth": 2,
            "linecolor": "white",
            "showbackground": true,
            "ticks": "",
            "zerolinecolor": "white"
           }
          },
          "shapedefaults": {
           "line": {
            "color": "#2a3f5f"
           }
          },
          "ternary": {
           "aaxis": {
            "gridcolor": "white",
            "linecolor": "white",
            "ticks": ""
           },
           "baxis": {
            "gridcolor": "white",
            "linecolor": "white",
            "ticks": ""
           },
           "bgcolor": "#E5ECF6",
           "caxis": {
            "gridcolor": "white",
            "linecolor": "white",
            "ticks": ""
           }
          },
          "title": {
           "x": 0.05
          },
          "xaxis": {
           "automargin": true,
           "gridcolor": "white",
           "linecolor": "white",
           "ticks": "",
           "title": {
            "standoff": 15
           },
           "zerolinecolor": "white",
           "zerolinewidth": 2
          },
          "yaxis": {
           "automargin": true,
           "gridcolor": "white",
           "linecolor": "white",
           "ticks": "",
           "title": {
            "standoff": 15
           },
           "zerolinecolor": "white",
           "zerolinewidth": 2
          }
         }
        },
        "title": {
         "text": "Germany Economic Growth Rate Over Time (1988-2021)"
        },
        "xaxis": {
         "anchor": "y",
         "domain": [
          0,
          1
         ],
         "title": {
          "text": "Year"
         }
        },
        "yaxis": {
         "anchor": "x",
         "domain": [
          0,
          1
         ],
         "title": {
          "text": "Country Growth (%)"
         }
        }
       }
      }
     },
     "metadata": {},
     "output_type": "display_data"
    },
    {
     "data": {
      "application/vnd.plotly.v1+json": {
       "config": {
        "plotlyServerURL": "https://plot.ly"
       },
       "data": [
        {
         "bingroup": "x",
         "hovertemplate": "Country Growth (%)=%{x}<br>count=%{y}<extra></extra>",
         "legendgroup": "",
         "marker": {
          "color": "#636efa",
          "pattern": {
           "shape": ""
          }
         },
         "name": "",
         "orientation": "v",
         "showlegend": false,
         "type": "histogram",
         "x": {
          "bdata": "CtejcD0KGEA9CtejcD0OQOxRuB6FaylAPQrXo3A9GkCuR+F6FK4DQM3MzMzMzCDAKVyPwvUoFkCamZmZmZkkQOF6FK5H4eK/MzMzMzMz97/NzMzMzMwGQLgehetRuM4/zczMzMzMBkDXo3A9Ctf3v83MzMzMzNw/CtejcD2KJUB7FK5H4XoiQNejcD0K1xBAAAAAAACAIUC4HoXrUbgcQGZmZmZmZhhAAAAAAACAJ8BxPQrXo3AbQB+F61G4HiJAw/UoXI/CD8BSuB6F61HwP4/C9Shcj/I/zczMzMzMGsB7FK5H4XrEP9ejcD0K1wVAzczMzMzMHUB7FK5H4XoAwNejcD0K1wXAZmZmZmZmJEA=",
          "dtype": "f8"
         },
         "xaxis": "x",
         "yaxis": "y"
        },
        {
         "hovertemplate": "Country Growth (%)=%{x}<extra></extra>",
         "legendgroup": "",
         "marker": {
          "color": "#636efa"
         },
         "name": "",
         "notched": true,
         "showlegend": false,
         "type": "box",
         "x": {
          "bdata": "CtejcD0KGEA9CtejcD0OQOxRuB6FaylAPQrXo3A9GkCuR+F6FK4DQM3MzMzMzCDAKVyPwvUoFkCamZmZmZkkQOF6FK5H4eK/MzMzMzMz97/NzMzMzMwGQLgehetRuM4/zczMzMzMBkDXo3A9Ctf3v83MzMzMzNw/CtejcD2KJUB7FK5H4XoiQNejcD0K1xBAAAAAAACAIUC4HoXrUbgcQGZmZmZmZhhAAAAAAACAJ8BxPQrXo3AbQB+F61G4HiJAw/UoXI/CD8BSuB6F61HwP4/C9Shcj/I/zczMzMzMGsB7FK5H4XrEP9ejcD0K1wVAzczMzMzMHUB7FK5H4XoAwNejcD0K1wXAZmZmZmZmJEA=",
          "dtype": "f8"
         },
         "xaxis": "x2",
         "yaxis": "y2"
        }
       ],
       "layout": {
        "barmode": "relative",
        "legend": {
         "tracegroupgap": 0
        },
        "template": {
         "data": {
          "bar": [
           {
            "error_x": {
             "color": "#2a3f5f"
            },
            "error_y": {
             "color": "#2a3f5f"
            },
            "marker": {
             "line": {
              "color": "#E5ECF6",
              "width": 0.5
             },
             "pattern": {
              "fillmode": "overlay",
              "size": 10,
              "solidity": 0.2
             }
            },
            "type": "bar"
           }
          ],
          "barpolar": [
           {
            "marker": {
             "line": {
              "color": "#E5ECF6",
              "width": 0.5
             },
             "pattern": {
              "fillmode": "overlay",
              "size": 10,
              "solidity": 0.2
             }
            },
            "type": "barpolar"
           }
          ],
          "carpet": [
           {
            "aaxis": {
             "endlinecolor": "#2a3f5f",
             "gridcolor": "white",
             "linecolor": "white",
             "minorgridcolor": "white",
             "startlinecolor": "#2a3f5f"
            },
            "baxis": {
             "endlinecolor": "#2a3f5f",
             "gridcolor": "white",
             "linecolor": "white",
             "minorgridcolor": "white",
             "startlinecolor": "#2a3f5f"
            },
            "type": "carpet"
           }
          ],
          "choropleth": [
           {
            "colorbar": {
             "outlinewidth": 0,
             "ticks": ""
            },
            "type": "choropleth"
           }
          ],
          "contour": [
           {
            "colorbar": {
             "outlinewidth": 0,
             "ticks": ""
            },
            "colorscale": [
             [
              0,
              "#0d0887"
             ],
             [
              0.1111111111111111,
              "#46039f"
             ],
             [
              0.2222222222222222,
              "#7201a8"
             ],
             [
              0.3333333333333333,
              "#9c179e"
             ],
             [
              0.4444444444444444,
              "#bd3786"
             ],
             [
              0.5555555555555556,
              "#d8576b"
             ],
             [
              0.6666666666666666,
              "#ed7953"
             ],
             [
              0.7777777777777778,
              "#fb9f3a"
             ],
             [
              0.8888888888888888,
              "#fdca26"
             ],
             [
              1,
              "#f0f921"
             ]
            ],
            "type": "contour"
           }
          ],
          "contourcarpet": [
           {
            "colorbar": {
             "outlinewidth": 0,
             "ticks": ""
            },
            "type": "contourcarpet"
           }
          ],
          "heatmap": [
           {
            "colorbar": {
             "outlinewidth": 0,
             "ticks": ""
            },
            "colorscale": [
             [
              0,
              "#0d0887"
             ],
             [
              0.1111111111111111,
              "#46039f"
             ],
             [
              0.2222222222222222,
              "#7201a8"
             ],
             [
              0.3333333333333333,
              "#9c179e"
             ],
             [
              0.4444444444444444,
              "#bd3786"
             ],
             [
              0.5555555555555556,
              "#d8576b"
             ],
             [
              0.6666666666666666,
              "#ed7953"
             ],
             [
              0.7777777777777778,
              "#fb9f3a"
             ],
             [
              0.8888888888888888,
              "#fdca26"
             ],
             [
              1,
              "#f0f921"
             ]
            ],
            "type": "heatmap"
           }
          ],
          "histogram": [
           {
            "marker": {
             "pattern": {
              "fillmode": "overlay",
              "size": 10,
              "solidity": 0.2
             }
            },
            "type": "histogram"
           }
          ],
          "histogram2d": [
           {
            "colorbar": {
             "outlinewidth": 0,
             "ticks": ""
            },
            "colorscale": [
             [
              0,
              "#0d0887"
             ],
             [
              0.1111111111111111,
              "#46039f"
             ],
             [
              0.2222222222222222,
              "#7201a8"
             ],
             [
              0.3333333333333333,
              "#9c179e"
             ],
             [
              0.4444444444444444,
              "#bd3786"
             ],
             [
              0.5555555555555556,
              "#d8576b"
             ],
             [
              0.6666666666666666,
              "#ed7953"
             ],
             [
              0.7777777777777778,
              "#fb9f3a"
             ],
             [
              0.8888888888888888,
              "#fdca26"
             ],
             [
              1,
              "#f0f921"
             ]
            ],
            "type": "histogram2d"
           }
          ],
          "histogram2dcontour": [
           {
            "colorbar": {
             "outlinewidth": 0,
             "ticks": ""
            },
            "colorscale": [
             [
              0,
              "#0d0887"
             ],
             [
              0.1111111111111111,
              "#46039f"
             ],
             [
              0.2222222222222222,
              "#7201a8"
             ],
             [
              0.3333333333333333,
              "#9c179e"
             ],
             [
              0.4444444444444444,
              "#bd3786"
             ],
             [
              0.5555555555555556,
              "#d8576b"
             ],
             [
              0.6666666666666666,
              "#ed7953"
             ],
             [
              0.7777777777777778,
              "#fb9f3a"
             ],
             [
              0.8888888888888888,
              "#fdca26"
             ],
             [
              1,
              "#f0f921"
             ]
            ],
            "type": "histogram2dcontour"
           }
          ],
          "mesh3d": [
           {
            "colorbar": {
             "outlinewidth": 0,
             "ticks": ""
            },
            "type": "mesh3d"
           }
          ],
          "parcoords": [
           {
            "line": {
             "colorbar": {
              "outlinewidth": 0,
              "ticks": ""
             }
            },
            "type": "parcoords"
           }
          ],
          "pie": [
           {
            "automargin": true,
            "type": "pie"
           }
          ],
          "scatter": [
           {
            "fillpattern": {
             "fillmode": "overlay",
             "size": 10,
             "solidity": 0.2
            },
            "type": "scatter"
           }
          ],
          "scatter3d": [
           {
            "line": {
             "colorbar": {
              "outlinewidth": 0,
              "ticks": ""
             }
            },
            "marker": {
             "colorbar": {
              "outlinewidth": 0,
              "ticks": ""
             }
            },
            "type": "scatter3d"
           }
          ],
          "scattercarpet": [
           {
            "marker": {
             "colorbar": {
              "outlinewidth": 0,
              "ticks": ""
             }
            },
            "type": "scattercarpet"
           }
          ],
          "scattergeo": [
           {
            "marker": {
             "colorbar": {
              "outlinewidth": 0,
              "ticks": ""
             }
            },
            "type": "scattergeo"
           }
          ],
          "scattergl": [
           {
            "marker": {
             "colorbar": {
              "outlinewidth": 0,
              "ticks": ""
             }
            },
            "type": "scattergl"
           }
          ],
          "scattermap": [
           {
            "marker": {
             "colorbar": {
              "outlinewidth": 0,
              "ticks": ""
             }
            },
            "type": "scattermap"
           }
          ],
          "scattermapbox": [
           {
            "marker": {
             "colorbar": {
              "outlinewidth": 0,
              "ticks": ""
             }
            },
            "type": "scattermapbox"
           }
          ],
          "scatterpolar": [
           {
            "marker": {
             "colorbar": {
              "outlinewidth": 0,
              "ticks": ""
             }
            },
            "type": "scatterpolar"
           }
          ],
          "scatterpolargl": [
           {
            "marker": {
             "colorbar": {
              "outlinewidth": 0,
              "ticks": ""
             }
            },
            "type": "scatterpolargl"
           }
          ],
          "scatterternary": [
           {
            "marker": {
             "colorbar": {
              "outlinewidth": 0,
              "ticks": ""
             }
            },
            "type": "scatterternary"
           }
          ],
          "surface": [
           {
            "colorbar": {
             "outlinewidth": 0,
             "ticks": ""
            },
            "colorscale": [
             [
              0,
              "#0d0887"
             ],
             [
              0.1111111111111111,
              "#46039f"
             ],
             [
              0.2222222222222222,
              "#7201a8"
             ],
             [
              0.3333333333333333,
              "#9c179e"
             ],
             [
              0.4444444444444444,
              "#bd3786"
             ],
             [
              0.5555555555555556,
              "#d8576b"
             ],
             [
              0.6666666666666666,
              "#ed7953"
             ],
             [
              0.7777777777777778,
              "#fb9f3a"
             ],
             [
              0.8888888888888888,
              "#fdca26"
             ],
             [
              1,
              "#f0f921"
             ]
            ],
            "type": "surface"
           }
          ],
          "table": [
           {
            "cells": {
             "fill": {
              "color": "#EBF0F8"
             },
             "line": {
              "color": "white"
             }
            },
            "header": {
             "fill": {
              "color": "#C8D4E3"
             },
             "line": {
              "color": "white"
             }
            },
            "type": "table"
           }
          ]
         },
         "layout": {
          "annotationdefaults": {
           "arrowcolor": "#2a3f5f",
           "arrowhead": 0,
           "arrowwidth": 1
          },
          "autotypenumbers": "strict",
          "coloraxis": {
           "colorbar": {
            "outlinewidth": 0,
            "ticks": ""
           }
          },
          "colorscale": {
           "diverging": [
            [
             0,
             "#8e0152"
            ],
            [
             0.1,
             "#c51b7d"
            ],
            [
             0.2,
             "#de77ae"
            ],
            [
             0.3,
             "#f1b6da"
            ],
            [
             0.4,
             "#fde0ef"
            ],
            [
             0.5,
             "#f7f7f7"
            ],
            [
             0.6,
             "#e6f5d0"
            ],
            [
             0.7,
             "#b8e186"
            ],
            [
             0.8,
             "#7fbc41"
            ],
            [
             0.9,
             "#4d9221"
            ],
            [
             1,
             "#276419"
            ]
           ],
           "sequential": [
            [
             0,
             "#0d0887"
            ],
            [
             0.1111111111111111,
             "#46039f"
            ],
            [
             0.2222222222222222,
             "#7201a8"
            ],
            [
             0.3333333333333333,
             "#9c179e"
            ],
            [
             0.4444444444444444,
             "#bd3786"
            ],
            [
             0.5555555555555556,
             "#d8576b"
            ],
            [
             0.6666666666666666,
             "#ed7953"
            ],
            [
             0.7777777777777778,
             "#fb9f3a"
            ],
            [
             0.8888888888888888,
             "#fdca26"
            ],
            [
             1,
             "#f0f921"
            ]
           ],
           "sequentialminus": [
            [
             0,
             "#0d0887"
            ],
            [
             0.1111111111111111,
             "#46039f"
            ],
            [
             0.2222222222222222,
             "#7201a8"
            ],
            [
             0.3333333333333333,
             "#9c179e"
            ],
            [
             0.4444444444444444,
             "#bd3786"
            ],
            [
             0.5555555555555556,
             "#d8576b"
            ],
            [
             0.6666666666666666,
             "#ed7953"
            ],
            [
             0.7777777777777778,
             "#fb9f3a"
            ],
            [
             0.8888888888888888,
             "#fdca26"
            ],
            [
             1,
             "#f0f921"
            ]
           ]
          },
          "colorway": [
           "#636efa",
           "#EF553B",
           "#00cc96",
           "#ab63fa",
           "#FFA15A",
           "#19d3f3",
           "#FF6692",
           "#B6E880",
           "#FF97FF",
           "#FECB52"
          ],
          "font": {
           "color": "#2a3f5f"
          },
          "geo": {
           "bgcolor": "white",
           "lakecolor": "white",
           "landcolor": "#E5ECF6",
           "showlakes": true,
           "showland": true,
           "subunitcolor": "white"
          },
          "hoverlabel": {
           "align": "left"
          },
          "hovermode": "closest",
          "mapbox": {
           "style": "light"
          },
          "paper_bgcolor": "white",
          "plot_bgcolor": "#E5ECF6",
          "polar": {
           "angularaxis": {
            "gridcolor": "white",
            "linecolor": "white",
            "ticks": ""
           },
           "bgcolor": "#E5ECF6",
           "radialaxis": {
            "gridcolor": "white",
            "linecolor": "white",
            "ticks": ""
           }
          },
          "scene": {
           "xaxis": {
            "backgroundcolor": "#E5ECF6",
            "gridcolor": "white",
            "gridwidth": 2,
            "linecolor": "white",
            "showbackground": true,
            "ticks": "",
            "zerolinecolor": "white"
           },
           "yaxis": {
            "backgroundcolor": "#E5ECF6",
            "gridcolor": "white",
            "gridwidth": 2,
            "linecolor": "white",
            "showbackground": true,
            "ticks": "",
            "zerolinecolor": "white"
           },
           "zaxis": {
            "backgroundcolor": "#E5ECF6",
            "gridcolor": "white",
            "gridwidth": 2,
            "linecolor": "white",
            "showbackground": true,
            "ticks": "",
            "zerolinecolor": "white"
           }
          },
          "shapedefaults": {
           "line": {
            "color": "#2a3f5f"
           }
          },
          "ternary": {
           "aaxis": {
            "gridcolor": "white",
            "linecolor": "white",
            "ticks": ""
           },
           "baxis": {
            "gridcolor": "white",
            "linecolor": "white",
            "ticks": ""
           },
           "bgcolor": "#E5ECF6",
           "caxis": {
            "gridcolor": "white",
            "linecolor": "white",
            "ticks": ""
           }
          },
          "title": {
           "x": 0.05
          },
          "xaxis": {
           "automargin": true,
           "gridcolor": "white",
           "linecolor": "white",
           "ticks": "",
           "title": {
            "standoff": 15
           },
           "zerolinecolor": "white",
           "zerolinewidth": 2
          },
          "yaxis": {
           "automargin": true,
           "gridcolor": "white",
           "linecolor": "white",
           "ticks": "",
           "title": {
            "standoff": 15
           },
           "zerolinecolor": "white",
           "zerolinewidth": 2
          }
         }
        },
        "title": {
         "text": "Distribution of Economic Growth Rates"
        },
        "xaxis": {
         "anchor": "y",
         "domain": [
          0,
          1
         ],
         "title": {
          "text": "Country Growth (%)"
         }
        },
        "xaxis2": {
         "anchor": "y2",
         "domain": [
          0,
          1
         ],
         "matches": "x",
         "showgrid": true,
         "showticklabels": false
        },
        "yaxis": {
         "anchor": "x",
         "domain": [
          0,
          0.8316
         ],
         "title": {
          "text": "count"
         }
        },
        "yaxis2": {
         "anchor": "x2",
         "domain": [
          0.8416,
          1
         ],
         "matches": "y2",
         "showgrid": false,
         "showline": false,
         "showticklabels": false,
         "ticks": ""
        }
       }
      }
     },
     "metadata": {},
     "output_type": "display_data"
    }
   ],
   "source": [
    "# Create time series plots for each variable\n",
    "def create_time_series(data, y_col, title):\n",
    "    fig = px.line(data, x=\"Year\", y=y_col, title=title)\n",
    "    fig.update_layout(showlegend=False)\n",
    "    return fig\n",
    "\n",
    "\n",
    "# Economic Growth Time Series\n",
    "fig_growth = create_time_series(\n",
    "    ger_trade,\n",
    "    \"Country Growth (%)\",\n",
    "    \"Germany Economic Growth Rate Over Time (1988-2021)\",\n",
    ")\n",
    "fig_growth.show()\n",
    "\n",
    "# Distribution of Economic Growth\n",
    "fig_growth_dist = px.histogram(\n",
    "    ger_trade,\n",
    "    x=\"Country Growth (%)\",\n",
    "    title=\"Distribution of Economic Growth Rates\",\n",
    "    marginal=\"box\",\n",
    ")\n",
    "fig_growth_dist.show()"
   ]
  },
  {
   "cell_type": "code",
   "execution_count": 24,
   "id": "539c7c55",
   "metadata": {},
   "outputs": [
    {
     "data": {
      "application/vnd.plotly.v1+json": {
       "config": {
        "plotlyServerURL": "https://plot.ly"
       },
       "data": [
        {
         "hovertemplate": "variable=AHS Simple Average (%)<br>Year=%{x}<br>value=%{y}<extra></extra>",
         "legendgroup": "AHS Simple Average (%)",
         "line": {
          "color": "#636efa",
          "dash": "solid"
         },
         "marker": {
          "symbol": "circle"
         },
         "mode": "lines",
         "name": "AHS Simple Average (%)",
         "orientation": "v",
         "showlegend": true,
         "type": "scatter",
         "x": {
          "bdata": "xAfFB8YHxwfIB8kHygfLB8wHzQfOB88H0AfRB9IH0wfUB9UH1gfXB9gH2QfaB9sH3AfdB94H3wfgB+EH4gfjB+QH5Qc=",
          "dtype": "i2"
         },
         "xaxis": "x",
         "y": {
          "bdata": "PQrXo3D9MUA9CtejcL03QNejcD0Kd0pA16NwPQpXLUApXI/C9SgtQJqZmZmZmShAPQrXo3C9L0ApXI/C9SgqQJqZmZmZmSNAZmZmZmbmJECkcD0K1yMlQFK4HoXrUSVA9ihcj8J1JkA9CtejcD0jQK5H4XoULiRAKVyPwvUoI0CF61G4HgUiQK5H4XoUriBAXI/C9ShcIEAfhetRuB4eQAAAAAAAAB5ASOF6FK5HHED2KFyPwvUcQPYoXI/C9RxAcT0K16NwGkBcj8L1KFwbQK5H4XoUrhhAmpmZmZmZGECkcD0K16MaQKRwPQrXoxZAZmZmZmZmGEA9CtejcD0cQHsUrkfhehhACtejcD0KF0A=",
          "dtype": "f8"
         },
         "yaxis": "y"
        },
        {
         "hovertemplate": "variable=MFN Simple Average (%)<br>Year=%{x}<br>value=%{y}<extra></extra>",
         "legendgroup": "MFN Simple Average (%)",
         "line": {
          "color": "#EF553B",
          "dash": "solid"
         },
         "marker": {
          "symbol": "circle"
         },
         "mode": "lines",
         "name": "MFN Simple Average (%)",
         "orientation": "v",
         "showlegend": true,
         "type": "scatter",
         "x": {
          "bdata": "xAfFB8YHxwfIB8kHygfLB8wHzQfOB88H0AfRB9IH0wfUB9UH1gfXB9gH2QfaB9sH3AfdB94H3wfgB+EH4gfjB+QH5Qc=",
          "dtype": "i2"
         },
         "xaxis": "x",
         "y": {
          "bdata": "NDMzMzNzPEDsUbgehWtHQDMzMzMz00RAPQrXo3A9L0CuR+F6FK4vQJqZmZmZGTBAZmZmZmamMkBcj8L1KNwsQI/C9ShcDyhA16NwPQrXKECuR+F6FC4qQNejcD0K1ylAexSuR+F6J0AUrkfhehQmQIXrUbgeBSdAFK5H4XoUJUAAAAAAAAAjQDMzMzMzsyNAFK5H4XoUI0AK16NwPQoiQD0K16NwPSJAH4XrUbgeIkC4HoXrUbghQNejcD0K1yFA9ihcj8J1IUCF61G4HoUhQEjhehSuxyBAZmZmZmZmIUA9CtejcD0hQLgehetRuCBAexSuR+F6IUDhehSuR2EiQJqZmZmZmSBACtejcD0KIUA=",
          "dtype": "f8"
         },
         "yaxis": "y"
        }
       ],
       "layout": {
        "legend": {
         "title": {
          "text": "variable"
         },
         "tracegroupgap": 0
        },
        "template": {
         "data": {
          "bar": [
           {
            "error_x": {
             "color": "#2a3f5f"
            },
            "error_y": {
             "color": "#2a3f5f"
            },
            "marker": {
             "line": {
              "color": "#E5ECF6",
              "width": 0.5
             },
             "pattern": {
              "fillmode": "overlay",
              "size": 10,
              "solidity": 0.2
             }
            },
            "type": "bar"
           }
          ],
          "barpolar": [
           {
            "marker": {
             "line": {
              "color": "#E5ECF6",
              "width": 0.5
             },
             "pattern": {
              "fillmode": "overlay",
              "size": 10,
              "solidity": 0.2
             }
            },
            "type": "barpolar"
           }
          ],
          "carpet": [
           {
            "aaxis": {
             "endlinecolor": "#2a3f5f",
             "gridcolor": "white",
             "linecolor": "white",
             "minorgridcolor": "white",
             "startlinecolor": "#2a3f5f"
            },
            "baxis": {
             "endlinecolor": "#2a3f5f",
             "gridcolor": "white",
             "linecolor": "white",
             "minorgridcolor": "white",
             "startlinecolor": "#2a3f5f"
            },
            "type": "carpet"
           }
          ],
          "choropleth": [
           {
            "colorbar": {
             "outlinewidth": 0,
             "ticks": ""
            },
            "type": "choropleth"
           }
          ],
          "contour": [
           {
            "colorbar": {
             "outlinewidth": 0,
             "ticks": ""
            },
            "colorscale": [
             [
              0,
              "#0d0887"
             ],
             [
              0.1111111111111111,
              "#46039f"
             ],
             [
              0.2222222222222222,
              "#7201a8"
             ],
             [
              0.3333333333333333,
              "#9c179e"
             ],
             [
              0.4444444444444444,
              "#bd3786"
             ],
             [
              0.5555555555555556,
              "#d8576b"
             ],
             [
              0.6666666666666666,
              "#ed7953"
             ],
             [
              0.7777777777777778,
              "#fb9f3a"
             ],
             [
              0.8888888888888888,
              "#fdca26"
             ],
             [
              1,
              "#f0f921"
             ]
            ],
            "type": "contour"
           }
          ],
          "contourcarpet": [
           {
            "colorbar": {
             "outlinewidth": 0,
             "ticks": ""
            },
            "type": "contourcarpet"
           }
          ],
          "heatmap": [
           {
            "colorbar": {
             "outlinewidth": 0,
             "ticks": ""
            },
            "colorscale": [
             [
              0,
              "#0d0887"
             ],
             [
              0.1111111111111111,
              "#46039f"
             ],
             [
              0.2222222222222222,
              "#7201a8"
             ],
             [
              0.3333333333333333,
              "#9c179e"
             ],
             [
              0.4444444444444444,
              "#bd3786"
             ],
             [
              0.5555555555555556,
              "#d8576b"
             ],
             [
              0.6666666666666666,
              "#ed7953"
             ],
             [
              0.7777777777777778,
              "#fb9f3a"
             ],
             [
              0.8888888888888888,
              "#fdca26"
             ],
             [
              1,
              "#f0f921"
             ]
            ],
            "type": "heatmap"
           }
          ],
          "histogram": [
           {
            "marker": {
             "pattern": {
              "fillmode": "overlay",
              "size": 10,
              "solidity": 0.2
             }
            },
            "type": "histogram"
           }
          ],
          "histogram2d": [
           {
            "colorbar": {
             "outlinewidth": 0,
             "ticks": ""
            },
            "colorscale": [
             [
              0,
              "#0d0887"
             ],
             [
              0.1111111111111111,
              "#46039f"
             ],
             [
              0.2222222222222222,
              "#7201a8"
             ],
             [
              0.3333333333333333,
              "#9c179e"
             ],
             [
              0.4444444444444444,
              "#bd3786"
             ],
             [
              0.5555555555555556,
              "#d8576b"
             ],
             [
              0.6666666666666666,
              "#ed7953"
             ],
             [
              0.7777777777777778,
              "#fb9f3a"
             ],
             [
              0.8888888888888888,
              "#fdca26"
             ],
             [
              1,
              "#f0f921"
             ]
            ],
            "type": "histogram2d"
           }
          ],
          "histogram2dcontour": [
           {
            "colorbar": {
             "outlinewidth": 0,
             "ticks": ""
            },
            "colorscale": [
             [
              0,
              "#0d0887"
             ],
             [
              0.1111111111111111,
              "#46039f"
             ],
             [
              0.2222222222222222,
              "#7201a8"
             ],
             [
              0.3333333333333333,
              "#9c179e"
             ],
             [
              0.4444444444444444,
              "#bd3786"
             ],
             [
              0.5555555555555556,
              "#d8576b"
             ],
             [
              0.6666666666666666,
              "#ed7953"
             ],
             [
              0.7777777777777778,
              "#fb9f3a"
             ],
             [
              0.8888888888888888,
              "#fdca26"
             ],
             [
              1,
              "#f0f921"
             ]
            ],
            "type": "histogram2dcontour"
           }
          ],
          "mesh3d": [
           {
            "colorbar": {
             "outlinewidth": 0,
             "ticks": ""
            },
            "type": "mesh3d"
           }
          ],
          "parcoords": [
           {
            "line": {
             "colorbar": {
              "outlinewidth": 0,
              "ticks": ""
             }
            },
            "type": "parcoords"
           }
          ],
          "pie": [
           {
            "automargin": true,
            "type": "pie"
           }
          ],
          "scatter": [
           {
            "fillpattern": {
             "fillmode": "overlay",
             "size": 10,
             "solidity": 0.2
            },
            "type": "scatter"
           }
          ],
          "scatter3d": [
           {
            "line": {
             "colorbar": {
              "outlinewidth": 0,
              "ticks": ""
             }
            },
            "marker": {
             "colorbar": {
              "outlinewidth": 0,
              "ticks": ""
             }
            },
            "type": "scatter3d"
           }
          ],
          "scattercarpet": [
           {
            "marker": {
             "colorbar": {
              "outlinewidth": 0,
              "ticks": ""
             }
            },
            "type": "scattercarpet"
           }
          ],
          "scattergeo": [
           {
            "marker": {
             "colorbar": {
              "outlinewidth": 0,
              "ticks": ""
             }
            },
            "type": "scattergeo"
           }
          ],
          "scattergl": [
           {
            "marker": {
             "colorbar": {
              "outlinewidth": 0,
              "ticks": ""
             }
            },
            "type": "scattergl"
           }
          ],
          "scattermap": [
           {
            "marker": {
             "colorbar": {
              "outlinewidth": 0,
              "ticks": ""
             }
            },
            "type": "scattermap"
           }
          ],
          "scattermapbox": [
           {
            "marker": {
             "colorbar": {
              "outlinewidth": 0,
              "ticks": ""
             }
            },
            "type": "scattermapbox"
           }
          ],
          "scatterpolar": [
           {
            "marker": {
             "colorbar": {
              "outlinewidth": 0,
              "ticks": ""
             }
            },
            "type": "scatterpolar"
           }
          ],
          "scatterpolargl": [
           {
            "marker": {
             "colorbar": {
              "outlinewidth": 0,
              "ticks": ""
             }
            },
            "type": "scatterpolargl"
           }
          ],
          "scatterternary": [
           {
            "marker": {
             "colorbar": {
              "outlinewidth": 0,
              "ticks": ""
             }
            },
            "type": "scatterternary"
           }
          ],
          "surface": [
           {
            "colorbar": {
             "outlinewidth": 0,
             "ticks": ""
            },
            "colorscale": [
             [
              0,
              "#0d0887"
             ],
             [
              0.1111111111111111,
              "#46039f"
             ],
             [
              0.2222222222222222,
              "#7201a8"
             ],
             [
              0.3333333333333333,
              "#9c179e"
             ],
             [
              0.4444444444444444,
              "#bd3786"
             ],
             [
              0.5555555555555556,
              "#d8576b"
             ],
             [
              0.6666666666666666,
              "#ed7953"
             ],
             [
              0.7777777777777778,
              "#fb9f3a"
             ],
             [
              0.8888888888888888,
              "#fdca26"
             ],
             [
              1,
              "#f0f921"
             ]
            ],
            "type": "surface"
           }
          ],
          "table": [
           {
            "cells": {
             "fill": {
              "color": "#EBF0F8"
             },
             "line": {
              "color": "white"
             }
            },
            "header": {
             "fill": {
              "color": "#C8D4E3"
             },
             "line": {
              "color": "white"
             }
            },
            "type": "table"
           }
          ]
         },
         "layout": {
          "annotationdefaults": {
           "arrowcolor": "#2a3f5f",
           "arrowhead": 0,
           "arrowwidth": 1
          },
          "autotypenumbers": "strict",
          "coloraxis": {
           "colorbar": {
            "outlinewidth": 0,
            "ticks": ""
           }
          },
          "colorscale": {
           "diverging": [
            [
             0,
             "#8e0152"
            ],
            [
             0.1,
             "#c51b7d"
            ],
            [
             0.2,
             "#de77ae"
            ],
            [
             0.3,
             "#f1b6da"
            ],
            [
             0.4,
             "#fde0ef"
            ],
            [
             0.5,
             "#f7f7f7"
            ],
            [
             0.6,
             "#e6f5d0"
            ],
            [
             0.7,
             "#b8e186"
            ],
            [
             0.8,
             "#7fbc41"
            ],
            [
             0.9,
             "#4d9221"
            ],
            [
             1,
             "#276419"
            ]
           ],
           "sequential": [
            [
             0,
             "#0d0887"
            ],
            [
             0.1111111111111111,
             "#46039f"
            ],
            [
             0.2222222222222222,
             "#7201a8"
            ],
            [
             0.3333333333333333,
             "#9c179e"
            ],
            [
             0.4444444444444444,
             "#bd3786"
            ],
            [
             0.5555555555555556,
             "#d8576b"
            ],
            [
             0.6666666666666666,
             "#ed7953"
            ],
            [
             0.7777777777777778,
             "#fb9f3a"
            ],
            [
             0.8888888888888888,
             "#fdca26"
            ],
            [
             1,
             "#f0f921"
            ]
           ],
           "sequentialminus": [
            [
             0,
             "#0d0887"
            ],
            [
             0.1111111111111111,
             "#46039f"
            ],
            [
             0.2222222222222222,
             "#7201a8"
            ],
            [
             0.3333333333333333,
             "#9c179e"
            ],
            [
             0.4444444444444444,
             "#bd3786"
            ],
            [
             0.5555555555555556,
             "#d8576b"
            ],
            [
             0.6666666666666666,
             "#ed7953"
            ],
            [
             0.7777777777777778,
             "#fb9f3a"
            ],
            [
             0.8888888888888888,
             "#fdca26"
            ],
            [
             1,
             "#f0f921"
            ]
           ]
          },
          "colorway": [
           "#636efa",
           "#EF553B",
           "#00cc96",
           "#ab63fa",
           "#FFA15A",
           "#19d3f3",
           "#FF6692",
           "#B6E880",
           "#FF97FF",
           "#FECB52"
          ],
          "font": {
           "color": "#2a3f5f"
          },
          "geo": {
           "bgcolor": "white",
           "lakecolor": "white",
           "landcolor": "#E5ECF6",
           "showlakes": true,
           "showland": true,
           "subunitcolor": "white"
          },
          "hoverlabel": {
           "align": "left"
          },
          "hovermode": "closest",
          "mapbox": {
           "style": "light"
          },
          "paper_bgcolor": "white",
          "plot_bgcolor": "#E5ECF6",
          "polar": {
           "angularaxis": {
            "gridcolor": "white",
            "linecolor": "white",
            "ticks": ""
           },
           "bgcolor": "#E5ECF6",
           "radialaxis": {
            "gridcolor": "white",
            "linecolor": "white",
            "ticks": ""
           }
          },
          "scene": {
           "xaxis": {
            "backgroundcolor": "#E5ECF6",
            "gridcolor": "white",
            "gridwidth": 2,
            "linecolor": "white",
            "showbackground": true,
            "ticks": "",
            "zerolinecolor": "white"
           },
           "yaxis": {
            "backgroundcolor": "#E5ECF6",
            "gridcolor": "white",
            "gridwidth": 2,
            "linecolor": "white",
            "showbackground": true,
            "ticks": "",
            "zerolinecolor": "white"
           },
           "zaxis": {
            "backgroundcolor": "#E5ECF6",
            "gridcolor": "white",
            "gridwidth": 2,
            "linecolor": "white",
            "showbackground": true,
            "ticks": "",
            "zerolinecolor": "white"
           }
          },
          "shapedefaults": {
           "line": {
            "color": "#2a3f5f"
           }
          },
          "ternary": {
           "aaxis": {
            "gridcolor": "white",
            "linecolor": "white",
            "ticks": ""
           },
           "baxis": {
            "gridcolor": "white",
            "linecolor": "white",
            "ticks": ""
           },
           "bgcolor": "#E5ECF6",
           "caxis": {
            "gridcolor": "white",
            "linecolor": "white",
            "ticks": ""
           }
          },
          "title": {
           "x": 0.05
          },
          "xaxis": {
           "automargin": true,
           "gridcolor": "white",
           "linecolor": "white",
           "ticks": "",
           "title": {
            "standoff": 15
           },
           "zerolinecolor": "white",
           "zerolinewidth": 2
          },
          "yaxis": {
           "automargin": true,
           "gridcolor": "white",
           "linecolor": "white",
           "ticks": "",
           "title": {
            "standoff": 15
           },
           "zerolinecolor": "white",
           "zerolinewidth": 2
          }
         }
        },
        "title": {
         "text": "Tariff Rates Over Time (1988-2021)"
        },
        "xaxis": {
         "anchor": "y",
         "domain": [
          0,
          1
         ],
         "title": {
          "text": "Year"
         }
        },
        "yaxis": {
         "anchor": "x",
         "domain": [
          0,
          1
         ],
         "title": {
          "text": "value"
         }
        }
       }
      }
     },
     "metadata": {},
     "output_type": "display_data"
    },
    {
     "data": {
      "application/vnd.plotly.v1+json": {
       "config": {
        "plotlyServerURL": "https://plot.ly"
       },
       "data": [
        {
         "bingroup": "x",
         "hovertemplate": "variable=AHS Simple Average (%)<br>value=%{x}<br>count=%{y}<extra></extra>",
         "legendgroup": "AHS Simple Average (%)",
         "marker": {
          "color": "#636efa",
          "pattern": {
           "shape": ""
          }
         },
         "name": "AHS Simple Average (%)",
         "orientation": "v",
         "showlegend": true,
         "type": "histogram",
         "x": {
          "bdata": "PQrXo3D9MUA9CtejcL03QNejcD0Kd0pA16NwPQpXLUApXI/C9SgtQJqZmZmZmShAPQrXo3C9L0ApXI/C9SgqQJqZmZmZmSNAZmZmZmbmJECkcD0K1yMlQFK4HoXrUSVA9ihcj8J1JkA9CtejcD0jQK5H4XoULiRAKVyPwvUoI0CF61G4HgUiQK5H4XoUriBAXI/C9ShcIEAfhetRuB4eQAAAAAAAAB5ASOF6FK5HHED2KFyPwvUcQPYoXI/C9RxAcT0K16NwGkBcj8L1KFwbQK5H4XoUrhhAmpmZmZmZGECkcD0K16MaQKRwPQrXoxZAZmZmZmZmGEA9CtejcD0cQHsUrkfhehhACtejcD0KF0A=",
          "dtype": "f8"
         },
         "xaxis": "x",
         "yaxis": "y"
        },
        {
         "hovertemplate": "variable=AHS Simple Average (%)<br>value=%{x}<extra></extra>",
         "legendgroup": "AHS Simple Average (%)",
         "marker": {
          "color": "#636efa"
         },
         "name": "AHS Simple Average (%)",
         "notched": true,
         "showlegend": false,
         "type": "box",
         "x": {
          "bdata": "PQrXo3D9MUA9CtejcL03QNejcD0Kd0pA16NwPQpXLUApXI/C9SgtQJqZmZmZmShAPQrXo3C9L0ApXI/C9SgqQJqZmZmZmSNAZmZmZmbmJECkcD0K1yMlQFK4HoXrUSVA9ihcj8J1JkA9CtejcD0jQK5H4XoULiRAKVyPwvUoI0CF61G4HgUiQK5H4XoUriBAXI/C9ShcIEAfhetRuB4eQAAAAAAAAB5ASOF6FK5HHED2KFyPwvUcQPYoXI/C9RxAcT0K16NwGkBcj8L1KFwbQK5H4XoUrhhAmpmZmZmZGECkcD0K16MaQKRwPQrXoxZAZmZmZmZmGEA9CtejcD0cQHsUrkfhehhACtejcD0KF0A=",
          "dtype": "f8"
         },
         "xaxis": "x2",
         "yaxis": "y2"
        },
        {
         "bingroup": "x",
         "hovertemplate": "variable=MFN Simple Average (%)<br>value=%{x}<br>count=%{y}<extra></extra>",
         "legendgroup": "MFN Simple Average (%)",
         "marker": {
          "color": "#EF553B",
          "pattern": {
           "shape": ""
          }
         },
         "name": "MFN Simple Average (%)",
         "orientation": "v",
         "showlegend": true,
         "type": "histogram",
         "x": {
          "bdata": "NDMzMzNzPEDsUbgehWtHQDMzMzMz00RAPQrXo3A9L0CuR+F6FK4vQJqZmZmZGTBAZmZmZmamMkBcj8L1KNwsQI/C9ShcDyhA16NwPQrXKECuR+F6FC4qQNejcD0K1ylAexSuR+F6J0AUrkfhehQmQIXrUbgeBSdAFK5H4XoUJUAAAAAAAAAjQDMzMzMzsyNAFK5H4XoUI0AK16NwPQoiQD0K16NwPSJAH4XrUbgeIkC4HoXrUbghQNejcD0K1yFA9ihcj8J1IUCF61G4HoUhQEjhehSuxyBAZmZmZmZmIUA9CtejcD0hQLgehetRuCBAexSuR+F6IUDhehSuR2EiQJqZmZmZmSBACtejcD0KIUA=",
          "dtype": "f8"
         },
         "xaxis": "x",
         "yaxis": "y"
        },
        {
         "hovertemplate": "variable=MFN Simple Average (%)<br>value=%{x}<extra></extra>",
         "legendgroup": "MFN Simple Average (%)",
         "marker": {
          "color": "#EF553B"
         },
         "name": "MFN Simple Average (%)",
         "notched": true,
         "showlegend": false,
         "type": "box",
         "x": {
          "bdata": "NDMzMzNzPEDsUbgehWtHQDMzMzMz00RAPQrXo3A9L0CuR+F6FK4vQJqZmZmZGTBAZmZmZmamMkBcj8L1KNwsQI/C9ShcDyhA16NwPQrXKECuR+F6FC4qQNejcD0K1ylAexSuR+F6J0AUrkfhehQmQIXrUbgeBSdAFK5H4XoUJUAAAAAAAAAjQDMzMzMzsyNAFK5H4XoUI0AK16NwPQoiQD0K16NwPSJAH4XrUbgeIkC4HoXrUbghQNejcD0K1yFA9ihcj8J1IUCF61G4HoUhQEjhehSuxyBAZmZmZmZmIUA9CtejcD0hQLgehetRuCBAexSuR+F6IUDhehSuR2EiQJqZmZmZmSBACtejcD0KIUA=",
          "dtype": "f8"
         },
         "xaxis": "x2",
         "yaxis": "y2"
        }
       ],
       "layout": {
        "barmode": "relative",
        "legend": {
         "title": {
          "text": "variable"
         },
         "tracegroupgap": 0
        },
        "template": {
         "data": {
          "bar": [
           {
            "error_x": {
             "color": "#2a3f5f"
            },
            "error_y": {
             "color": "#2a3f5f"
            },
            "marker": {
             "line": {
              "color": "#E5ECF6",
              "width": 0.5
             },
             "pattern": {
              "fillmode": "overlay",
              "size": 10,
              "solidity": 0.2
             }
            },
            "type": "bar"
           }
          ],
          "barpolar": [
           {
            "marker": {
             "line": {
              "color": "#E5ECF6",
              "width": 0.5
             },
             "pattern": {
              "fillmode": "overlay",
              "size": 10,
              "solidity": 0.2
             }
            },
            "type": "barpolar"
           }
          ],
          "carpet": [
           {
            "aaxis": {
             "endlinecolor": "#2a3f5f",
             "gridcolor": "white",
             "linecolor": "white",
             "minorgridcolor": "white",
             "startlinecolor": "#2a3f5f"
            },
            "baxis": {
             "endlinecolor": "#2a3f5f",
             "gridcolor": "white",
             "linecolor": "white",
             "minorgridcolor": "white",
             "startlinecolor": "#2a3f5f"
            },
            "type": "carpet"
           }
          ],
          "choropleth": [
           {
            "colorbar": {
             "outlinewidth": 0,
             "ticks": ""
            },
            "type": "choropleth"
           }
          ],
          "contour": [
           {
            "colorbar": {
             "outlinewidth": 0,
             "ticks": ""
            },
            "colorscale": [
             [
              0,
              "#0d0887"
             ],
             [
              0.1111111111111111,
              "#46039f"
             ],
             [
              0.2222222222222222,
              "#7201a8"
             ],
             [
              0.3333333333333333,
              "#9c179e"
             ],
             [
              0.4444444444444444,
              "#bd3786"
             ],
             [
              0.5555555555555556,
              "#d8576b"
             ],
             [
              0.6666666666666666,
              "#ed7953"
             ],
             [
              0.7777777777777778,
              "#fb9f3a"
             ],
             [
              0.8888888888888888,
              "#fdca26"
             ],
             [
              1,
              "#f0f921"
             ]
            ],
            "type": "contour"
           }
          ],
          "contourcarpet": [
           {
            "colorbar": {
             "outlinewidth": 0,
             "ticks": ""
            },
            "type": "contourcarpet"
           }
          ],
          "heatmap": [
           {
            "colorbar": {
             "outlinewidth": 0,
             "ticks": ""
            },
            "colorscale": [
             [
              0,
              "#0d0887"
             ],
             [
              0.1111111111111111,
              "#46039f"
             ],
             [
              0.2222222222222222,
              "#7201a8"
             ],
             [
              0.3333333333333333,
              "#9c179e"
             ],
             [
              0.4444444444444444,
              "#bd3786"
             ],
             [
              0.5555555555555556,
              "#d8576b"
             ],
             [
              0.6666666666666666,
              "#ed7953"
             ],
             [
              0.7777777777777778,
              "#fb9f3a"
             ],
             [
              0.8888888888888888,
              "#fdca26"
             ],
             [
              1,
              "#f0f921"
             ]
            ],
            "type": "heatmap"
           }
          ],
          "histogram": [
           {
            "marker": {
             "pattern": {
              "fillmode": "overlay",
              "size": 10,
              "solidity": 0.2
             }
            },
            "type": "histogram"
           }
          ],
          "histogram2d": [
           {
            "colorbar": {
             "outlinewidth": 0,
             "ticks": ""
            },
            "colorscale": [
             [
              0,
              "#0d0887"
             ],
             [
              0.1111111111111111,
              "#46039f"
             ],
             [
              0.2222222222222222,
              "#7201a8"
             ],
             [
              0.3333333333333333,
              "#9c179e"
             ],
             [
              0.4444444444444444,
              "#bd3786"
             ],
             [
              0.5555555555555556,
              "#d8576b"
             ],
             [
              0.6666666666666666,
              "#ed7953"
             ],
             [
              0.7777777777777778,
              "#fb9f3a"
             ],
             [
              0.8888888888888888,
              "#fdca26"
             ],
             [
              1,
              "#f0f921"
             ]
            ],
            "type": "histogram2d"
           }
          ],
          "histogram2dcontour": [
           {
            "colorbar": {
             "outlinewidth": 0,
             "ticks": ""
            },
            "colorscale": [
             [
              0,
              "#0d0887"
             ],
             [
              0.1111111111111111,
              "#46039f"
             ],
             [
              0.2222222222222222,
              "#7201a8"
             ],
             [
              0.3333333333333333,
              "#9c179e"
             ],
             [
              0.4444444444444444,
              "#bd3786"
             ],
             [
              0.5555555555555556,
              "#d8576b"
             ],
             [
              0.6666666666666666,
              "#ed7953"
             ],
             [
              0.7777777777777778,
              "#fb9f3a"
             ],
             [
              0.8888888888888888,
              "#fdca26"
             ],
             [
              1,
              "#f0f921"
             ]
            ],
            "type": "histogram2dcontour"
           }
          ],
          "mesh3d": [
           {
            "colorbar": {
             "outlinewidth": 0,
             "ticks": ""
            },
            "type": "mesh3d"
           }
          ],
          "parcoords": [
           {
            "line": {
             "colorbar": {
              "outlinewidth": 0,
              "ticks": ""
             }
            },
            "type": "parcoords"
           }
          ],
          "pie": [
           {
            "automargin": true,
            "type": "pie"
           }
          ],
          "scatter": [
           {
            "fillpattern": {
             "fillmode": "overlay",
             "size": 10,
             "solidity": 0.2
            },
            "type": "scatter"
           }
          ],
          "scatter3d": [
           {
            "line": {
             "colorbar": {
              "outlinewidth": 0,
              "ticks": ""
             }
            },
            "marker": {
             "colorbar": {
              "outlinewidth": 0,
              "ticks": ""
             }
            },
            "type": "scatter3d"
           }
          ],
          "scattercarpet": [
           {
            "marker": {
             "colorbar": {
              "outlinewidth": 0,
              "ticks": ""
             }
            },
            "type": "scattercarpet"
           }
          ],
          "scattergeo": [
           {
            "marker": {
             "colorbar": {
              "outlinewidth": 0,
              "ticks": ""
             }
            },
            "type": "scattergeo"
           }
          ],
          "scattergl": [
           {
            "marker": {
             "colorbar": {
              "outlinewidth": 0,
              "ticks": ""
             }
            },
            "type": "scattergl"
           }
          ],
          "scattermap": [
           {
            "marker": {
             "colorbar": {
              "outlinewidth": 0,
              "ticks": ""
             }
            },
            "type": "scattermap"
           }
          ],
          "scattermapbox": [
           {
            "marker": {
             "colorbar": {
              "outlinewidth": 0,
              "ticks": ""
             }
            },
            "type": "scattermapbox"
           }
          ],
          "scatterpolar": [
           {
            "marker": {
             "colorbar": {
              "outlinewidth": 0,
              "ticks": ""
             }
            },
            "type": "scatterpolar"
           }
          ],
          "scatterpolargl": [
           {
            "marker": {
             "colorbar": {
              "outlinewidth": 0,
              "ticks": ""
             }
            },
            "type": "scatterpolargl"
           }
          ],
          "scatterternary": [
           {
            "marker": {
             "colorbar": {
              "outlinewidth": 0,
              "ticks": ""
             }
            },
            "type": "scatterternary"
           }
          ],
          "surface": [
           {
            "colorbar": {
             "outlinewidth": 0,
             "ticks": ""
            },
            "colorscale": [
             [
              0,
              "#0d0887"
             ],
             [
              0.1111111111111111,
              "#46039f"
             ],
             [
              0.2222222222222222,
              "#7201a8"
             ],
             [
              0.3333333333333333,
              "#9c179e"
             ],
             [
              0.4444444444444444,
              "#bd3786"
             ],
             [
              0.5555555555555556,
              "#d8576b"
             ],
             [
              0.6666666666666666,
              "#ed7953"
             ],
             [
              0.7777777777777778,
              "#fb9f3a"
             ],
             [
              0.8888888888888888,
              "#fdca26"
             ],
             [
              1,
              "#f0f921"
             ]
            ],
            "type": "surface"
           }
          ],
          "table": [
           {
            "cells": {
             "fill": {
              "color": "#EBF0F8"
             },
             "line": {
              "color": "white"
             }
            },
            "header": {
             "fill": {
              "color": "#C8D4E3"
             },
             "line": {
              "color": "white"
             }
            },
            "type": "table"
           }
          ]
         },
         "layout": {
          "annotationdefaults": {
           "arrowcolor": "#2a3f5f",
           "arrowhead": 0,
           "arrowwidth": 1
          },
          "autotypenumbers": "strict",
          "coloraxis": {
           "colorbar": {
            "outlinewidth": 0,
            "ticks": ""
           }
          },
          "colorscale": {
           "diverging": [
            [
             0,
             "#8e0152"
            ],
            [
             0.1,
             "#c51b7d"
            ],
            [
             0.2,
             "#de77ae"
            ],
            [
             0.3,
             "#f1b6da"
            ],
            [
             0.4,
             "#fde0ef"
            ],
            [
             0.5,
             "#f7f7f7"
            ],
            [
             0.6,
             "#e6f5d0"
            ],
            [
             0.7,
             "#b8e186"
            ],
            [
             0.8,
             "#7fbc41"
            ],
            [
             0.9,
             "#4d9221"
            ],
            [
             1,
             "#276419"
            ]
           ],
           "sequential": [
            [
             0,
             "#0d0887"
            ],
            [
             0.1111111111111111,
             "#46039f"
            ],
            [
             0.2222222222222222,
             "#7201a8"
            ],
            [
             0.3333333333333333,
             "#9c179e"
            ],
            [
             0.4444444444444444,
             "#bd3786"
            ],
            [
             0.5555555555555556,
             "#d8576b"
            ],
            [
             0.6666666666666666,
             "#ed7953"
            ],
            [
             0.7777777777777778,
             "#fb9f3a"
            ],
            [
             0.8888888888888888,
             "#fdca26"
            ],
            [
             1,
             "#f0f921"
            ]
           ],
           "sequentialminus": [
            [
             0,
             "#0d0887"
            ],
            [
             0.1111111111111111,
             "#46039f"
            ],
            [
             0.2222222222222222,
             "#7201a8"
            ],
            [
             0.3333333333333333,
             "#9c179e"
            ],
            [
             0.4444444444444444,
             "#bd3786"
            ],
            [
             0.5555555555555556,
             "#d8576b"
            ],
            [
             0.6666666666666666,
             "#ed7953"
            ],
            [
             0.7777777777777778,
             "#fb9f3a"
            ],
            [
             0.8888888888888888,
             "#fdca26"
            ],
            [
             1,
             "#f0f921"
            ]
           ]
          },
          "colorway": [
           "#636efa",
           "#EF553B",
           "#00cc96",
           "#ab63fa",
           "#FFA15A",
           "#19d3f3",
           "#FF6692",
           "#B6E880",
           "#FF97FF",
           "#FECB52"
          ],
          "font": {
           "color": "#2a3f5f"
          },
          "geo": {
           "bgcolor": "white",
           "lakecolor": "white",
           "landcolor": "#E5ECF6",
           "showlakes": true,
           "showland": true,
           "subunitcolor": "white"
          },
          "hoverlabel": {
           "align": "left"
          },
          "hovermode": "closest",
          "mapbox": {
           "style": "light"
          },
          "paper_bgcolor": "white",
          "plot_bgcolor": "#E5ECF6",
          "polar": {
           "angularaxis": {
            "gridcolor": "white",
            "linecolor": "white",
            "ticks": ""
           },
           "bgcolor": "#E5ECF6",
           "radialaxis": {
            "gridcolor": "white",
            "linecolor": "white",
            "ticks": ""
           }
          },
          "scene": {
           "xaxis": {
            "backgroundcolor": "#E5ECF6",
            "gridcolor": "white",
            "gridwidth": 2,
            "linecolor": "white",
            "showbackground": true,
            "ticks": "",
            "zerolinecolor": "white"
           },
           "yaxis": {
            "backgroundcolor": "#E5ECF6",
            "gridcolor": "white",
            "gridwidth": 2,
            "linecolor": "white",
            "showbackground": true,
            "ticks": "",
            "zerolinecolor": "white"
           },
           "zaxis": {
            "backgroundcolor": "#E5ECF6",
            "gridcolor": "white",
            "gridwidth": 2,
            "linecolor": "white",
            "showbackground": true,
            "ticks": "",
            "zerolinecolor": "white"
           }
          },
          "shapedefaults": {
           "line": {
            "color": "#2a3f5f"
           }
          },
          "ternary": {
           "aaxis": {
            "gridcolor": "white",
            "linecolor": "white",
            "ticks": ""
           },
           "baxis": {
            "gridcolor": "white",
            "linecolor": "white",
            "ticks": ""
           },
           "bgcolor": "#E5ECF6",
           "caxis": {
            "gridcolor": "white",
            "linecolor": "white",
            "ticks": ""
           }
          },
          "title": {
           "x": 0.05
          },
          "xaxis": {
           "automargin": true,
           "gridcolor": "white",
           "linecolor": "white",
           "ticks": "",
           "title": {
            "standoff": 15
           },
           "zerolinecolor": "white",
           "zerolinewidth": 2
          },
          "yaxis": {
           "automargin": true,
           "gridcolor": "white",
           "linecolor": "white",
           "ticks": "",
           "title": {
            "standoff": 15
           },
           "zerolinecolor": "white",
           "zerolinewidth": 2
          }
         }
        },
        "title": {
         "text": "Distribution of Tariff Rates"
        },
        "xaxis": {
         "anchor": "y",
         "domain": [
          0,
          1
         ],
         "title": {
          "text": "value"
         }
        },
        "xaxis2": {
         "anchor": "y2",
         "domain": [
          0,
          1
         ],
         "matches": "x",
         "showgrid": true,
         "showticklabels": false
        },
        "yaxis": {
         "anchor": "x",
         "domain": [
          0,
          0.7326
         ],
         "title": {
          "text": "count"
         }
        },
        "yaxis2": {
         "anchor": "x2",
         "domain": [
          0.7426,
          1
         ],
         "matches": "y2",
         "showgrid": false,
         "showline": false,
         "showticklabels": false,
         "ticks": ""
        }
       }
      }
     },
     "metadata": {},
     "output_type": "display_data"
    }
   ],
   "source": [
    "# Tariff Rates Analysis\n",
    "# Time series for tariff rates\n",
    "fig_tariffs = px.line(\n",
    "    ger_trade,\n",
    "    x=\"Year\",\n",
    "    y=[\"AHS Simple Average (%)\", \"MFN Simple Average (%)\"],\n",
    "    title=\"Tariff Rates Over Time (1988-2021)\",\n",
    ")\n",
    "fig_tariffs.show()\n",
    "\n",
    "# Distribution of tariff rates\n",
    "fig_tariffs_dist = px.histogram(\n",
    "    ger_trade,\n",
    "    x=[\"AHS Simple Average (%)\", \"MFN Simple Average (%)\"],\n",
    "    title=\"Distribution of Tariff Rates\",\n",
    "    marginal=\"box\",\n",
    ")\n",
    "fig_tariffs_dist.show()"
   ]
  },
  {
   "cell_type": "code",
   "execution_count": 25,
   "id": "565dd3b7",
   "metadata": {},
   "outputs": [
    {
     "data": {
      "application/vnd.plotly.v1+json": {
       "config": {
        "plotlyServerURL": "https://plot.ly"
       },
       "data": [
        {
         "hovertemplate": "variable=Export (US$)<br>Year=%{x}<br>value=%{y}<extra></extra>",
         "legendgroup": "Export (US$)",
         "line": {
          "color": "#636efa",
          "dash": "solid"
         },
         "marker": {
          "symbol": "circle"
         },
         "mode": "lines",
         "name": "Export (US$)",
         "orientation": "v",
         "showlegend": true,
         "type": "scatter",
         "x": {
          "bdata": "xAfFB8YHxwfIB8kHygfLB8wHzQfOB88H0AfRB9IH0wfUB9UH1gfXB9gH2QfaB9sH3AfdB94H3wfgB+EH4gfjB+QH5Qc=",
          "dtype": "i2"
         },
         "xaxis": "x",
         "y": {
          "bdata": "AADANYTyIEIAANQRFB0rQgAAmt/YMjFCAAC6rLAROEIAADoAP19DQgAAPFY4KUZCAIAa6vhgUkIAgGRTO8RYQgCAOgdO61hCAADEU/3RWEIAAJERH+1ZQgAAor6qcVlCAICTMB1RW0IAAHQn7i1bQgAASHSJhVtCAABeQFCDYEIAgIAT8aBjQgAAaS2dSGVCAIA4oil3aEIAAHLaTE9sQgAAq4FrIHBCAEDPHNElaUIAgJj3mHdrQgDAdopFFnBCAMBDPAVqbkIAwAYcthVvQgAgpm8NAnBCAMDZoDj9a0IAQJ3ozypsQgBAWSdY8G5CAKCWWPw1cUIAoGTFF5BwQgCA0uRdyG9CAMAxnKayc0I=",
          "dtype": "f8"
         },
         "yaxis": "y"
        },
        {
         "hovertemplate": "variable=Import (US$)<br>Year=%{x}<br>value=%{y}<extra></extra>",
         "legendgroup": "Import (US$)",
         "line": {
          "color": "#EF553B",
          "dash": "solid"
         },
         "marker": {
          "symbol": "circle"
         },
         "mode": "lines",
         "name": "Import (US$)",
         "orientation": "v",
         "showlegend": true,
         "type": "scatter",
         "x": {
          "bdata": "xAfFB8YHxwfIB8kHygfLB8wHzQfOB88H0AfRB9IH0wfUB9UH1gfXB9gH2QfaB9sH3AfdB94H3wfgB+EH4gfjB+QH5Qc=",
          "dtype": "i2"
         },
         "xaxis": "x",
         "y": {
          "bdata": "AABsDpBPJEIAALwGlAUyQv//edwikzZCAAD210dVPEIAAOf07yxGQgAAJuyoaEhCAABzMtFMVEIAgO7bTjxbQgAA6CUSzltCAIDua23YW0IAAFmbOFFdQgCAJ2bDjl1CAID8/MvIXkIAAJY5sZZfQgAAV4imJ2FCAIDBeMbJZEIAAGsA1RlpQgAAYqw1+2pCAABFg8FhbkIAAMjEZjZyQgDgHOsoCHRCAECXZmmFbkIAYBs7nBRxQgBg+wMPCnRCAICTDuQTc0IAAGvvGblzQgCA/cinUnRCACA4i8sWckIAYDYhrQZyQgCgbiKGinNCAGBzqyj9dEIAAHOWqORzQgDg0GS7y3JCAACa1pZkdkI=",
          "dtype": "f8"
         },
         "yaxis": "y"
        }
       ],
       "layout": {
        "legend": {
         "title": {
          "text": "variable"
         },
         "tracegroupgap": 0
        },
        "template": {
         "data": {
          "bar": [
           {
            "error_x": {
             "color": "#2a3f5f"
            },
            "error_y": {
             "color": "#2a3f5f"
            },
            "marker": {
             "line": {
              "color": "#E5ECF6",
              "width": 0.5
             },
             "pattern": {
              "fillmode": "overlay",
              "size": 10,
              "solidity": 0.2
             }
            },
            "type": "bar"
           }
          ],
          "barpolar": [
           {
            "marker": {
             "line": {
              "color": "#E5ECF6",
              "width": 0.5
             },
             "pattern": {
              "fillmode": "overlay",
              "size": 10,
              "solidity": 0.2
             }
            },
            "type": "barpolar"
           }
          ],
          "carpet": [
           {
            "aaxis": {
             "endlinecolor": "#2a3f5f",
             "gridcolor": "white",
             "linecolor": "white",
             "minorgridcolor": "white",
             "startlinecolor": "#2a3f5f"
            },
            "baxis": {
             "endlinecolor": "#2a3f5f",
             "gridcolor": "white",
             "linecolor": "white",
             "minorgridcolor": "white",
             "startlinecolor": "#2a3f5f"
            },
            "type": "carpet"
           }
          ],
          "choropleth": [
           {
            "colorbar": {
             "outlinewidth": 0,
             "ticks": ""
            },
            "type": "choropleth"
           }
          ],
          "contour": [
           {
            "colorbar": {
             "outlinewidth": 0,
             "ticks": ""
            },
            "colorscale": [
             [
              0,
              "#0d0887"
             ],
             [
              0.1111111111111111,
              "#46039f"
             ],
             [
              0.2222222222222222,
              "#7201a8"
             ],
             [
              0.3333333333333333,
              "#9c179e"
             ],
             [
              0.4444444444444444,
              "#bd3786"
             ],
             [
              0.5555555555555556,
              "#d8576b"
             ],
             [
              0.6666666666666666,
              "#ed7953"
             ],
             [
              0.7777777777777778,
              "#fb9f3a"
             ],
             [
              0.8888888888888888,
              "#fdca26"
             ],
             [
              1,
              "#f0f921"
             ]
            ],
            "type": "contour"
           }
          ],
          "contourcarpet": [
           {
            "colorbar": {
             "outlinewidth": 0,
             "ticks": ""
            },
            "type": "contourcarpet"
           }
          ],
          "heatmap": [
           {
            "colorbar": {
             "outlinewidth": 0,
             "ticks": ""
            },
            "colorscale": [
             [
              0,
              "#0d0887"
             ],
             [
              0.1111111111111111,
              "#46039f"
             ],
             [
              0.2222222222222222,
              "#7201a8"
             ],
             [
              0.3333333333333333,
              "#9c179e"
             ],
             [
              0.4444444444444444,
              "#bd3786"
             ],
             [
              0.5555555555555556,
              "#d8576b"
             ],
             [
              0.6666666666666666,
              "#ed7953"
             ],
             [
              0.7777777777777778,
              "#fb9f3a"
             ],
             [
              0.8888888888888888,
              "#fdca26"
             ],
             [
              1,
              "#f0f921"
             ]
            ],
            "type": "heatmap"
           }
          ],
          "histogram": [
           {
            "marker": {
             "pattern": {
              "fillmode": "overlay",
              "size": 10,
              "solidity": 0.2
             }
            },
            "type": "histogram"
           }
          ],
          "histogram2d": [
           {
            "colorbar": {
             "outlinewidth": 0,
             "ticks": ""
            },
            "colorscale": [
             [
              0,
              "#0d0887"
             ],
             [
              0.1111111111111111,
              "#46039f"
             ],
             [
              0.2222222222222222,
              "#7201a8"
             ],
             [
              0.3333333333333333,
              "#9c179e"
             ],
             [
              0.4444444444444444,
              "#bd3786"
             ],
             [
              0.5555555555555556,
              "#d8576b"
             ],
             [
              0.6666666666666666,
              "#ed7953"
             ],
             [
              0.7777777777777778,
              "#fb9f3a"
             ],
             [
              0.8888888888888888,
              "#fdca26"
             ],
             [
              1,
              "#f0f921"
             ]
            ],
            "type": "histogram2d"
           }
          ],
          "histogram2dcontour": [
           {
            "colorbar": {
             "outlinewidth": 0,
             "ticks": ""
            },
            "colorscale": [
             [
              0,
              "#0d0887"
             ],
             [
              0.1111111111111111,
              "#46039f"
             ],
             [
              0.2222222222222222,
              "#7201a8"
             ],
             [
              0.3333333333333333,
              "#9c179e"
             ],
             [
              0.4444444444444444,
              "#bd3786"
             ],
             [
              0.5555555555555556,
              "#d8576b"
             ],
             [
              0.6666666666666666,
              "#ed7953"
             ],
             [
              0.7777777777777778,
              "#fb9f3a"
             ],
             [
              0.8888888888888888,
              "#fdca26"
             ],
             [
              1,
              "#f0f921"
             ]
            ],
            "type": "histogram2dcontour"
           }
          ],
          "mesh3d": [
           {
            "colorbar": {
             "outlinewidth": 0,
             "ticks": ""
            },
            "type": "mesh3d"
           }
          ],
          "parcoords": [
           {
            "line": {
             "colorbar": {
              "outlinewidth": 0,
              "ticks": ""
             }
            },
            "type": "parcoords"
           }
          ],
          "pie": [
           {
            "automargin": true,
            "type": "pie"
           }
          ],
          "scatter": [
           {
            "fillpattern": {
             "fillmode": "overlay",
             "size": 10,
             "solidity": 0.2
            },
            "type": "scatter"
           }
          ],
          "scatter3d": [
           {
            "line": {
             "colorbar": {
              "outlinewidth": 0,
              "ticks": ""
             }
            },
            "marker": {
             "colorbar": {
              "outlinewidth": 0,
              "ticks": ""
             }
            },
            "type": "scatter3d"
           }
          ],
          "scattercarpet": [
           {
            "marker": {
             "colorbar": {
              "outlinewidth": 0,
              "ticks": ""
             }
            },
            "type": "scattercarpet"
           }
          ],
          "scattergeo": [
           {
            "marker": {
             "colorbar": {
              "outlinewidth": 0,
              "ticks": ""
             }
            },
            "type": "scattergeo"
           }
          ],
          "scattergl": [
           {
            "marker": {
             "colorbar": {
              "outlinewidth": 0,
              "ticks": ""
             }
            },
            "type": "scattergl"
           }
          ],
          "scattermap": [
           {
            "marker": {
             "colorbar": {
              "outlinewidth": 0,
              "ticks": ""
             }
            },
            "type": "scattermap"
           }
          ],
          "scattermapbox": [
           {
            "marker": {
             "colorbar": {
              "outlinewidth": 0,
              "ticks": ""
             }
            },
            "type": "scattermapbox"
           }
          ],
          "scatterpolar": [
           {
            "marker": {
             "colorbar": {
              "outlinewidth": 0,
              "ticks": ""
             }
            },
            "type": "scatterpolar"
           }
          ],
          "scatterpolargl": [
           {
            "marker": {
             "colorbar": {
              "outlinewidth": 0,
              "ticks": ""
             }
            },
            "type": "scatterpolargl"
           }
          ],
          "scatterternary": [
           {
            "marker": {
             "colorbar": {
              "outlinewidth": 0,
              "ticks": ""
             }
            },
            "type": "scatterternary"
           }
          ],
          "surface": [
           {
            "colorbar": {
             "outlinewidth": 0,
             "ticks": ""
            },
            "colorscale": [
             [
              0,
              "#0d0887"
             ],
             [
              0.1111111111111111,
              "#46039f"
             ],
             [
              0.2222222222222222,
              "#7201a8"
             ],
             [
              0.3333333333333333,
              "#9c179e"
             ],
             [
              0.4444444444444444,
              "#bd3786"
             ],
             [
              0.5555555555555556,
              "#d8576b"
             ],
             [
              0.6666666666666666,
              "#ed7953"
             ],
             [
              0.7777777777777778,
              "#fb9f3a"
             ],
             [
              0.8888888888888888,
              "#fdca26"
             ],
             [
              1,
              "#f0f921"
             ]
            ],
            "type": "surface"
           }
          ],
          "table": [
           {
            "cells": {
             "fill": {
              "color": "#EBF0F8"
             },
             "line": {
              "color": "white"
             }
            },
            "header": {
             "fill": {
              "color": "#C8D4E3"
             },
             "line": {
              "color": "white"
             }
            },
            "type": "table"
           }
          ]
         },
         "layout": {
          "annotationdefaults": {
           "arrowcolor": "#2a3f5f",
           "arrowhead": 0,
           "arrowwidth": 1
          },
          "autotypenumbers": "strict",
          "coloraxis": {
           "colorbar": {
            "outlinewidth": 0,
            "ticks": ""
           }
          },
          "colorscale": {
           "diverging": [
            [
             0,
             "#8e0152"
            ],
            [
             0.1,
             "#c51b7d"
            ],
            [
             0.2,
             "#de77ae"
            ],
            [
             0.3,
             "#f1b6da"
            ],
            [
             0.4,
             "#fde0ef"
            ],
            [
             0.5,
             "#f7f7f7"
            ],
            [
             0.6,
             "#e6f5d0"
            ],
            [
             0.7,
             "#b8e186"
            ],
            [
             0.8,
             "#7fbc41"
            ],
            [
             0.9,
             "#4d9221"
            ],
            [
             1,
             "#276419"
            ]
           ],
           "sequential": [
            [
             0,
             "#0d0887"
            ],
            [
             0.1111111111111111,
             "#46039f"
            ],
            [
             0.2222222222222222,
             "#7201a8"
            ],
            [
             0.3333333333333333,
             "#9c179e"
            ],
            [
             0.4444444444444444,
             "#bd3786"
            ],
            [
             0.5555555555555556,
             "#d8576b"
            ],
            [
             0.6666666666666666,
             "#ed7953"
            ],
            [
             0.7777777777777778,
             "#fb9f3a"
            ],
            [
             0.8888888888888888,
             "#fdca26"
            ],
            [
             1,
             "#f0f921"
            ]
           ],
           "sequentialminus": [
            [
             0,
             "#0d0887"
            ],
            [
             0.1111111111111111,
             "#46039f"
            ],
            [
             0.2222222222222222,
             "#7201a8"
            ],
            [
             0.3333333333333333,
             "#9c179e"
            ],
            [
             0.4444444444444444,
             "#bd3786"
            ],
            [
             0.5555555555555556,
             "#d8576b"
            ],
            [
             0.6666666666666666,
             "#ed7953"
            ],
            [
             0.7777777777777778,
             "#fb9f3a"
            ],
            [
             0.8888888888888888,
             "#fdca26"
            ],
            [
             1,
             "#f0f921"
            ]
           ]
          },
          "colorway": [
           "#636efa",
           "#EF553B",
           "#00cc96",
           "#ab63fa",
           "#FFA15A",
           "#19d3f3",
           "#FF6692",
           "#B6E880",
           "#FF97FF",
           "#FECB52"
          ],
          "font": {
           "color": "#2a3f5f"
          },
          "geo": {
           "bgcolor": "white",
           "lakecolor": "white",
           "landcolor": "#E5ECF6",
           "showlakes": true,
           "showland": true,
           "subunitcolor": "white"
          },
          "hoverlabel": {
           "align": "left"
          },
          "hovermode": "closest",
          "mapbox": {
           "style": "light"
          },
          "paper_bgcolor": "white",
          "plot_bgcolor": "#E5ECF6",
          "polar": {
           "angularaxis": {
            "gridcolor": "white",
            "linecolor": "white",
            "ticks": ""
           },
           "bgcolor": "#E5ECF6",
           "radialaxis": {
            "gridcolor": "white",
            "linecolor": "white",
            "ticks": ""
           }
          },
          "scene": {
           "xaxis": {
            "backgroundcolor": "#E5ECF6",
            "gridcolor": "white",
            "gridwidth": 2,
            "linecolor": "white",
            "showbackground": true,
            "ticks": "",
            "zerolinecolor": "white"
           },
           "yaxis": {
            "backgroundcolor": "#E5ECF6",
            "gridcolor": "white",
            "gridwidth": 2,
            "linecolor": "white",
            "showbackground": true,
            "ticks": "",
            "zerolinecolor": "white"
           },
           "zaxis": {
            "backgroundcolor": "#E5ECF6",
            "gridcolor": "white",
            "gridwidth": 2,
            "linecolor": "white",
            "showbackground": true,
            "ticks": "",
            "zerolinecolor": "white"
           }
          },
          "shapedefaults": {
           "line": {
            "color": "#2a3f5f"
           }
          },
          "ternary": {
           "aaxis": {
            "gridcolor": "white",
            "linecolor": "white",
            "ticks": ""
           },
           "baxis": {
            "gridcolor": "white",
            "linecolor": "white",
            "ticks": ""
           },
           "bgcolor": "#E5ECF6",
           "caxis": {
            "gridcolor": "white",
            "linecolor": "white",
            "ticks": ""
           }
          },
          "title": {
           "x": 0.05
          },
          "xaxis": {
           "automargin": true,
           "gridcolor": "white",
           "linecolor": "white",
           "ticks": "",
           "title": {
            "standoff": 15
           },
           "zerolinecolor": "white",
           "zerolinewidth": 2
          },
          "yaxis": {
           "automargin": true,
           "gridcolor": "white",
           "linecolor": "white",
           "ticks": "",
           "title": {
            "standoff": 15
           },
           "zerolinecolor": "white",
           "zerolinewidth": 2
          }
         }
        },
        "title": {
         "text": "Trade Volumes Over Time (Trillion US$)"
        },
        "xaxis": {
         "anchor": "y",
         "domain": [
          0,
          1
         ],
         "title": {
          "text": "Year"
         }
        },
        "yaxis": {
         "anchor": "x",
         "domain": [
          0,
          1
         ],
         "title": {
          "text": "value"
         }
        }
       }
      }
     },
     "metadata": {},
     "output_type": "display_data"
    },
    {
     "data": {
      "application/vnd.plotly.v1+json": {
       "config": {
        "plotlyServerURL": "https://plot.ly"
       },
       "data": [
        {
         "bingroup": "x",
         "hovertemplate": "variable=Log Export<br>value=%{x}<br>count=%{y}<extra></extra>",
         "legendgroup": "Log Export",
         "marker": {
          "color": "#636efa",
          "pattern": {
           "shape": ""
          }
         },
         "name": "Log Export",
         "orientation": "v",
         "showlegend": true,
         "type": "histogram",
         "x": {
          "bdata": "XZqDeT8fJUBo609lvYclQFHoGvClvCVAGdGHBmIHJkB8HnicPHEmQKpeDgwljyZAXqITGKn/JkB8nJ03/UEnQK8cQPJaQydA6RiUmnhCJ0CDqW45KkwnQOovmG/9RydAPZAIXMhXJ0AHSdY9qVYnQI0jX31xWSdA0/ky0fuBJ0B/CmvxaqgnQMJV4sdquidAFnyto2XZJ0DP+5FR2fknQFF8duzYFihAE0/0SIPfJ0CAlwdcIfMnQBTZ3NJMFihAveO0zsoJKEAvvNlnpA4oQD16KKk0FShA1tSQ81D3J0Al8+X/ufgnQLaZmHqYDShA4fl56lAlKEC5Fac+yBwoQDMO6z6UEyhAYy+0zlNDKEA=",
          "dtype": "f8"
         },
         "xaxis": "x",
         "yaxis": "y"
        },
        {
         "hovertemplate": "variable=Log Export<br>value=%{x}<extra></extra>",
         "legendgroup": "Log Export",
         "marker": {
          "color": "#636efa"
         },
         "name": "Log Export",
         "notched": true,
         "showlegend": false,
         "type": "box",
         "x": {
          "bdata": "XZqDeT8fJUBo609lvYclQFHoGvClvCVAGdGHBmIHJkB8HnicPHEmQKpeDgwljyZAXqITGKn/JkB8nJ03/UEnQK8cQPJaQydA6RiUmnhCJ0CDqW45KkwnQOovmG/9RydAPZAIXMhXJ0AHSdY9qVYnQI0jX31xWSdA0/ky0fuBJ0B/CmvxaqgnQMJV4sdquidAFnyto2XZJ0DP+5FR2fknQFF8duzYFihAE0/0SIPfJ0CAlwdcIfMnQBTZ3NJMFihAveO0zsoJKEAvvNlnpA4oQD16KKk0FShA1tSQ81D3J0Al8+X/ufgnQLaZmHqYDShA4fl56lAlKEC5Fac+yBwoQDMO6z6UEyhAYy+0zlNDKEA=",
          "dtype": "f8"
         },
         "xaxis": "x2",
         "yaxis": "y2"
        },
        {
         "bingroup": "x",
         "hovertemplate": "variable=Log Import<br>value=%{x}<br>count=%{y}<extra></extra>",
         "legendgroup": "Log Import",
         "marker": {
          "color": "#EF553B",
          "pattern": {
           "shape": ""
          }
         },
         "name": "Log Import",
         "orientation": "v",
         "showlegend": true,
         "type": "histogram",
         "x": {
          "bdata": "1XP3FYFHJUAR3qdCC8clQEbyR2Ih+SVAL2szdqYrJkCgEkZVSo8mQPUF43egpCZAz1i41MQVJ0CHhSe/HlcnQDsppIa4WydAbMKzSQtcJ0D9dEZWf2cnQBjASDRQaSdARbcC71pyJ0CUmwgLF3gnQGXA6M12iidAy2iN+i21J0A/kh03Gd8nQJqqWF8p7ydA8AJgWo4JKEAv6g7o5DEoQJJAM/sQRyhAOSfotpIKKEAOQi4ToCMoQHAZAA4mRyhA2Jm/1DY8KEBpebyTnEMoQH3Qr/NFSihAVsbqtGEwKEDy46o4my8oQBAFQwaNQShAULW7kHFRKECal6iJhUUoQDzOg4PnOChAbdKidddfKEA=",
          "dtype": "f8"
         },
         "xaxis": "x",
         "yaxis": "y"
        },
        {
         "hovertemplate": "variable=Log Import<br>value=%{x}<extra></extra>",
         "legendgroup": "Log Import",
         "marker": {
          "color": "#EF553B"
         },
         "name": "Log Import",
         "notched": true,
         "showlegend": false,
         "type": "box",
         "x": {
          "bdata": "1XP3FYFHJUAR3qdCC8clQEbyR2Ih+SVAL2szdqYrJkCgEkZVSo8mQPUF43egpCZAz1i41MQVJ0CHhSe/HlcnQDsppIa4WydAbMKzSQtcJ0D9dEZWf2cnQBjASDRQaSdARbcC71pyJ0CUmwgLF3gnQGXA6M12iidAy2iN+i21J0A/kh03Gd8nQJqqWF8p7ydA8AJgWo4JKEAv6g7o5DEoQJJAM/sQRyhAOSfotpIKKEAOQi4ToCMoQHAZAA4mRyhA2Jm/1DY8KEBpebyTnEMoQH3Qr/NFSihAVsbqtGEwKEDy46o4my8oQBAFQwaNQShAULW7kHFRKECal6iJhUUoQDzOg4PnOChAbdKidddfKEA=",
          "dtype": "f8"
         },
         "xaxis": "x2",
         "yaxis": "y2"
        }
       ],
       "layout": {
        "barmode": "relative",
        "legend": {
         "title": {
          "text": "variable"
         },
         "tracegroupgap": 0
        },
        "template": {
         "data": {
          "bar": [
           {
            "error_x": {
             "color": "#2a3f5f"
            },
            "error_y": {
             "color": "#2a3f5f"
            },
            "marker": {
             "line": {
              "color": "#E5ECF6",
              "width": 0.5
             },
             "pattern": {
              "fillmode": "overlay",
              "size": 10,
              "solidity": 0.2
             }
            },
            "type": "bar"
           }
          ],
          "barpolar": [
           {
            "marker": {
             "line": {
              "color": "#E5ECF6",
              "width": 0.5
             },
             "pattern": {
              "fillmode": "overlay",
              "size": 10,
              "solidity": 0.2
             }
            },
            "type": "barpolar"
           }
          ],
          "carpet": [
           {
            "aaxis": {
             "endlinecolor": "#2a3f5f",
             "gridcolor": "white",
             "linecolor": "white",
             "minorgridcolor": "white",
             "startlinecolor": "#2a3f5f"
            },
            "baxis": {
             "endlinecolor": "#2a3f5f",
             "gridcolor": "white",
             "linecolor": "white",
             "minorgridcolor": "white",
             "startlinecolor": "#2a3f5f"
            },
            "type": "carpet"
           }
          ],
          "choropleth": [
           {
            "colorbar": {
             "outlinewidth": 0,
             "ticks": ""
            },
            "type": "choropleth"
           }
          ],
          "contour": [
           {
            "colorbar": {
             "outlinewidth": 0,
             "ticks": ""
            },
            "colorscale": [
             [
              0,
              "#0d0887"
             ],
             [
              0.1111111111111111,
              "#46039f"
             ],
             [
              0.2222222222222222,
              "#7201a8"
             ],
             [
              0.3333333333333333,
              "#9c179e"
             ],
             [
              0.4444444444444444,
              "#bd3786"
             ],
             [
              0.5555555555555556,
              "#d8576b"
             ],
             [
              0.6666666666666666,
              "#ed7953"
             ],
             [
              0.7777777777777778,
              "#fb9f3a"
             ],
             [
              0.8888888888888888,
              "#fdca26"
             ],
             [
              1,
              "#f0f921"
             ]
            ],
            "type": "contour"
           }
          ],
          "contourcarpet": [
           {
            "colorbar": {
             "outlinewidth": 0,
             "ticks": ""
            },
            "type": "contourcarpet"
           }
          ],
          "heatmap": [
           {
            "colorbar": {
             "outlinewidth": 0,
             "ticks": ""
            },
            "colorscale": [
             [
              0,
              "#0d0887"
             ],
             [
              0.1111111111111111,
              "#46039f"
             ],
             [
              0.2222222222222222,
              "#7201a8"
             ],
             [
              0.3333333333333333,
              "#9c179e"
             ],
             [
              0.4444444444444444,
              "#bd3786"
             ],
             [
              0.5555555555555556,
              "#d8576b"
             ],
             [
              0.6666666666666666,
              "#ed7953"
             ],
             [
              0.7777777777777778,
              "#fb9f3a"
             ],
             [
              0.8888888888888888,
              "#fdca26"
             ],
             [
              1,
              "#f0f921"
             ]
            ],
            "type": "heatmap"
           }
          ],
          "histogram": [
           {
            "marker": {
             "pattern": {
              "fillmode": "overlay",
              "size": 10,
              "solidity": 0.2
             }
            },
            "type": "histogram"
           }
          ],
          "histogram2d": [
           {
            "colorbar": {
             "outlinewidth": 0,
             "ticks": ""
            },
            "colorscale": [
             [
              0,
              "#0d0887"
             ],
             [
              0.1111111111111111,
              "#46039f"
             ],
             [
              0.2222222222222222,
              "#7201a8"
             ],
             [
              0.3333333333333333,
              "#9c179e"
             ],
             [
              0.4444444444444444,
              "#bd3786"
             ],
             [
              0.5555555555555556,
              "#d8576b"
             ],
             [
              0.6666666666666666,
              "#ed7953"
             ],
             [
              0.7777777777777778,
              "#fb9f3a"
             ],
             [
              0.8888888888888888,
              "#fdca26"
             ],
             [
              1,
              "#f0f921"
             ]
            ],
            "type": "histogram2d"
           }
          ],
          "histogram2dcontour": [
           {
            "colorbar": {
             "outlinewidth": 0,
             "ticks": ""
            },
            "colorscale": [
             [
              0,
              "#0d0887"
             ],
             [
              0.1111111111111111,
              "#46039f"
             ],
             [
              0.2222222222222222,
              "#7201a8"
             ],
             [
              0.3333333333333333,
              "#9c179e"
             ],
             [
              0.4444444444444444,
              "#bd3786"
             ],
             [
              0.5555555555555556,
              "#d8576b"
             ],
             [
              0.6666666666666666,
              "#ed7953"
             ],
             [
              0.7777777777777778,
              "#fb9f3a"
             ],
             [
              0.8888888888888888,
              "#fdca26"
             ],
             [
              1,
              "#f0f921"
             ]
            ],
            "type": "histogram2dcontour"
           }
          ],
          "mesh3d": [
           {
            "colorbar": {
             "outlinewidth": 0,
             "ticks": ""
            },
            "type": "mesh3d"
           }
          ],
          "parcoords": [
           {
            "line": {
             "colorbar": {
              "outlinewidth": 0,
              "ticks": ""
             }
            },
            "type": "parcoords"
           }
          ],
          "pie": [
           {
            "automargin": true,
            "type": "pie"
           }
          ],
          "scatter": [
           {
            "fillpattern": {
             "fillmode": "overlay",
             "size": 10,
             "solidity": 0.2
            },
            "type": "scatter"
           }
          ],
          "scatter3d": [
           {
            "line": {
             "colorbar": {
              "outlinewidth": 0,
              "ticks": ""
             }
            },
            "marker": {
             "colorbar": {
              "outlinewidth": 0,
              "ticks": ""
             }
            },
            "type": "scatter3d"
           }
          ],
          "scattercarpet": [
           {
            "marker": {
             "colorbar": {
              "outlinewidth": 0,
              "ticks": ""
             }
            },
            "type": "scattercarpet"
           }
          ],
          "scattergeo": [
           {
            "marker": {
             "colorbar": {
              "outlinewidth": 0,
              "ticks": ""
             }
            },
            "type": "scattergeo"
           }
          ],
          "scattergl": [
           {
            "marker": {
             "colorbar": {
              "outlinewidth": 0,
              "ticks": ""
             }
            },
            "type": "scattergl"
           }
          ],
          "scattermap": [
           {
            "marker": {
             "colorbar": {
              "outlinewidth": 0,
              "ticks": ""
             }
            },
            "type": "scattermap"
           }
          ],
          "scattermapbox": [
           {
            "marker": {
             "colorbar": {
              "outlinewidth": 0,
              "ticks": ""
             }
            },
            "type": "scattermapbox"
           }
          ],
          "scatterpolar": [
           {
            "marker": {
             "colorbar": {
              "outlinewidth": 0,
              "ticks": ""
             }
            },
            "type": "scatterpolar"
           }
          ],
          "scatterpolargl": [
           {
            "marker": {
             "colorbar": {
              "outlinewidth": 0,
              "ticks": ""
             }
            },
            "type": "scatterpolargl"
           }
          ],
          "scatterternary": [
           {
            "marker": {
             "colorbar": {
              "outlinewidth": 0,
              "ticks": ""
             }
            },
            "type": "scatterternary"
           }
          ],
          "surface": [
           {
            "colorbar": {
             "outlinewidth": 0,
             "ticks": ""
            },
            "colorscale": [
             [
              0,
              "#0d0887"
             ],
             [
              0.1111111111111111,
              "#46039f"
             ],
             [
              0.2222222222222222,
              "#7201a8"
             ],
             [
              0.3333333333333333,
              "#9c179e"
             ],
             [
              0.4444444444444444,
              "#bd3786"
             ],
             [
              0.5555555555555556,
              "#d8576b"
             ],
             [
              0.6666666666666666,
              "#ed7953"
             ],
             [
              0.7777777777777778,
              "#fb9f3a"
             ],
             [
              0.8888888888888888,
              "#fdca26"
             ],
             [
              1,
              "#f0f921"
             ]
            ],
            "type": "surface"
           }
          ],
          "table": [
           {
            "cells": {
             "fill": {
              "color": "#EBF0F8"
             },
             "line": {
              "color": "white"
             }
            },
            "header": {
             "fill": {
              "color": "#C8D4E3"
             },
             "line": {
              "color": "white"
             }
            },
            "type": "table"
           }
          ]
         },
         "layout": {
          "annotationdefaults": {
           "arrowcolor": "#2a3f5f",
           "arrowhead": 0,
           "arrowwidth": 1
          },
          "autotypenumbers": "strict",
          "coloraxis": {
           "colorbar": {
            "outlinewidth": 0,
            "ticks": ""
           }
          },
          "colorscale": {
           "diverging": [
            [
             0,
             "#8e0152"
            ],
            [
             0.1,
             "#c51b7d"
            ],
            [
             0.2,
             "#de77ae"
            ],
            [
             0.3,
             "#f1b6da"
            ],
            [
             0.4,
             "#fde0ef"
            ],
            [
             0.5,
             "#f7f7f7"
            ],
            [
             0.6,
             "#e6f5d0"
            ],
            [
             0.7,
             "#b8e186"
            ],
            [
             0.8,
             "#7fbc41"
            ],
            [
             0.9,
             "#4d9221"
            ],
            [
             1,
             "#276419"
            ]
           ],
           "sequential": [
            [
             0,
             "#0d0887"
            ],
            [
             0.1111111111111111,
             "#46039f"
            ],
            [
             0.2222222222222222,
             "#7201a8"
            ],
            [
             0.3333333333333333,
             "#9c179e"
            ],
            [
             0.4444444444444444,
             "#bd3786"
            ],
            [
             0.5555555555555556,
             "#d8576b"
            ],
            [
             0.6666666666666666,
             "#ed7953"
            ],
            [
             0.7777777777777778,
             "#fb9f3a"
            ],
            [
             0.8888888888888888,
             "#fdca26"
            ],
            [
             1,
             "#f0f921"
            ]
           ],
           "sequentialminus": [
            [
             0,
             "#0d0887"
            ],
            [
             0.1111111111111111,
             "#46039f"
            ],
            [
             0.2222222222222222,
             "#7201a8"
            ],
            [
             0.3333333333333333,
             "#9c179e"
            ],
            [
             0.4444444444444444,
             "#bd3786"
            ],
            [
             0.5555555555555556,
             "#d8576b"
            ],
            [
             0.6666666666666666,
             "#ed7953"
            ],
            [
             0.7777777777777778,
             "#fb9f3a"
            ],
            [
             0.8888888888888888,
             "#fdca26"
            ],
            [
             1,
             "#f0f921"
            ]
           ]
          },
          "colorway": [
           "#636efa",
           "#EF553B",
           "#00cc96",
           "#ab63fa",
           "#FFA15A",
           "#19d3f3",
           "#FF6692",
           "#B6E880",
           "#FF97FF",
           "#FECB52"
          ],
          "font": {
           "color": "#2a3f5f"
          },
          "geo": {
           "bgcolor": "white",
           "lakecolor": "white",
           "landcolor": "#E5ECF6",
           "showlakes": true,
           "showland": true,
           "subunitcolor": "white"
          },
          "hoverlabel": {
           "align": "left"
          },
          "hovermode": "closest",
          "mapbox": {
           "style": "light"
          },
          "paper_bgcolor": "white",
          "plot_bgcolor": "#E5ECF6",
          "polar": {
           "angularaxis": {
            "gridcolor": "white",
            "linecolor": "white",
            "ticks": ""
           },
           "bgcolor": "#E5ECF6",
           "radialaxis": {
            "gridcolor": "white",
            "linecolor": "white",
            "ticks": ""
           }
          },
          "scene": {
           "xaxis": {
            "backgroundcolor": "#E5ECF6",
            "gridcolor": "white",
            "gridwidth": 2,
            "linecolor": "white",
            "showbackground": true,
            "ticks": "",
            "zerolinecolor": "white"
           },
           "yaxis": {
            "backgroundcolor": "#E5ECF6",
            "gridcolor": "white",
            "gridwidth": 2,
            "linecolor": "white",
            "showbackground": true,
            "ticks": "",
            "zerolinecolor": "white"
           },
           "zaxis": {
            "backgroundcolor": "#E5ECF6",
            "gridcolor": "white",
            "gridwidth": 2,
            "linecolor": "white",
            "showbackground": true,
            "ticks": "",
            "zerolinecolor": "white"
           }
          },
          "shapedefaults": {
           "line": {
            "color": "#2a3f5f"
           }
          },
          "ternary": {
           "aaxis": {
            "gridcolor": "white",
            "linecolor": "white",
            "ticks": ""
           },
           "baxis": {
            "gridcolor": "white",
            "linecolor": "white",
            "ticks": ""
           },
           "bgcolor": "#E5ECF6",
           "caxis": {
            "gridcolor": "white",
            "linecolor": "white",
            "ticks": ""
           }
          },
          "title": {
           "x": 0.05
          },
          "xaxis": {
           "automargin": true,
           "gridcolor": "white",
           "linecolor": "white",
           "ticks": "",
           "title": {
            "standoff": 15
           },
           "zerolinecolor": "white",
           "zerolinewidth": 2
          },
          "yaxis": {
           "automargin": true,
           "gridcolor": "white",
           "linecolor": "white",
           "ticks": "",
           "title": {
            "standoff": 15
           },
           "zerolinecolor": "white",
           "zerolinewidth": 2
          }
         }
        },
        "title": {
         "text": "Distribution of Trade Volumes (Log Scale)"
        },
        "xaxis": {
         "anchor": "y",
         "domain": [
          0,
          1
         ],
         "title": {
          "text": "value"
         }
        },
        "xaxis2": {
         "anchor": "y2",
         "domain": [
          0,
          1
         ],
         "matches": "x",
         "showgrid": true,
         "showticklabels": false
        },
        "yaxis": {
         "anchor": "x",
         "domain": [
          0,
          0.7326
         ],
         "title": {
          "text": "count"
         }
        },
        "yaxis2": {
         "anchor": "x2",
         "domain": [
          0.7426,
          1
         ],
         "matches": "y2",
         "showgrid": false,
         "showline": false,
         "showticklabels": false,
         "ticks": ""
        }
       }
      }
     },
     "metadata": {},
     "output_type": "display_data"
    }
   ],
   "source": [
    "# Trade Volumes Analysis (using log scale due to large values)\n",
    "# Time series for trade volumes\n",
    "ger_trade[\"Log Export\"] = np.log10(ger_trade[\"Export (US$)\"])\n",
    "ger_trade[\"Log Import\"] = np.log10(ger_trade[\"Import (US$)\"])\n",
    "\n",
    "fig_trade = px.line(\n",
    "    ger_trade,\n",
    "    x=\"Year\",\n",
    "    y=[\"Export (US$)\", \"Import (US$)\"],\n",
    "    title=\"Trade Volumes Over Time (Trillion US$)\",\n",
    ")\n",
    "fig_trade.show()\n",
    "\n",
    "# Distribution of trade volumes\n",
    "fig_trade_dist = px.histogram(\n",
    "    ger_trade,\n",
    "    x=[\"Log Export\", \"Log Import\"],\n",
    "    title=\"Distribution of Trade Volumes (Log Scale)\",\n",
    "    marginal=\"box\",\n",
    ")\n",
    "fig_trade_dist.show()"
   ]
  },
  {
   "cell_type": "markdown",
   "id": "8d786f67",
   "metadata": {},
   "source": [
    "#### **2.2.2 Bivariate Analysis** <a id='222-bivariate-analysis'></a>\n",
    "\n",
    "Let's examine relationships between pairs of variables to understand their interactions and correlations."
   ]
  },
  {
   "cell_type": "code",
   "execution_count": 26,
   "id": "20876ef1",
   "metadata": {},
   "outputs": [
    {
     "data": {
      "application/vnd.plotly.v1+json": {
       "config": {
        "plotlyServerURL": "https://plot.ly"
       },
       "data": [
        {
         "hovertemplate": "AHS Simple Average (%)=%{x}<br>Country Growth (%)=%{y}<extra></extra>",
         "legendgroup": "",
         "marker": {
          "color": "#636efa",
          "symbol": "circle"
         },
         "mode": "markers",
         "name": "",
         "orientation": "v",
         "showlegend": false,
         "type": "scatter",
         "x": {
          "bdata": "PQrXo3D9MUA9CtejcL03QNejcD0Kd0pA16NwPQpXLUApXI/C9SgtQJqZmZmZmShAPQrXo3C9L0ApXI/C9SgqQJqZmZmZmSNAZmZmZmbmJECkcD0K1yMlQFK4HoXrUSVA9ihcj8J1JkA9CtejcD0jQK5H4XoULiRAKVyPwvUoI0CF61G4HgUiQK5H4XoUriBAXI/C9ShcIEAfhetRuB4eQAAAAAAAAB5ASOF6FK5HHED2KFyPwvUcQPYoXI/C9RxAcT0K16NwGkBcj8L1KFwbQK5H4XoUrhhAmpmZmZmZGECkcD0K16MaQKRwPQrXoxZAZmZmZmZmGEA9CtejcD0cQHsUrkfhehhACtejcD0KF0A=",
          "dtype": "f8"
         },
         "xaxis": "x",
         "y": {
          "bdata": "CtejcD0KGEA9CtejcD0OQOxRuB6FaylAPQrXo3A9GkCuR+F6FK4DQM3MzMzMzCDAKVyPwvUoFkCamZmZmZkkQOF6FK5H4eK/MzMzMzMz97/NzMzMzMwGQLgehetRuM4/zczMzMzMBkDXo3A9Ctf3v83MzMzMzNw/CtejcD2KJUB7FK5H4XoiQNejcD0K1xBAAAAAAACAIUC4HoXrUbgcQGZmZmZmZhhAAAAAAACAJ8BxPQrXo3AbQB+F61G4HiJAw/UoXI/CD8BSuB6F61HwP4/C9Shcj/I/zczMzMzMGsB7FK5H4XrEP9ejcD0K1wVAzczMzMzMHUB7FK5H4XoAwNejcD0K1wXAZmZmZmZmJEA=",
          "dtype": "f8"
         },
         "yaxis": "y"
        },
        {
         "hovertemplate": "<b>OLS trendline</b><br>Country Growth (%) = 0.225336 * AHS Simple Average (%) + 0.458381<br>R<sup>2</sup>=0.108862<br><br>AHS Simple Average (%)=%{x}<br>Country Growth (%)=%{y} <b>(trend)</b><extra></extra>",
         "legendgroup": "",
         "marker": {
          "color": "#636efa",
          "symbol": "circle"
         },
         "mode": "lines",
         "name": "",
         "showlegend": false,
         "type": "scatter",
         "x": {
          "bdata": "pHA9CtejFkAK16NwPQoXQGZmZmZmZhhAexSuR+F6GECamZmZmZkYQK5H4XoUrhhAcT0K16NwGkCkcD0K16MaQFyPwvUoXBtAPQrXo3A9HEBI4XoUrkccQPYoXI/C9RxA9ihcj8L1HEAAAAAAAAAeQB+F61G4Hh5AXI/C9ShcIECuR+F6FK4gQIXrUbgeBSJAKVyPwvUoI0A9CtejcD0jQJqZmZmZmSNArkfhehQuJEBmZmZmZuYkQKRwPQrXIyVAUrgehetRJUD2KFyPwnUmQJqZmZmZmShAKVyPwvUoKkApXI/C9SgtQNejcD0KVy1APQrXo3C9L0A9CtejcP0xQD0K16NwvTdA16NwPQp3SkA=",
          "dtype": "f8"
         },
         "xaxis": "x",
         "y": {
          "bdata": "4+g3r5G9+z/W6bza3Rn8P6mG56GtU/0/p1M1RCNm/T8jB6q304H9PyDU91lJlP0/53GnTGUq/z9g8mlii1j/P0gnJheu/v8/Fvs+CN5kAEBVbtJwe2kAQIoVnWLvtwBAihWdYu+3AED5yZYB7C8BQLcjUTvEPQFAzGbByLtpAkDCmvhRkrMCQFbEj7DE6ANAcG1k+dDvBEBtOrKbRgIFQOJUEPZXVQVAD2PEzizbBUD3l4CDT4EGQO/+aWqwuAZAKgyZFzniBkBEtW1gRekHQL7gDhYQ1wlAC/778gU/C0AohWE5QfMNQGKSkObJHA5ACkzXdUkjEEBEBOXCdgwSQOjxfLQ9OxdAxT6QtFPFKEA=",
          "dtype": "f8"
         },
         "yaxis": "y"
        }
       ],
       "layout": {
        "legend": {
         "tracegroupgap": 0
        },
        "template": {
         "data": {
          "bar": [
           {
            "error_x": {
             "color": "#2a3f5f"
            },
            "error_y": {
             "color": "#2a3f5f"
            },
            "marker": {
             "line": {
              "color": "#E5ECF6",
              "width": 0.5
             },
             "pattern": {
              "fillmode": "overlay",
              "size": 10,
              "solidity": 0.2
             }
            },
            "type": "bar"
           }
          ],
          "barpolar": [
           {
            "marker": {
             "line": {
              "color": "#E5ECF6",
              "width": 0.5
             },
             "pattern": {
              "fillmode": "overlay",
              "size": 10,
              "solidity": 0.2
             }
            },
            "type": "barpolar"
           }
          ],
          "carpet": [
           {
            "aaxis": {
             "endlinecolor": "#2a3f5f",
             "gridcolor": "white",
             "linecolor": "white",
             "minorgridcolor": "white",
             "startlinecolor": "#2a3f5f"
            },
            "baxis": {
             "endlinecolor": "#2a3f5f",
             "gridcolor": "white",
             "linecolor": "white",
             "minorgridcolor": "white",
             "startlinecolor": "#2a3f5f"
            },
            "type": "carpet"
           }
          ],
          "choropleth": [
           {
            "colorbar": {
             "outlinewidth": 0,
             "ticks": ""
            },
            "type": "choropleth"
           }
          ],
          "contour": [
           {
            "colorbar": {
             "outlinewidth": 0,
             "ticks": ""
            },
            "colorscale": [
             [
              0,
              "#0d0887"
             ],
             [
              0.1111111111111111,
              "#46039f"
             ],
             [
              0.2222222222222222,
              "#7201a8"
             ],
             [
              0.3333333333333333,
              "#9c179e"
             ],
             [
              0.4444444444444444,
              "#bd3786"
             ],
             [
              0.5555555555555556,
              "#d8576b"
             ],
             [
              0.6666666666666666,
              "#ed7953"
             ],
             [
              0.7777777777777778,
              "#fb9f3a"
             ],
             [
              0.8888888888888888,
              "#fdca26"
             ],
             [
              1,
              "#f0f921"
             ]
            ],
            "type": "contour"
           }
          ],
          "contourcarpet": [
           {
            "colorbar": {
             "outlinewidth": 0,
             "ticks": ""
            },
            "type": "contourcarpet"
           }
          ],
          "heatmap": [
           {
            "colorbar": {
             "outlinewidth": 0,
             "ticks": ""
            },
            "colorscale": [
             [
              0,
              "#0d0887"
             ],
             [
              0.1111111111111111,
              "#46039f"
             ],
             [
              0.2222222222222222,
              "#7201a8"
             ],
             [
              0.3333333333333333,
              "#9c179e"
             ],
             [
              0.4444444444444444,
              "#bd3786"
             ],
             [
              0.5555555555555556,
              "#d8576b"
             ],
             [
              0.6666666666666666,
              "#ed7953"
             ],
             [
              0.7777777777777778,
              "#fb9f3a"
             ],
             [
              0.8888888888888888,
              "#fdca26"
             ],
             [
              1,
              "#f0f921"
             ]
            ],
            "type": "heatmap"
           }
          ],
          "histogram": [
           {
            "marker": {
             "pattern": {
              "fillmode": "overlay",
              "size": 10,
              "solidity": 0.2
             }
            },
            "type": "histogram"
           }
          ],
          "histogram2d": [
           {
            "colorbar": {
             "outlinewidth": 0,
             "ticks": ""
            },
            "colorscale": [
             [
              0,
              "#0d0887"
             ],
             [
              0.1111111111111111,
              "#46039f"
             ],
             [
              0.2222222222222222,
              "#7201a8"
             ],
             [
              0.3333333333333333,
              "#9c179e"
             ],
             [
              0.4444444444444444,
              "#bd3786"
             ],
             [
              0.5555555555555556,
              "#d8576b"
             ],
             [
              0.6666666666666666,
              "#ed7953"
             ],
             [
              0.7777777777777778,
              "#fb9f3a"
             ],
             [
              0.8888888888888888,
              "#fdca26"
             ],
             [
              1,
              "#f0f921"
             ]
            ],
            "type": "histogram2d"
           }
          ],
          "histogram2dcontour": [
           {
            "colorbar": {
             "outlinewidth": 0,
             "ticks": ""
            },
            "colorscale": [
             [
              0,
              "#0d0887"
             ],
             [
              0.1111111111111111,
              "#46039f"
             ],
             [
              0.2222222222222222,
              "#7201a8"
             ],
             [
              0.3333333333333333,
              "#9c179e"
             ],
             [
              0.4444444444444444,
              "#bd3786"
             ],
             [
              0.5555555555555556,
              "#d8576b"
             ],
             [
              0.6666666666666666,
              "#ed7953"
             ],
             [
              0.7777777777777778,
              "#fb9f3a"
             ],
             [
              0.8888888888888888,
              "#fdca26"
             ],
             [
              1,
              "#f0f921"
             ]
            ],
            "type": "histogram2dcontour"
           }
          ],
          "mesh3d": [
           {
            "colorbar": {
             "outlinewidth": 0,
             "ticks": ""
            },
            "type": "mesh3d"
           }
          ],
          "parcoords": [
           {
            "line": {
             "colorbar": {
              "outlinewidth": 0,
              "ticks": ""
             }
            },
            "type": "parcoords"
           }
          ],
          "pie": [
           {
            "automargin": true,
            "type": "pie"
           }
          ],
          "scatter": [
           {
            "fillpattern": {
             "fillmode": "overlay",
             "size": 10,
             "solidity": 0.2
            },
            "type": "scatter"
           }
          ],
          "scatter3d": [
           {
            "line": {
             "colorbar": {
              "outlinewidth": 0,
              "ticks": ""
             }
            },
            "marker": {
             "colorbar": {
              "outlinewidth": 0,
              "ticks": ""
             }
            },
            "type": "scatter3d"
           }
          ],
          "scattercarpet": [
           {
            "marker": {
             "colorbar": {
              "outlinewidth": 0,
              "ticks": ""
             }
            },
            "type": "scattercarpet"
           }
          ],
          "scattergeo": [
           {
            "marker": {
             "colorbar": {
              "outlinewidth": 0,
              "ticks": ""
             }
            },
            "type": "scattergeo"
           }
          ],
          "scattergl": [
           {
            "marker": {
             "colorbar": {
              "outlinewidth": 0,
              "ticks": ""
             }
            },
            "type": "scattergl"
           }
          ],
          "scattermap": [
           {
            "marker": {
             "colorbar": {
              "outlinewidth": 0,
              "ticks": ""
             }
            },
            "type": "scattermap"
           }
          ],
          "scattermapbox": [
           {
            "marker": {
             "colorbar": {
              "outlinewidth": 0,
              "ticks": ""
             }
            },
            "type": "scattermapbox"
           }
          ],
          "scatterpolar": [
           {
            "marker": {
             "colorbar": {
              "outlinewidth": 0,
              "ticks": ""
             }
            },
            "type": "scatterpolar"
           }
          ],
          "scatterpolargl": [
           {
            "marker": {
             "colorbar": {
              "outlinewidth": 0,
              "ticks": ""
             }
            },
            "type": "scatterpolargl"
           }
          ],
          "scatterternary": [
           {
            "marker": {
             "colorbar": {
              "outlinewidth": 0,
              "ticks": ""
             }
            },
            "type": "scatterternary"
           }
          ],
          "surface": [
           {
            "colorbar": {
             "outlinewidth": 0,
             "ticks": ""
            },
            "colorscale": [
             [
              0,
              "#0d0887"
             ],
             [
              0.1111111111111111,
              "#46039f"
             ],
             [
              0.2222222222222222,
              "#7201a8"
             ],
             [
              0.3333333333333333,
              "#9c179e"
             ],
             [
              0.4444444444444444,
              "#bd3786"
             ],
             [
              0.5555555555555556,
              "#d8576b"
             ],
             [
              0.6666666666666666,
              "#ed7953"
             ],
             [
              0.7777777777777778,
              "#fb9f3a"
             ],
             [
              0.8888888888888888,
              "#fdca26"
             ],
             [
              1,
              "#f0f921"
             ]
            ],
            "type": "surface"
           }
          ],
          "table": [
           {
            "cells": {
             "fill": {
              "color": "#EBF0F8"
             },
             "line": {
              "color": "white"
             }
            },
            "header": {
             "fill": {
              "color": "#C8D4E3"
             },
             "line": {
              "color": "white"
             }
            },
            "type": "table"
           }
          ]
         },
         "layout": {
          "annotationdefaults": {
           "arrowcolor": "#2a3f5f",
           "arrowhead": 0,
           "arrowwidth": 1
          },
          "autotypenumbers": "strict",
          "coloraxis": {
           "colorbar": {
            "outlinewidth": 0,
            "ticks": ""
           }
          },
          "colorscale": {
           "diverging": [
            [
             0,
             "#8e0152"
            ],
            [
             0.1,
             "#c51b7d"
            ],
            [
             0.2,
             "#de77ae"
            ],
            [
             0.3,
             "#f1b6da"
            ],
            [
             0.4,
             "#fde0ef"
            ],
            [
             0.5,
             "#f7f7f7"
            ],
            [
             0.6,
             "#e6f5d0"
            ],
            [
             0.7,
             "#b8e186"
            ],
            [
             0.8,
             "#7fbc41"
            ],
            [
             0.9,
             "#4d9221"
            ],
            [
             1,
             "#276419"
            ]
           ],
           "sequential": [
            [
             0,
             "#0d0887"
            ],
            [
             0.1111111111111111,
             "#46039f"
            ],
            [
             0.2222222222222222,
             "#7201a8"
            ],
            [
             0.3333333333333333,
             "#9c179e"
            ],
            [
             0.4444444444444444,
             "#bd3786"
            ],
            [
             0.5555555555555556,
             "#d8576b"
            ],
            [
             0.6666666666666666,
             "#ed7953"
            ],
            [
             0.7777777777777778,
             "#fb9f3a"
            ],
            [
             0.8888888888888888,
             "#fdca26"
            ],
            [
             1,
             "#f0f921"
            ]
           ],
           "sequentialminus": [
            [
             0,
             "#0d0887"
            ],
            [
             0.1111111111111111,
             "#46039f"
            ],
            [
             0.2222222222222222,
             "#7201a8"
            ],
            [
             0.3333333333333333,
             "#9c179e"
            ],
            [
             0.4444444444444444,
             "#bd3786"
            ],
            [
             0.5555555555555556,
             "#d8576b"
            ],
            [
             0.6666666666666666,
             "#ed7953"
            ],
            [
             0.7777777777777778,
             "#fb9f3a"
            ],
            [
             0.8888888888888888,
             "#fdca26"
            ],
            [
             1,
             "#f0f921"
            ]
           ]
          },
          "colorway": [
           "#636efa",
           "#EF553B",
           "#00cc96",
           "#ab63fa",
           "#FFA15A",
           "#19d3f3",
           "#FF6692",
           "#B6E880",
           "#FF97FF",
           "#FECB52"
          ],
          "font": {
           "color": "#2a3f5f"
          },
          "geo": {
           "bgcolor": "white",
           "lakecolor": "white",
           "landcolor": "#E5ECF6",
           "showlakes": true,
           "showland": true,
           "subunitcolor": "white"
          },
          "hoverlabel": {
           "align": "left"
          },
          "hovermode": "closest",
          "mapbox": {
           "style": "light"
          },
          "paper_bgcolor": "white",
          "plot_bgcolor": "#E5ECF6",
          "polar": {
           "angularaxis": {
            "gridcolor": "white",
            "linecolor": "white",
            "ticks": ""
           },
           "bgcolor": "#E5ECF6",
           "radialaxis": {
            "gridcolor": "white",
            "linecolor": "white",
            "ticks": ""
           }
          },
          "scene": {
           "xaxis": {
            "backgroundcolor": "#E5ECF6",
            "gridcolor": "white",
            "gridwidth": 2,
            "linecolor": "white",
            "showbackground": true,
            "ticks": "",
            "zerolinecolor": "white"
           },
           "yaxis": {
            "backgroundcolor": "#E5ECF6",
            "gridcolor": "white",
            "gridwidth": 2,
            "linecolor": "white",
            "showbackground": true,
            "ticks": "",
            "zerolinecolor": "white"
           },
           "zaxis": {
            "backgroundcolor": "#E5ECF6",
            "gridcolor": "white",
            "gridwidth": 2,
            "linecolor": "white",
            "showbackground": true,
            "ticks": "",
            "zerolinecolor": "white"
           }
          },
          "shapedefaults": {
           "line": {
            "color": "#2a3f5f"
           }
          },
          "ternary": {
           "aaxis": {
            "gridcolor": "white",
            "linecolor": "white",
            "ticks": ""
           },
           "baxis": {
            "gridcolor": "white",
            "linecolor": "white",
            "ticks": ""
           },
           "bgcolor": "#E5ECF6",
           "caxis": {
            "gridcolor": "white",
            "linecolor": "white",
            "ticks": ""
           }
          },
          "title": {
           "x": 0.05
          },
          "xaxis": {
           "automargin": true,
           "gridcolor": "white",
           "linecolor": "white",
           "ticks": "",
           "title": {
            "standoff": 15
           },
           "zerolinecolor": "white",
           "zerolinewidth": 2
          },
          "yaxis": {
           "automargin": true,
           "gridcolor": "white",
           "linecolor": "white",
           "ticks": "",
           "title": {
            "standoff": 15
           },
           "zerolinecolor": "white",
           "zerolinewidth": 2
          }
         }
        },
        "title": {
         "text": "Economic Growth vs AHS Tariff Rates"
        },
        "xaxis": {
         "anchor": "y",
         "domain": [
          0,
          1
         ],
         "title": {
          "text": "AHS Simple Average (%)"
         }
        },
        "yaxis": {
         "anchor": "x",
         "domain": [
          0,
          1
         ],
         "title": {
          "text": "Country Growth (%)"
         }
        }
       }
      }
     },
     "metadata": {},
     "output_type": "display_data"
    },
    {
     "name": "stdout",
     "output_type": "stream",
     "text": [
      "Correlation between Growth and AHS Tariff: 0.330\n"
     ]
    }
   ],
   "source": [
    "# Scatter plot: Growth vs Tariffs\n",
    "fig_growth_tariffs = px.scatter(\n",
    "    ger_trade,\n",
    "    x=\"AHS Simple Average (%)\",\n",
    "    y=\"Country Growth (%)\",\n",
    "    title=\"Economic Growth vs AHS Tariff Rates\",\n",
    "    trendline=\"ols\",\n",
    ")\n",
    "fig_growth_tariffs.show()\n",
    "\n",
    "# Calculate correlation\n",
    "correlation = ger_trade[\"Country Growth (%)\"].corr(ger_trade[\"AHS Simple Average (%)\"])\n",
    "print(f\"Correlation between Growth and AHS Tariff: {correlation:.3f}\")"
   ]
  },
  {
   "cell_type": "code",
   "execution_count": 27,
   "id": "14520d7e",
   "metadata": {},
   "outputs": [
    {
     "data": {
      "application/vnd.plotly.v1+json": {
       "config": {
        "plotlyServerURL": "https://plot.ly"
       },
       "data": [
        {
         "hovertemplate": "Export (US$)=%{x}<br>Import (US$)=%{y}<extra></extra>",
         "legendgroup": "",
         "marker": {
          "color": "#636efa",
          "symbol": "circle"
         },
         "mode": "markers",
         "name": "",
         "orientation": "v",
         "showlegend": false,
         "type": "scatter",
         "x": {
          "bdata": "AADANYTyIEIAANQRFB0rQgAAmt/YMjFCAAC6rLAROEIAADoAP19DQgAAPFY4KUZCAIAa6vhgUkIAgGRTO8RYQgCAOgdO61hCAADEU/3RWEIAAJERH+1ZQgAAor6qcVlCAICTMB1RW0IAAHQn7i1bQgAASHSJhVtCAABeQFCDYEIAgIAT8aBjQgAAaS2dSGVCAIA4oil3aEIAAHLaTE9sQgAAq4FrIHBCAEDPHNElaUIAgJj3mHdrQgDAdopFFnBCAMBDPAVqbkIAwAYcthVvQgAgpm8NAnBCAMDZoDj9a0IAQJ3ozypsQgBAWSdY8G5CAKCWWPw1cUIAoGTFF5BwQgCA0uRdyG9CAMAxnKayc0I=",
          "dtype": "f8"
         },
         "xaxis": "x",
         "y": {
          "bdata": "AABsDpBPJEIAALwGlAUyQv//edwikzZCAAD210dVPEIAAOf07yxGQgAAJuyoaEhCAABzMtFMVEIAgO7bTjxbQgAA6CUSzltCAIDua23YW0IAAFmbOFFdQgCAJ2bDjl1CAID8/MvIXkIAAJY5sZZfQgAAV4imJ2FCAIDBeMbJZEIAAGsA1RlpQgAAYqw1+2pCAABFg8FhbkIAAMjEZjZyQgDgHOsoCHRCAECXZmmFbkIAYBs7nBRxQgBg+wMPCnRCAICTDuQTc0IAAGvvGblzQgCA/cinUnRCACA4i8sWckIAYDYhrQZyQgCgbiKGinNCAGBzqyj9dEIAAHOWqORzQgDg0GS7y3JCAACa1pZkdkI=",
          "dtype": "f8"
         },
         "yaxis": "y"
        },
        {
         "hovertemplate": "<b>OLS trendline</b><br>Import (US$) = 1.24869 * Export (US$) + -1.77016e+10<br>R<sup>2</sup>=0.993517<br><br>Export (US$)=%{x}<br>Import (US$)=%{y} <b>(trend)</b><extra></extra>",
         "legendgroup": "",
         "marker": {
          "color": "#636efa",
          "symbol": "circle"
         },
         "mode": "lines",
         "name": "",
         "showlegend": false,
         "type": "scatter",
         "x": {
          "bdata": "AADANYTyIEIAANQRFB0rQgAAmt/YMjFCAAC6rLAROEIAADoAP19DQgAAPFY4KUZCAIAa6vhgUkIAgGRTO8RYQgAAxFP90VhCAIA6B07rWEIAAKK+qnFZQgAAkREf7VlCAAB0J+4tW0IAgJMwHVFbQgAASHSJhVtCAABeQFCDYEIAgIAT8aBjQgAAaS2dSGVCAIA4oil3aEIAQM8c0SVpQgCAmPeYd2tCAMDZoDj9a0IAQJ3ozypsQgAActpMT2xCAMBDPAVqbkIAQFknWPBuQgDABhy2FW9CAIDS5F3Ib0IAIKZvDQJwQgDAdopFFnBCAACrgWsgcEIAoGTFF5BwQgCgllj8NXFCAMAxnKayc0I=",
          "dtype": "f8"
         },
         "xaxis": "x",
         "y": {
          "bdata": "XB8/C4PWGULqZdhJCp0pQnbbGjmuWjFC6KSJmezuOUKdxDEO/yBGQhxUkqqGnElCKH8yEUPrVUIaS0JCMOVdQtRDhiJe9l1CU6fZf/oVXkLHLeo3wb1eQqeRRh3pV19CauKKDUB0YEIIZAeJN4pgQnw7M2PyqmBCXAhy57MaZELwUra/sP5nQnCXnGy5D2pCIAWNHtcIbkIM/He+7eJuQjGMNvUv5HBCyFgvSJ03cUKJQOwqFFRxQsN4tx/canFCVH6/yzS7ckIUMboJEg9zQuz9eHpmJnNCnC0cT/GVc0I5m65gPbtzQgJ017V81HNCLoRVwSjhc0IpwcWJmmx0QoUtlHrAO3VCvMFLPr9WeEI=",
          "dtype": "f8"
         },
         "yaxis": "y"
        }
       ],
       "layout": {
        "legend": {
         "tracegroupgap": 0
        },
        "template": {
         "data": {
          "bar": [
           {
            "error_x": {
             "color": "#2a3f5f"
            },
            "error_y": {
             "color": "#2a3f5f"
            },
            "marker": {
             "line": {
              "color": "#E5ECF6",
              "width": 0.5
             },
             "pattern": {
              "fillmode": "overlay",
              "size": 10,
              "solidity": 0.2
             }
            },
            "type": "bar"
           }
          ],
          "barpolar": [
           {
            "marker": {
             "line": {
              "color": "#E5ECF6",
              "width": 0.5
             },
             "pattern": {
              "fillmode": "overlay",
              "size": 10,
              "solidity": 0.2
             }
            },
            "type": "barpolar"
           }
          ],
          "carpet": [
           {
            "aaxis": {
             "endlinecolor": "#2a3f5f",
             "gridcolor": "white",
             "linecolor": "white",
             "minorgridcolor": "white",
             "startlinecolor": "#2a3f5f"
            },
            "baxis": {
             "endlinecolor": "#2a3f5f",
             "gridcolor": "white",
             "linecolor": "white",
             "minorgridcolor": "white",
             "startlinecolor": "#2a3f5f"
            },
            "type": "carpet"
           }
          ],
          "choropleth": [
           {
            "colorbar": {
             "outlinewidth": 0,
             "ticks": ""
            },
            "type": "choropleth"
           }
          ],
          "contour": [
           {
            "colorbar": {
             "outlinewidth": 0,
             "ticks": ""
            },
            "colorscale": [
             [
              0,
              "#0d0887"
             ],
             [
              0.1111111111111111,
              "#46039f"
             ],
             [
              0.2222222222222222,
              "#7201a8"
             ],
             [
              0.3333333333333333,
              "#9c179e"
             ],
             [
              0.4444444444444444,
              "#bd3786"
             ],
             [
              0.5555555555555556,
              "#d8576b"
             ],
             [
              0.6666666666666666,
              "#ed7953"
             ],
             [
              0.7777777777777778,
              "#fb9f3a"
             ],
             [
              0.8888888888888888,
              "#fdca26"
             ],
             [
              1,
              "#f0f921"
             ]
            ],
            "type": "contour"
           }
          ],
          "contourcarpet": [
           {
            "colorbar": {
             "outlinewidth": 0,
             "ticks": ""
            },
            "type": "contourcarpet"
           }
          ],
          "heatmap": [
           {
            "colorbar": {
             "outlinewidth": 0,
             "ticks": ""
            },
            "colorscale": [
             [
              0,
              "#0d0887"
             ],
             [
              0.1111111111111111,
              "#46039f"
             ],
             [
              0.2222222222222222,
              "#7201a8"
             ],
             [
              0.3333333333333333,
              "#9c179e"
             ],
             [
              0.4444444444444444,
              "#bd3786"
             ],
             [
              0.5555555555555556,
              "#d8576b"
             ],
             [
              0.6666666666666666,
              "#ed7953"
             ],
             [
              0.7777777777777778,
              "#fb9f3a"
             ],
             [
              0.8888888888888888,
              "#fdca26"
             ],
             [
              1,
              "#f0f921"
             ]
            ],
            "type": "heatmap"
           }
          ],
          "histogram": [
           {
            "marker": {
             "pattern": {
              "fillmode": "overlay",
              "size": 10,
              "solidity": 0.2
             }
            },
            "type": "histogram"
           }
          ],
          "histogram2d": [
           {
            "colorbar": {
             "outlinewidth": 0,
             "ticks": ""
            },
            "colorscale": [
             [
              0,
              "#0d0887"
             ],
             [
              0.1111111111111111,
              "#46039f"
             ],
             [
              0.2222222222222222,
              "#7201a8"
             ],
             [
              0.3333333333333333,
              "#9c179e"
             ],
             [
              0.4444444444444444,
              "#bd3786"
             ],
             [
              0.5555555555555556,
              "#d8576b"
             ],
             [
              0.6666666666666666,
              "#ed7953"
             ],
             [
              0.7777777777777778,
              "#fb9f3a"
             ],
             [
              0.8888888888888888,
              "#fdca26"
             ],
             [
              1,
              "#f0f921"
             ]
            ],
            "type": "histogram2d"
           }
          ],
          "histogram2dcontour": [
           {
            "colorbar": {
             "outlinewidth": 0,
             "ticks": ""
            },
            "colorscale": [
             [
              0,
              "#0d0887"
             ],
             [
              0.1111111111111111,
              "#46039f"
             ],
             [
              0.2222222222222222,
              "#7201a8"
             ],
             [
              0.3333333333333333,
              "#9c179e"
             ],
             [
              0.4444444444444444,
              "#bd3786"
             ],
             [
              0.5555555555555556,
              "#d8576b"
             ],
             [
              0.6666666666666666,
              "#ed7953"
             ],
             [
              0.7777777777777778,
              "#fb9f3a"
             ],
             [
              0.8888888888888888,
              "#fdca26"
             ],
             [
              1,
              "#f0f921"
             ]
            ],
            "type": "histogram2dcontour"
           }
          ],
          "mesh3d": [
           {
            "colorbar": {
             "outlinewidth": 0,
             "ticks": ""
            },
            "type": "mesh3d"
           }
          ],
          "parcoords": [
           {
            "line": {
             "colorbar": {
              "outlinewidth": 0,
              "ticks": ""
             }
            },
            "type": "parcoords"
           }
          ],
          "pie": [
           {
            "automargin": true,
            "type": "pie"
           }
          ],
          "scatter": [
           {
            "fillpattern": {
             "fillmode": "overlay",
             "size": 10,
             "solidity": 0.2
            },
            "type": "scatter"
           }
          ],
          "scatter3d": [
           {
            "line": {
             "colorbar": {
              "outlinewidth": 0,
              "ticks": ""
             }
            },
            "marker": {
             "colorbar": {
              "outlinewidth": 0,
              "ticks": ""
             }
            },
            "type": "scatter3d"
           }
          ],
          "scattercarpet": [
           {
            "marker": {
             "colorbar": {
              "outlinewidth": 0,
              "ticks": ""
             }
            },
            "type": "scattercarpet"
           }
          ],
          "scattergeo": [
           {
            "marker": {
             "colorbar": {
              "outlinewidth": 0,
              "ticks": ""
             }
            },
            "type": "scattergeo"
           }
          ],
          "scattergl": [
           {
            "marker": {
             "colorbar": {
              "outlinewidth": 0,
              "ticks": ""
             }
            },
            "type": "scattergl"
           }
          ],
          "scattermap": [
           {
            "marker": {
             "colorbar": {
              "outlinewidth": 0,
              "ticks": ""
             }
            },
            "type": "scattermap"
           }
          ],
          "scattermapbox": [
           {
            "marker": {
             "colorbar": {
              "outlinewidth": 0,
              "ticks": ""
             }
            },
            "type": "scattermapbox"
           }
          ],
          "scatterpolar": [
           {
            "marker": {
             "colorbar": {
              "outlinewidth": 0,
              "ticks": ""
             }
            },
            "type": "scatterpolar"
           }
          ],
          "scatterpolargl": [
           {
            "marker": {
             "colorbar": {
              "outlinewidth": 0,
              "ticks": ""
             }
            },
            "type": "scatterpolargl"
           }
          ],
          "scatterternary": [
           {
            "marker": {
             "colorbar": {
              "outlinewidth": 0,
              "ticks": ""
             }
            },
            "type": "scatterternary"
           }
          ],
          "surface": [
           {
            "colorbar": {
             "outlinewidth": 0,
             "ticks": ""
            },
            "colorscale": [
             [
              0,
              "#0d0887"
             ],
             [
              0.1111111111111111,
              "#46039f"
             ],
             [
              0.2222222222222222,
              "#7201a8"
             ],
             [
              0.3333333333333333,
              "#9c179e"
             ],
             [
              0.4444444444444444,
              "#bd3786"
             ],
             [
              0.5555555555555556,
              "#d8576b"
             ],
             [
              0.6666666666666666,
              "#ed7953"
             ],
             [
              0.7777777777777778,
              "#fb9f3a"
             ],
             [
              0.8888888888888888,
              "#fdca26"
             ],
             [
              1,
              "#f0f921"
             ]
            ],
            "type": "surface"
           }
          ],
          "table": [
           {
            "cells": {
             "fill": {
              "color": "#EBF0F8"
             },
             "line": {
              "color": "white"
             }
            },
            "header": {
             "fill": {
              "color": "#C8D4E3"
             },
             "line": {
              "color": "white"
             }
            },
            "type": "table"
           }
          ]
         },
         "layout": {
          "annotationdefaults": {
           "arrowcolor": "#2a3f5f",
           "arrowhead": 0,
           "arrowwidth": 1
          },
          "autotypenumbers": "strict",
          "coloraxis": {
           "colorbar": {
            "outlinewidth": 0,
            "ticks": ""
           }
          },
          "colorscale": {
           "diverging": [
            [
             0,
             "#8e0152"
            ],
            [
             0.1,
             "#c51b7d"
            ],
            [
             0.2,
             "#de77ae"
            ],
            [
             0.3,
             "#f1b6da"
            ],
            [
             0.4,
             "#fde0ef"
            ],
            [
             0.5,
             "#f7f7f7"
            ],
            [
             0.6,
             "#e6f5d0"
            ],
            [
             0.7,
             "#b8e186"
            ],
            [
             0.8,
             "#7fbc41"
            ],
            [
             0.9,
             "#4d9221"
            ],
            [
             1,
             "#276419"
            ]
           ],
           "sequential": [
            [
             0,
             "#0d0887"
            ],
            [
             0.1111111111111111,
             "#46039f"
            ],
            [
             0.2222222222222222,
             "#7201a8"
            ],
            [
             0.3333333333333333,
             "#9c179e"
            ],
            [
             0.4444444444444444,
             "#bd3786"
            ],
            [
             0.5555555555555556,
             "#d8576b"
            ],
            [
             0.6666666666666666,
             "#ed7953"
            ],
            [
             0.7777777777777778,
             "#fb9f3a"
            ],
            [
             0.8888888888888888,
             "#fdca26"
            ],
            [
             1,
             "#f0f921"
            ]
           ],
           "sequentialminus": [
            [
             0,
             "#0d0887"
            ],
            [
             0.1111111111111111,
             "#46039f"
            ],
            [
             0.2222222222222222,
             "#7201a8"
            ],
            [
             0.3333333333333333,
             "#9c179e"
            ],
            [
             0.4444444444444444,
             "#bd3786"
            ],
            [
             0.5555555555555556,
             "#d8576b"
            ],
            [
             0.6666666666666666,
             "#ed7953"
            ],
            [
             0.7777777777777778,
             "#fb9f3a"
            ],
            [
             0.8888888888888888,
             "#fdca26"
            ],
            [
             1,
             "#f0f921"
            ]
           ]
          },
          "colorway": [
           "#636efa",
           "#EF553B",
           "#00cc96",
           "#ab63fa",
           "#FFA15A",
           "#19d3f3",
           "#FF6692",
           "#B6E880",
           "#FF97FF",
           "#FECB52"
          ],
          "font": {
           "color": "#2a3f5f"
          },
          "geo": {
           "bgcolor": "white",
           "lakecolor": "white",
           "landcolor": "#E5ECF6",
           "showlakes": true,
           "showland": true,
           "subunitcolor": "white"
          },
          "hoverlabel": {
           "align": "left"
          },
          "hovermode": "closest",
          "mapbox": {
           "style": "light"
          },
          "paper_bgcolor": "white",
          "plot_bgcolor": "#E5ECF6",
          "polar": {
           "angularaxis": {
            "gridcolor": "white",
            "linecolor": "white",
            "ticks": ""
           },
           "bgcolor": "#E5ECF6",
           "radialaxis": {
            "gridcolor": "white",
            "linecolor": "white",
            "ticks": ""
           }
          },
          "scene": {
           "xaxis": {
            "backgroundcolor": "#E5ECF6",
            "gridcolor": "white",
            "gridwidth": 2,
            "linecolor": "white",
            "showbackground": true,
            "ticks": "",
            "zerolinecolor": "white"
           },
           "yaxis": {
            "backgroundcolor": "#E5ECF6",
            "gridcolor": "white",
            "gridwidth": 2,
            "linecolor": "white",
            "showbackground": true,
            "ticks": "",
            "zerolinecolor": "white"
           },
           "zaxis": {
            "backgroundcolor": "#E5ECF6",
            "gridcolor": "white",
            "gridwidth": 2,
            "linecolor": "white",
            "showbackground": true,
            "ticks": "",
            "zerolinecolor": "white"
           }
          },
          "shapedefaults": {
           "line": {
            "color": "#2a3f5f"
           }
          },
          "ternary": {
           "aaxis": {
            "gridcolor": "white",
            "linecolor": "white",
            "ticks": ""
           },
           "baxis": {
            "gridcolor": "white",
            "linecolor": "white",
            "ticks": ""
           },
           "bgcolor": "#E5ECF6",
           "caxis": {
            "gridcolor": "white",
            "linecolor": "white",
            "ticks": ""
           }
          },
          "title": {
           "x": 0.05
          },
          "xaxis": {
           "automargin": true,
           "gridcolor": "white",
           "linecolor": "white",
           "ticks": "",
           "title": {
            "standoff": 15
           },
           "zerolinecolor": "white",
           "zerolinewidth": 2
          },
          "yaxis": {
           "automargin": true,
           "gridcolor": "white",
           "linecolor": "white",
           "ticks": "",
           "title": {
            "standoff": 15
           },
           "zerolinecolor": "white",
           "zerolinewidth": 2
          }
         }
        },
        "title": {
         "text": "Exports vs Imports"
        },
        "xaxis": {
         "anchor": "y",
         "domain": [
          0,
          1
         ],
         "title": {
          "text": "Export (US$)"
         }
        },
        "yaxis": {
         "anchor": "x",
         "domain": [
          0,
          1
         ],
         "title": {
          "text": "Import (US$)"
         }
        }
       }
      }
     },
     "metadata": {},
     "output_type": "display_data"
    },
    {
     "name": "stdout",
     "output_type": "stream",
     "text": [
      "Correlation between Exports and Imports: 0.997\n"
     ]
    }
   ],
   "source": [
    "# Scatter plot: Trade Volumes\n",
    "fig_trade_volumes = px.scatter(\n",
    "    ger_trade,\n",
    "    x=\"Export (US$)\",\n",
    "    y=\"Import (US$)\",\n",
    "    title=\"Exports vs Imports\",\n",
    "    trendline=\"ols\",\n",
    ")\n",
    "fig_trade_volumes.show()\n",
    "\n",
    "# Calculate correlation\n",
    "correlation = ger_trade[\"Export (US$)\"].corr(ger_trade[\"Import (US$)\"])\n",
    "print(f\"Correlation between Exports and Imports: {correlation:.3f}\")"
   ]
  },
  {
   "cell_type": "markdown",
   "id": "c5825804",
   "metadata": {},
   "source": [
    "#### **2.2.3 Multivariate Analysis** <a id='223-multivariate-analysis'></a>\n",
    "\n",
    "Now let's examine relationships between multiple variables simultaneously."
   ]
  },
  {
   "cell_type": "code",
   "execution_count": 28,
   "id": "8dcc07a9",
   "metadata": {},
   "outputs": [
    {
     "data": {
      "application/vnd.plotly.v1+json": {
       "config": {
        "plotlyServerURL": "https://plot.ly"
       },
       "data": [
        {
         "dimensions": [
          {
           "label": "Year",
           "values": {
            "bdata": "xAfFB8YHxwfIB8kHygfLB8wHzQfOB88H0AfRB9IH0wfUB9UH1gfXB9gH2QfaB9sH3AfdB94H3wfgB+EH4gfjB+QH5Qc=",
            "dtype": "i2"
           }
          },
          {
           "label": "Country Growth (%)",
           "values": {
            "bdata": "CtejcD0KGEA9CtejcD0OQOxRuB6FaylAPQrXo3A9GkCuR+F6FK4DQM3MzMzMzCDAKVyPwvUoFkCamZmZmZkkQOF6FK5H4eK/MzMzMzMz97/NzMzMzMwGQLgehetRuM4/zczMzMzMBkDXo3A9Ctf3v83MzMzMzNw/CtejcD2KJUB7FK5H4XoiQNejcD0K1xBAAAAAAACAIUC4HoXrUbgcQGZmZmZmZhhAAAAAAACAJ8BxPQrXo3AbQB+F61G4HiJAw/UoXI/CD8BSuB6F61HwP4/C9Shcj/I/zczMzMzMGsB7FK5H4XrEP9ejcD0K1wVAzczMzMzMHUB7FK5H4XoAwNejcD0K1wXAZmZmZmZmJEA=",
            "dtype": "f8"
           }
          },
          {
           "label": "AHS Simple Average (%)",
           "values": {
            "bdata": "PQrXo3D9MUA9CtejcL03QNejcD0Kd0pA16NwPQpXLUApXI/C9SgtQJqZmZmZmShAPQrXo3C9L0ApXI/C9SgqQJqZmZmZmSNAZmZmZmbmJECkcD0K1yMlQFK4HoXrUSVA9ihcj8J1JkA9CtejcD0jQK5H4XoULiRAKVyPwvUoI0CF61G4HgUiQK5H4XoUriBAXI/C9ShcIEAfhetRuB4eQAAAAAAAAB5ASOF6FK5HHED2KFyPwvUcQPYoXI/C9RxAcT0K16NwGkBcj8L1KFwbQK5H4XoUrhhAmpmZmZmZGECkcD0K16MaQKRwPQrXoxZAZmZmZmZmGEA9CtejcD0cQHsUrkfhehhACtejcD0KF0A=",
            "dtype": "f8"
           }
          },
          {
           "label": "MFN Simple Average (%)",
           "values": {
            "bdata": "NDMzMzNzPEDsUbgehWtHQDMzMzMz00RAPQrXo3A9L0CuR+F6FK4vQJqZmZmZGTBAZmZmZmamMkBcj8L1KNwsQI/C9ShcDyhA16NwPQrXKECuR+F6FC4qQNejcD0K1ylAexSuR+F6J0AUrkfhehQmQIXrUbgeBSdAFK5H4XoUJUAAAAAAAAAjQDMzMzMzsyNAFK5H4XoUI0AK16NwPQoiQD0K16NwPSJAH4XrUbgeIkC4HoXrUbghQNejcD0K1yFA9ihcj8J1IUCF61G4HoUhQEjhehSuxyBAZmZmZmZmIUA9CtejcD0hQLgehetRuCBAexSuR+F6IUDhehSuR2EiQJqZmZmZmSBACtejcD0KIUA=",
            "dtype": "f8"
           }
          },
          {
           "label": "Export (US$)",
           "values": {
            "bdata": "AADANYTyIEIAANQRFB0rQgAAmt/YMjFCAAC6rLAROEIAADoAP19DQgAAPFY4KUZCAIAa6vhgUkIAgGRTO8RYQgCAOgdO61hCAADEU/3RWEIAAJERH+1ZQgAAor6qcVlCAICTMB1RW0IAAHQn7i1bQgAASHSJhVtCAABeQFCDYEIAgIAT8aBjQgAAaS2dSGVCAIA4oil3aEIAAHLaTE9sQgAAq4FrIHBCAEDPHNElaUIAgJj3mHdrQgDAdopFFnBCAMBDPAVqbkIAwAYcthVvQgAgpm8NAnBCAMDZoDj9a0IAQJ3ozypsQgBAWSdY8G5CAKCWWPw1cUIAoGTFF5BwQgCA0uRdyG9CAMAxnKayc0I=",
            "dtype": "f8"
           }
          },
          {
           "label": "Import (US$)",
           "values": {
            "bdata": "AABsDpBPJEIAALwGlAUyQv//edwikzZCAAD210dVPEIAAOf07yxGQgAAJuyoaEhCAABzMtFMVEIAgO7bTjxbQgAA6CUSzltCAIDua23YW0IAAFmbOFFdQgCAJ2bDjl1CAID8/MvIXkIAAJY5sZZfQgAAV4imJ2FCAIDBeMbJZEIAAGsA1RlpQgAAYqw1+2pCAABFg8FhbkIAAMjEZjZyQgDgHOsoCHRCAECXZmmFbkIAYBs7nBRxQgBg+wMPCnRCAICTDuQTc0IAAGvvGblzQgCA/cinUnRCACA4i8sWckIAYDYhrQZyQgCgbiKGinNCAGBzqyj9dEIAAHOWqORzQgDg0GS7y3JCAACa1pZkdkI=",
            "dtype": "f8"
           }
          }
         ],
         "domain": {
          "x": [
           0,
           1
          ],
          "y": [
           0,
           1
          ]
         },
         "name": "",
         "type": "parcoords"
        }
       ],
       "layout": {
        "legend": {
         "tracegroupgap": 0
        },
        "template": {
         "data": {
          "bar": [
           {
            "error_x": {
             "color": "#2a3f5f"
            },
            "error_y": {
             "color": "#2a3f5f"
            },
            "marker": {
             "line": {
              "color": "#E5ECF6",
              "width": 0.5
             },
             "pattern": {
              "fillmode": "overlay",
              "size": 10,
              "solidity": 0.2
             }
            },
            "type": "bar"
           }
          ],
          "barpolar": [
           {
            "marker": {
             "line": {
              "color": "#E5ECF6",
              "width": 0.5
             },
             "pattern": {
              "fillmode": "overlay",
              "size": 10,
              "solidity": 0.2
             }
            },
            "type": "barpolar"
           }
          ],
          "carpet": [
           {
            "aaxis": {
             "endlinecolor": "#2a3f5f",
             "gridcolor": "white",
             "linecolor": "white",
             "minorgridcolor": "white",
             "startlinecolor": "#2a3f5f"
            },
            "baxis": {
             "endlinecolor": "#2a3f5f",
             "gridcolor": "white",
             "linecolor": "white",
             "minorgridcolor": "white",
             "startlinecolor": "#2a3f5f"
            },
            "type": "carpet"
           }
          ],
          "choropleth": [
           {
            "colorbar": {
             "outlinewidth": 0,
             "ticks": ""
            },
            "type": "choropleth"
           }
          ],
          "contour": [
           {
            "colorbar": {
             "outlinewidth": 0,
             "ticks": ""
            },
            "colorscale": [
             [
              0,
              "#0d0887"
             ],
             [
              0.1111111111111111,
              "#46039f"
             ],
             [
              0.2222222222222222,
              "#7201a8"
             ],
             [
              0.3333333333333333,
              "#9c179e"
             ],
             [
              0.4444444444444444,
              "#bd3786"
             ],
             [
              0.5555555555555556,
              "#d8576b"
             ],
             [
              0.6666666666666666,
              "#ed7953"
             ],
             [
              0.7777777777777778,
              "#fb9f3a"
             ],
             [
              0.8888888888888888,
              "#fdca26"
             ],
             [
              1,
              "#f0f921"
             ]
            ],
            "type": "contour"
           }
          ],
          "contourcarpet": [
           {
            "colorbar": {
             "outlinewidth": 0,
             "ticks": ""
            },
            "type": "contourcarpet"
           }
          ],
          "heatmap": [
           {
            "colorbar": {
             "outlinewidth": 0,
             "ticks": ""
            },
            "colorscale": [
             [
              0,
              "#0d0887"
             ],
             [
              0.1111111111111111,
              "#46039f"
             ],
             [
              0.2222222222222222,
              "#7201a8"
             ],
             [
              0.3333333333333333,
              "#9c179e"
             ],
             [
              0.4444444444444444,
              "#bd3786"
             ],
             [
              0.5555555555555556,
              "#d8576b"
             ],
             [
              0.6666666666666666,
              "#ed7953"
             ],
             [
              0.7777777777777778,
              "#fb9f3a"
             ],
             [
              0.8888888888888888,
              "#fdca26"
             ],
             [
              1,
              "#f0f921"
             ]
            ],
            "type": "heatmap"
           }
          ],
          "histogram": [
           {
            "marker": {
             "pattern": {
              "fillmode": "overlay",
              "size": 10,
              "solidity": 0.2
             }
            },
            "type": "histogram"
           }
          ],
          "histogram2d": [
           {
            "colorbar": {
             "outlinewidth": 0,
             "ticks": ""
            },
            "colorscale": [
             [
              0,
              "#0d0887"
             ],
             [
              0.1111111111111111,
              "#46039f"
             ],
             [
              0.2222222222222222,
              "#7201a8"
             ],
             [
              0.3333333333333333,
              "#9c179e"
             ],
             [
              0.4444444444444444,
              "#bd3786"
             ],
             [
              0.5555555555555556,
              "#d8576b"
             ],
             [
              0.6666666666666666,
              "#ed7953"
             ],
             [
              0.7777777777777778,
              "#fb9f3a"
             ],
             [
              0.8888888888888888,
              "#fdca26"
             ],
             [
              1,
              "#f0f921"
             ]
            ],
            "type": "histogram2d"
           }
          ],
          "histogram2dcontour": [
           {
            "colorbar": {
             "outlinewidth": 0,
             "ticks": ""
            },
            "colorscale": [
             [
              0,
              "#0d0887"
             ],
             [
              0.1111111111111111,
              "#46039f"
             ],
             [
              0.2222222222222222,
              "#7201a8"
             ],
             [
              0.3333333333333333,
              "#9c179e"
             ],
             [
              0.4444444444444444,
              "#bd3786"
             ],
             [
              0.5555555555555556,
              "#d8576b"
             ],
             [
              0.6666666666666666,
              "#ed7953"
             ],
             [
              0.7777777777777778,
              "#fb9f3a"
             ],
             [
              0.8888888888888888,
              "#fdca26"
             ],
             [
              1,
              "#f0f921"
             ]
            ],
            "type": "histogram2dcontour"
           }
          ],
          "mesh3d": [
           {
            "colorbar": {
             "outlinewidth": 0,
             "ticks": ""
            },
            "type": "mesh3d"
           }
          ],
          "parcoords": [
           {
            "line": {
             "colorbar": {
              "outlinewidth": 0,
              "ticks": ""
             }
            },
            "type": "parcoords"
           }
          ],
          "pie": [
           {
            "automargin": true,
            "type": "pie"
           }
          ],
          "scatter": [
           {
            "fillpattern": {
             "fillmode": "overlay",
             "size": 10,
             "solidity": 0.2
            },
            "type": "scatter"
           }
          ],
          "scatter3d": [
           {
            "line": {
             "colorbar": {
              "outlinewidth": 0,
              "ticks": ""
             }
            },
            "marker": {
             "colorbar": {
              "outlinewidth": 0,
              "ticks": ""
             }
            },
            "type": "scatter3d"
           }
          ],
          "scattercarpet": [
           {
            "marker": {
             "colorbar": {
              "outlinewidth": 0,
              "ticks": ""
             }
            },
            "type": "scattercarpet"
           }
          ],
          "scattergeo": [
           {
            "marker": {
             "colorbar": {
              "outlinewidth": 0,
              "ticks": ""
             }
            },
            "type": "scattergeo"
           }
          ],
          "scattergl": [
           {
            "marker": {
             "colorbar": {
              "outlinewidth": 0,
              "ticks": ""
             }
            },
            "type": "scattergl"
           }
          ],
          "scattermap": [
           {
            "marker": {
             "colorbar": {
              "outlinewidth": 0,
              "ticks": ""
             }
            },
            "type": "scattermap"
           }
          ],
          "scattermapbox": [
           {
            "marker": {
             "colorbar": {
              "outlinewidth": 0,
              "ticks": ""
             }
            },
            "type": "scattermapbox"
           }
          ],
          "scatterpolar": [
           {
            "marker": {
             "colorbar": {
              "outlinewidth": 0,
              "ticks": ""
             }
            },
            "type": "scatterpolar"
           }
          ],
          "scatterpolargl": [
           {
            "marker": {
             "colorbar": {
              "outlinewidth": 0,
              "ticks": ""
             }
            },
            "type": "scatterpolargl"
           }
          ],
          "scatterternary": [
           {
            "marker": {
             "colorbar": {
              "outlinewidth": 0,
              "ticks": ""
             }
            },
            "type": "scatterternary"
           }
          ],
          "surface": [
           {
            "colorbar": {
             "outlinewidth": 0,
             "ticks": ""
            },
            "colorscale": [
             [
              0,
              "#0d0887"
             ],
             [
              0.1111111111111111,
              "#46039f"
             ],
             [
              0.2222222222222222,
              "#7201a8"
             ],
             [
              0.3333333333333333,
              "#9c179e"
             ],
             [
              0.4444444444444444,
              "#bd3786"
             ],
             [
              0.5555555555555556,
              "#d8576b"
             ],
             [
              0.6666666666666666,
              "#ed7953"
             ],
             [
              0.7777777777777778,
              "#fb9f3a"
             ],
             [
              0.8888888888888888,
              "#fdca26"
             ],
             [
              1,
              "#f0f921"
             ]
            ],
            "type": "surface"
           }
          ],
          "table": [
           {
            "cells": {
             "fill": {
              "color": "#EBF0F8"
             },
             "line": {
              "color": "white"
             }
            },
            "header": {
             "fill": {
              "color": "#C8D4E3"
             },
             "line": {
              "color": "white"
             }
            },
            "type": "table"
           }
          ]
         },
         "layout": {
          "annotationdefaults": {
           "arrowcolor": "#2a3f5f",
           "arrowhead": 0,
           "arrowwidth": 1
          },
          "autotypenumbers": "strict",
          "coloraxis": {
           "colorbar": {
            "outlinewidth": 0,
            "ticks": ""
           }
          },
          "colorscale": {
           "diverging": [
            [
             0,
             "#8e0152"
            ],
            [
             0.1,
             "#c51b7d"
            ],
            [
             0.2,
             "#de77ae"
            ],
            [
             0.3,
             "#f1b6da"
            ],
            [
             0.4,
             "#fde0ef"
            ],
            [
             0.5,
             "#f7f7f7"
            ],
            [
             0.6,
             "#e6f5d0"
            ],
            [
             0.7,
             "#b8e186"
            ],
            [
             0.8,
             "#7fbc41"
            ],
            [
             0.9,
             "#4d9221"
            ],
            [
             1,
             "#276419"
            ]
           ],
           "sequential": [
            [
             0,
             "#0d0887"
            ],
            [
             0.1111111111111111,
             "#46039f"
            ],
            [
             0.2222222222222222,
             "#7201a8"
            ],
            [
             0.3333333333333333,
             "#9c179e"
            ],
            [
             0.4444444444444444,
             "#bd3786"
            ],
            [
             0.5555555555555556,
             "#d8576b"
            ],
            [
             0.6666666666666666,
             "#ed7953"
            ],
            [
             0.7777777777777778,
             "#fb9f3a"
            ],
            [
             0.8888888888888888,
             "#fdca26"
            ],
            [
             1,
             "#f0f921"
            ]
           ],
           "sequentialminus": [
            [
             0,
             "#0d0887"
            ],
            [
             0.1111111111111111,
             "#46039f"
            ],
            [
             0.2222222222222222,
             "#7201a8"
            ],
            [
             0.3333333333333333,
             "#9c179e"
            ],
            [
             0.4444444444444444,
             "#bd3786"
            ],
            [
             0.5555555555555556,
             "#d8576b"
            ],
            [
             0.6666666666666666,
             "#ed7953"
            ],
            [
             0.7777777777777778,
             "#fb9f3a"
            ],
            [
             0.8888888888888888,
             "#fdca26"
            ],
            [
             1,
             "#f0f921"
            ]
           ]
          },
          "colorway": [
           "#636efa",
           "#EF553B",
           "#00cc96",
           "#ab63fa",
           "#FFA15A",
           "#19d3f3",
           "#FF6692",
           "#B6E880",
           "#FF97FF",
           "#FECB52"
          ],
          "font": {
           "color": "#2a3f5f"
          },
          "geo": {
           "bgcolor": "white",
           "lakecolor": "white",
           "landcolor": "#E5ECF6",
           "showlakes": true,
           "showland": true,
           "subunitcolor": "white"
          },
          "hoverlabel": {
           "align": "left"
          },
          "hovermode": "closest",
          "mapbox": {
           "style": "light"
          },
          "paper_bgcolor": "white",
          "plot_bgcolor": "#E5ECF6",
          "polar": {
           "angularaxis": {
            "gridcolor": "white",
            "linecolor": "white",
            "ticks": ""
           },
           "bgcolor": "#E5ECF6",
           "radialaxis": {
            "gridcolor": "white",
            "linecolor": "white",
            "ticks": ""
           }
          },
          "scene": {
           "xaxis": {
            "backgroundcolor": "#E5ECF6",
            "gridcolor": "white",
            "gridwidth": 2,
            "linecolor": "white",
            "showbackground": true,
            "ticks": "",
            "zerolinecolor": "white"
           },
           "yaxis": {
            "backgroundcolor": "#E5ECF6",
            "gridcolor": "white",
            "gridwidth": 2,
            "linecolor": "white",
            "showbackground": true,
            "ticks": "",
            "zerolinecolor": "white"
           },
           "zaxis": {
            "backgroundcolor": "#E5ECF6",
            "gridcolor": "white",
            "gridwidth": 2,
            "linecolor": "white",
            "showbackground": true,
            "ticks": "",
            "zerolinecolor": "white"
           }
          },
          "shapedefaults": {
           "line": {
            "color": "#2a3f5f"
           }
          },
          "ternary": {
           "aaxis": {
            "gridcolor": "white",
            "linecolor": "white",
            "ticks": ""
           },
           "baxis": {
            "gridcolor": "white",
            "linecolor": "white",
            "ticks": ""
           },
           "bgcolor": "#E5ECF6",
           "caxis": {
            "gridcolor": "white",
            "linecolor": "white",
            "ticks": ""
           }
          },
          "title": {
           "x": 0.05
          },
          "xaxis": {
           "automargin": true,
           "gridcolor": "white",
           "linecolor": "white",
           "ticks": "",
           "title": {
            "standoff": 15
           },
           "zerolinecolor": "white",
           "zerolinewidth": 2
          },
          "yaxis": {
           "automargin": true,
           "gridcolor": "white",
           "linecolor": "white",
           "ticks": "",
           "title": {
            "standoff": 15
           },
           "zerolinecolor": "white",
           "zerolinewidth": 2
          }
         }
        },
        "title": {
         "text": "Parallel Coordinates Plot of All Variables"
        }
       }
      }
     },
     "metadata": {},
     "output_type": "display_data"
    },
    {
     "data": {
      "application/vnd.plotly.v1+json": {
       "config": {
        "plotlyServerURL": "https://plot.ly"
       },
       "data": [
        {
         "hovertemplate": "Growth=%{x}<br>Tariffs=%{y}<br>Exports=%{z}<br>Year=%{marker.color}<extra></extra>",
         "legendgroup": "",
         "marker": {
          "color": {
           "bdata": "xAfFB8YHxwfIB8kHygfLB8wHzQfOB88H0AfRB9IH0wfUB9UH1gfXB9gH2QfaB9sH3AfdB94H3wfgB+EH4gfjB+QH5Qc=",
           "dtype": "i2"
          },
          "coloraxis": "coloraxis",
          "symbol": "circle"
         },
         "mode": "markers",
         "name": "",
         "scene": "scene",
         "showlegend": false,
         "type": "scatter3d",
         "x": {
          "bdata": "CtejcD0KGEA9CtejcD0OQOxRuB6FaylAPQrXo3A9GkCuR+F6FK4DQM3MzMzMzCDAKVyPwvUoFkCamZmZmZkkQOF6FK5H4eK/MzMzMzMz97/NzMzMzMwGQLgehetRuM4/zczMzMzMBkDXo3A9Ctf3v83MzMzMzNw/CtejcD2KJUB7FK5H4XoiQNejcD0K1xBAAAAAAACAIUC4HoXrUbgcQGZmZmZmZhhAAAAAAACAJ8BxPQrXo3AbQB+F61G4HiJAw/UoXI/CD8BSuB6F61HwP4/C9Shcj/I/zczMzMzMGsB7FK5H4XrEP9ejcD0K1wVAzczMzMzMHUB7FK5H4XoAwNejcD0K1wXAZmZmZmZmJEA=",
          "dtype": "f8"
         },
         "y": {
          "bdata": "PQrXo3D9MUA9CtejcL03QNejcD0Kd0pA16NwPQpXLUApXI/C9SgtQJqZmZmZmShAPQrXo3C9L0ApXI/C9SgqQJqZmZmZmSNAZmZmZmbmJECkcD0K1yMlQFK4HoXrUSVA9ihcj8J1JkA9CtejcD0jQK5H4XoULiRAKVyPwvUoI0CF61G4HgUiQK5H4XoUriBAXI/C9ShcIEAfhetRuB4eQAAAAAAAAB5ASOF6FK5HHED2KFyPwvUcQPYoXI/C9RxAcT0K16NwGkBcj8L1KFwbQK5H4XoUrhhAmpmZmZmZGECkcD0K16MaQKRwPQrXoxZAZmZmZmZmGEA9CtejcD0cQHsUrkfhehhACtejcD0KF0A=",
          "dtype": "f8"
         },
         "z": {
          "bdata": "XZqDeT8fJUBo609lvYclQFHoGvClvCVAGdGHBmIHJkB8HnicPHEmQKpeDgwljyZAXqITGKn/JkB8nJ03/UEnQK8cQPJaQydA6RiUmnhCJ0CDqW45KkwnQOovmG/9RydAPZAIXMhXJ0AHSdY9qVYnQI0jX31xWSdA0/ky0fuBJ0B/CmvxaqgnQMJV4sdquidAFnyto2XZJ0DP+5FR2fknQFF8duzYFihAE0/0SIPfJ0CAlwdcIfMnQBTZ3NJMFihAveO0zsoJKEAvvNlnpA4oQD16KKk0FShA1tSQ81D3J0Al8+X/ufgnQLaZmHqYDShA4fl56lAlKEC5Fac+yBwoQDMO6z6UEyhAYy+0zlNDKEA=",
          "dtype": "f8"
         }
        }
       ],
       "layout": {
        "coloraxis": {
         "colorbar": {
          "title": {
           "text": "Year"
          }
         },
         "colorscale": [
          [
           0,
           "#0d0887"
          ],
          [
           0.1111111111111111,
           "#46039f"
          ],
          [
           0.2222222222222222,
           "#7201a8"
          ],
          [
           0.3333333333333333,
           "#9c179e"
          ],
          [
           0.4444444444444444,
           "#bd3786"
          ],
          [
           0.5555555555555556,
           "#d8576b"
          ],
          [
           0.6666666666666666,
           "#ed7953"
          ],
          [
           0.7777777777777778,
           "#fb9f3a"
          ],
          [
           0.8888888888888888,
           "#fdca26"
          ],
          [
           1,
           "#f0f921"
          ]
         ]
        },
        "legend": {
         "tracegroupgap": 0
        },
        "scene": {
         "domain": {
          "x": [
           0,
           1
          ],
          "y": [
           0,
           1
          ]
         },
         "xaxis": {
          "title": {
           "text": "Growth"
          }
         },
         "yaxis": {
          "title": {
           "text": "Tariffs"
          }
         },
         "zaxis": {
          "title": {
           "text": "Exports"
          }
         }
        },
        "template": {
         "data": {
          "bar": [
           {
            "error_x": {
             "color": "#2a3f5f"
            },
            "error_y": {
             "color": "#2a3f5f"
            },
            "marker": {
             "line": {
              "color": "#E5ECF6",
              "width": 0.5
             },
             "pattern": {
              "fillmode": "overlay",
              "size": 10,
              "solidity": 0.2
             }
            },
            "type": "bar"
           }
          ],
          "barpolar": [
           {
            "marker": {
             "line": {
              "color": "#E5ECF6",
              "width": 0.5
             },
             "pattern": {
              "fillmode": "overlay",
              "size": 10,
              "solidity": 0.2
             }
            },
            "type": "barpolar"
           }
          ],
          "carpet": [
           {
            "aaxis": {
             "endlinecolor": "#2a3f5f",
             "gridcolor": "white",
             "linecolor": "white",
             "minorgridcolor": "white",
             "startlinecolor": "#2a3f5f"
            },
            "baxis": {
             "endlinecolor": "#2a3f5f",
             "gridcolor": "white",
             "linecolor": "white",
             "minorgridcolor": "white",
             "startlinecolor": "#2a3f5f"
            },
            "type": "carpet"
           }
          ],
          "choropleth": [
           {
            "colorbar": {
             "outlinewidth": 0,
             "ticks": ""
            },
            "type": "choropleth"
           }
          ],
          "contour": [
           {
            "colorbar": {
             "outlinewidth": 0,
             "ticks": ""
            },
            "colorscale": [
             [
              0,
              "#0d0887"
             ],
             [
              0.1111111111111111,
              "#46039f"
             ],
             [
              0.2222222222222222,
              "#7201a8"
             ],
             [
              0.3333333333333333,
              "#9c179e"
             ],
             [
              0.4444444444444444,
              "#bd3786"
             ],
             [
              0.5555555555555556,
              "#d8576b"
             ],
             [
              0.6666666666666666,
              "#ed7953"
             ],
             [
              0.7777777777777778,
              "#fb9f3a"
             ],
             [
              0.8888888888888888,
              "#fdca26"
             ],
             [
              1,
              "#f0f921"
             ]
            ],
            "type": "contour"
           }
          ],
          "contourcarpet": [
           {
            "colorbar": {
             "outlinewidth": 0,
             "ticks": ""
            },
            "type": "contourcarpet"
           }
          ],
          "heatmap": [
           {
            "colorbar": {
             "outlinewidth": 0,
             "ticks": ""
            },
            "colorscale": [
             [
              0,
              "#0d0887"
             ],
             [
              0.1111111111111111,
              "#46039f"
             ],
             [
              0.2222222222222222,
              "#7201a8"
             ],
             [
              0.3333333333333333,
              "#9c179e"
             ],
             [
              0.4444444444444444,
              "#bd3786"
             ],
             [
              0.5555555555555556,
              "#d8576b"
             ],
             [
              0.6666666666666666,
              "#ed7953"
             ],
             [
              0.7777777777777778,
              "#fb9f3a"
             ],
             [
              0.8888888888888888,
              "#fdca26"
             ],
             [
              1,
              "#f0f921"
             ]
            ],
            "type": "heatmap"
           }
          ],
          "histogram": [
           {
            "marker": {
             "pattern": {
              "fillmode": "overlay",
              "size": 10,
              "solidity": 0.2
             }
            },
            "type": "histogram"
           }
          ],
          "histogram2d": [
           {
            "colorbar": {
             "outlinewidth": 0,
             "ticks": ""
            },
            "colorscale": [
             [
              0,
              "#0d0887"
             ],
             [
              0.1111111111111111,
              "#46039f"
             ],
             [
              0.2222222222222222,
              "#7201a8"
             ],
             [
              0.3333333333333333,
              "#9c179e"
             ],
             [
              0.4444444444444444,
              "#bd3786"
             ],
             [
              0.5555555555555556,
              "#d8576b"
             ],
             [
              0.6666666666666666,
              "#ed7953"
             ],
             [
              0.7777777777777778,
              "#fb9f3a"
             ],
             [
              0.8888888888888888,
              "#fdca26"
             ],
             [
              1,
              "#f0f921"
             ]
            ],
            "type": "histogram2d"
           }
          ],
          "histogram2dcontour": [
           {
            "colorbar": {
             "outlinewidth": 0,
             "ticks": ""
            },
            "colorscale": [
             [
              0,
              "#0d0887"
             ],
             [
              0.1111111111111111,
              "#46039f"
             ],
             [
              0.2222222222222222,
              "#7201a8"
             ],
             [
              0.3333333333333333,
              "#9c179e"
             ],
             [
              0.4444444444444444,
              "#bd3786"
             ],
             [
              0.5555555555555556,
              "#d8576b"
             ],
             [
              0.6666666666666666,
              "#ed7953"
             ],
             [
              0.7777777777777778,
              "#fb9f3a"
             ],
             [
              0.8888888888888888,
              "#fdca26"
             ],
             [
              1,
              "#f0f921"
             ]
            ],
            "type": "histogram2dcontour"
           }
          ],
          "mesh3d": [
           {
            "colorbar": {
             "outlinewidth": 0,
             "ticks": ""
            },
            "type": "mesh3d"
           }
          ],
          "parcoords": [
           {
            "line": {
             "colorbar": {
              "outlinewidth": 0,
              "ticks": ""
             }
            },
            "type": "parcoords"
           }
          ],
          "pie": [
           {
            "automargin": true,
            "type": "pie"
           }
          ],
          "scatter": [
           {
            "fillpattern": {
             "fillmode": "overlay",
             "size": 10,
             "solidity": 0.2
            },
            "type": "scatter"
           }
          ],
          "scatter3d": [
           {
            "line": {
             "colorbar": {
              "outlinewidth": 0,
              "ticks": ""
             }
            },
            "marker": {
             "colorbar": {
              "outlinewidth": 0,
              "ticks": ""
             }
            },
            "type": "scatter3d"
           }
          ],
          "scattercarpet": [
           {
            "marker": {
             "colorbar": {
              "outlinewidth": 0,
              "ticks": ""
             }
            },
            "type": "scattercarpet"
           }
          ],
          "scattergeo": [
           {
            "marker": {
             "colorbar": {
              "outlinewidth": 0,
              "ticks": ""
             }
            },
            "type": "scattergeo"
           }
          ],
          "scattergl": [
           {
            "marker": {
             "colorbar": {
              "outlinewidth": 0,
              "ticks": ""
             }
            },
            "type": "scattergl"
           }
          ],
          "scattermap": [
           {
            "marker": {
             "colorbar": {
              "outlinewidth": 0,
              "ticks": ""
             }
            },
            "type": "scattermap"
           }
          ],
          "scattermapbox": [
           {
            "marker": {
             "colorbar": {
              "outlinewidth": 0,
              "ticks": ""
             }
            },
            "type": "scattermapbox"
           }
          ],
          "scatterpolar": [
           {
            "marker": {
             "colorbar": {
              "outlinewidth": 0,
              "ticks": ""
             }
            },
            "type": "scatterpolar"
           }
          ],
          "scatterpolargl": [
           {
            "marker": {
             "colorbar": {
              "outlinewidth": 0,
              "ticks": ""
             }
            },
            "type": "scatterpolargl"
           }
          ],
          "scatterternary": [
           {
            "marker": {
             "colorbar": {
              "outlinewidth": 0,
              "ticks": ""
             }
            },
            "type": "scatterternary"
           }
          ],
          "surface": [
           {
            "colorbar": {
             "outlinewidth": 0,
             "ticks": ""
            },
            "colorscale": [
             [
              0,
              "#0d0887"
             ],
             [
              0.1111111111111111,
              "#46039f"
             ],
             [
              0.2222222222222222,
              "#7201a8"
             ],
             [
              0.3333333333333333,
              "#9c179e"
             ],
             [
              0.4444444444444444,
              "#bd3786"
             ],
             [
              0.5555555555555556,
              "#d8576b"
             ],
             [
              0.6666666666666666,
              "#ed7953"
             ],
             [
              0.7777777777777778,
              "#fb9f3a"
             ],
             [
              0.8888888888888888,
              "#fdca26"
             ],
             [
              1,
              "#f0f921"
             ]
            ],
            "type": "surface"
           }
          ],
          "table": [
           {
            "cells": {
             "fill": {
              "color": "#EBF0F8"
             },
             "line": {
              "color": "white"
             }
            },
            "header": {
             "fill": {
              "color": "#C8D4E3"
             },
             "line": {
              "color": "white"
             }
            },
            "type": "table"
           }
          ]
         },
         "layout": {
          "annotationdefaults": {
           "arrowcolor": "#2a3f5f",
           "arrowhead": 0,
           "arrowwidth": 1
          },
          "autotypenumbers": "strict",
          "coloraxis": {
           "colorbar": {
            "outlinewidth": 0,
            "ticks": ""
           }
          },
          "colorscale": {
           "diverging": [
            [
             0,
             "#8e0152"
            ],
            [
             0.1,
             "#c51b7d"
            ],
            [
             0.2,
             "#de77ae"
            ],
            [
             0.3,
             "#f1b6da"
            ],
            [
             0.4,
             "#fde0ef"
            ],
            [
             0.5,
             "#f7f7f7"
            ],
            [
             0.6,
             "#e6f5d0"
            ],
            [
             0.7,
             "#b8e186"
            ],
            [
             0.8,
             "#7fbc41"
            ],
            [
             0.9,
             "#4d9221"
            ],
            [
             1,
             "#276419"
            ]
           ],
           "sequential": [
            [
             0,
             "#0d0887"
            ],
            [
             0.1111111111111111,
             "#46039f"
            ],
            [
             0.2222222222222222,
             "#7201a8"
            ],
            [
             0.3333333333333333,
             "#9c179e"
            ],
            [
             0.4444444444444444,
             "#bd3786"
            ],
            [
             0.5555555555555556,
             "#d8576b"
            ],
            [
             0.6666666666666666,
             "#ed7953"
            ],
            [
             0.7777777777777778,
             "#fb9f3a"
            ],
            [
             0.8888888888888888,
             "#fdca26"
            ],
            [
             1,
             "#f0f921"
            ]
           ],
           "sequentialminus": [
            [
             0,
             "#0d0887"
            ],
            [
             0.1111111111111111,
             "#46039f"
            ],
            [
             0.2222222222222222,
             "#7201a8"
            ],
            [
             0.3333333333333333,
             "#9c179e"
            ],
            [
             0.4444444444444444,
             "#bd3786"
            ],
            [
             0.5555555555555556,
             "#d8576b"
            ],
            [
             0.6666666666666666,
             "#ed7953"
            ],
            [
             0.7777777777777778,
             "#fb9f3a"
            ],
            [
             0.8888888888888888,
             "#fdca26"
            ],
            [
             1,
             "#f0f921"
            ]
           ]
          },
          "colorway": [
           "#636efa",
           "#EF553B",
           "#00cc96",
           "#ab63fa",
           "#FFA15A",
           "#19d3f3",
           "#FF6692",
           "#B6E880",
           "#FF97FF",
           "#FECB52"
          ],
          "font": {
           "color": "#2a3f5f"
          },
          "geo": {
           "bgcolor": "white",
           "lakecolor": "white",
           "landcolor": "#E5ECF6",
           "showlakes": true,
           "showland": true,
           "subunitcolor": "white"
          },
          "hoverlabel": {
           "align": "left"
          },
          "hovermode": "closest",
          "mapbox": {
           "style": "light"
          },
          "paper_bgcolor": "white",
          "plot_bgcolor": "#E5ECF6",
          "polar": {
           "angularaxis": {
            "gridcolor": "white",
            "linecolor": "white",
            "ticks": ""
           },
           "bgcolor": "#E5ECF6",
           "radialaxis": {
            "gridcolor": "white",
            "linecolor": "white",
            "ticks": ""
           }
          },
          "scene": {
           "xaxis": {
            "backgroundcolor": "#E5ECF6",
            "gridcolor": "white",
            "gridwidth": 2,
            "linecolor": "white",
            "showbackground": true,
            "ticks": "",
            "zerolinecolor": "white"
           },
           "yaxis": {
            "backgroundcolor": "#E5ECF6",
            "gridcolor": "white",
            "gridwidth": 2,
            "linecolor": "white",
            "showbackground": true,
            "ticks": "",
            "zerolinecolor": "white"
           },
           "zaxis": {
            "backgroundcolor": "#E5ECF6",
            "gridcolor": "white",
            "gridwidth": 2,
            "linecolor": "white",
            "showbackground": true,
            "ticks": "",
            "zerolinecolor": "white"
           }
          },
          "shapedefaults": {
           "line": {
            "color": "#2a3f5f"
           }
          },
          "ternary": {
           "aaxis": {
            "gridcolor": "white",
            "linecolor": "white",
            "ticks": ""
           },
           "baxis": {
            "gridcolor": "white",
            "linecolor": "white",
            "ticks": ""
           },
           "bgcolor": "#E5ECF6",
           "caxis": {
            "gridcolor": "white",
            "linecolor": "white",
            "ticks": ""
           }
          },
          "title": {
           "x": 0.05
          },
          "xaxis": {
           "automargin": true,
           "gridcolor": "white",
           "linecolor": "white",
           "ticks": "",
           "title": {
            "standoff": 15
           },
           "zerolinecolor": "white",
           "zerolinewidth": 2
          },
          "yaxis": {
           "automargin": true,
           "gridcolor": "white",
           "linecolor": "white",
           "ticks": "",
           "title": {
            "standoff": 15
           },
           "zerolinecolor": "white",
           "zerolinewidth": 2
          }
         }
        },
        "title": {
         "text": "3D Relationship: Growth, Tariffs, and Exports"
        }
       }
      }
     },
     "metadata": {},
     "output_type": "display_data"
    }
   ],
   "source": [
    "# Create parallel coordinates plot\n",
    "fig_parallel = px.parallel_coordinates(\n",
    "    ger_trade,\n",
    "    dimensions=[\n",
    "        \"Year\",\n",
    "        \"Country Growth (%)\",\n",
    "        \"AHS Simple Average (%)\",\n",
    "        \"MFN Simple Average (%)\",\n",
    "        \"Export (US$)\",\n",
    "        \"Import (US$)\",\n",
    "    ],\n",
    "    title=\"Parallel Coordinates Plot of All Variables\",\n",
    ")\n",
    "fig_parallel.show()\n",
    "\n",
    "# Create 3D scatter plot\n",
    "fig_3d = px.scatter_3d(\n",
    "    ger_trade,\n",
    "    x=\"Country Growth (%)\",\n",
    "    y=\"AHS Simple Average (%)\",\n",
    "    z=\"Log Export\",\n",
    "    title=\"3D Relationship: Growth, Tariffs, and Exports\",\n",
    "    color=\"Year\",\n",
    "    labels={\n",
    "        \"Country Growth (%)\": \"Growth\",\n",
    "        \"AHS Simple Average (%)\": \"Tariffs\",\n",
    "        \"Log Export\": \"Exports\",\n",
    "    },\n",
    ")\n",
    "fig_3d.show()"
   ]
  },
  {
   "cell_type": "markdown",
   "id": "38ae3248",
   "metadata": {},
   "source": [
    "**Key Insights from Advanced Data Analysis**\n",
    "\n",
    "* **Tariffs and Economic Growth:**\n",
    "  Correlation analysis shows a **weak positive relationship** between tariffs and economic growth:\n",
    "\n",
    "  * AHS vs. Growth: **0.330**\n",
    "  * MFN vs. Growth: **0.232**\n",
    "    This indicates that **higher tariffs were only slightly associated with stronger growth**, and the relationship is not economically significant. The visualizations show that high tariffs correspond to earlier years with more volatile growth, while lower tariffs correspond to more recent periods with higher export volumes.\n",
    "\n",
    "* **Trade Volume Relationships:**\n",
    "\n",
    "  * **Exports and imports** are **almost perfectly correlated** (**0.997**), suggesting they move in near lockstep.\n",
    "  * **Economic growth** and **trade volumes** have a **near-zero negative correlation** (**-0.065**), indicating **no meaningful relationship** between them.\n",
    "\n",
    "* **Tariffs and Trade Volumes:**\n",
    "  Tariffs are **moderately to strongly negatively correlated** with both exports and imports:\n",
    "\n",
    "  * AHS vs. Exports: **-0.642**\n",
    "  * MFN vs. Exports: **-0.693**\n",
    "  * AHS vs. Imports: **-0.634**\n",
    "  * MFN vs. Imports: **-0.685**\n",
    "  \n",
    "    This suggests **higher tariffs are consistently associated with lower trade volumes**. The parallel coordinates plot visually confirms this inverse relationship, showing that as tariffs trend downwards, both exports and imports tend to increase."
   ]
  },
  {
   "cell_type": "markdown",
   "id": "e5f1a86b",
   "metadata": {},
   "source": [
    "## **Phase 3: Research Questions Analysis & Conclusion** <a id='phase-3-research-questions-analysis--conclusion'></a>\n",
    "\n",
    "In this final phase, we'll synthesize our findings, answer our research questions, and provide a thoughtful conclusion for our project.\n",
    "\n",
    "\n",
    "### **3.1 Research Questions Analysis** <a id='31-research-questions-analysis'></a>\n",
    "\n",
    "In this section, we'll address each research question using our comprehensive analysis results.\n",
    "\n",
    "### **3.1.1 Temporal Analysis (1988-2021)** <a id='311-temporal-analysis-1988-2021'></a>\n",
    "\n",
    "Let's examine how Germany's economic growth and tariff rates have evolved over the study period."
   ]
  },
  {
   "cell_type": "code",
   "execution_count": 29,
   "id": "c04de521",
   "metadata": {},
   "outputs": [
    {
     "data": {
      "application/vnd.plotly.v1+json": {
       "config": {
        "plotlyServerURL": "https://plot.ly"
       },
       "data": [
        {
         "hovertemplate": "variable=Country Growth (%)<br>Year=%{x}<br>value=%{y}<extra></extra>",
         "legendgroup": "Country Growth (%)",
         "line": {
          "color": "#636efa",
          "dash": "solid"
         },
         "marker": {
          "symbol": "circle"
         },
         "mode": "lines",
         "name": "Country Growth (%)",
         "orientation": "v",
         "showlegend": true,
         "type": "scatter",
         "x": {
          "bdata": "xAfFB8YHxwfIB8kHygfLB8wHzQfOB88H0AfRB9IH0wfUB9UH1gfXB9gH2QfaB9sH3AfdB94H3wfgB+EH4gfjB+QH5Qc=",
          "dtype": "i2"
         },
         "xaxis": "x",
         "y": {
          "bdata": "CtejcD0KGEA9CtejcD0OQOxRuB6FaylAPQrXo3A9GkCuR+F6FK4DQM3MzMzMzCDAKVyPwvUoFkCamZmZmZkkQOF6FK5H4eK/MzMzMzMz97/NzMzMzMwGQLgehetRuM4/zczMzMzMBkDXo3A9Ctf3v83MzMzMzNw/CtejcD2KJUB7FK5H4XoiQNejcD0K1xBAAAAAAACAIUC4HoXrUbgcQGZmZmZmZhhAAAAAAACAJ8BxPQrXo3AbQB+F61G4HiJAw/UoXI/CD8BSuB6F61HwP4/C9Shcj/I/zczMzMzMGsB7FK5H4XrEP9ejcD0K1wVAzczMzMzMHUB7FK5H4XoAwNejcD0K1wXAZmZmZmZmJEA=",
          "dtype": "f8"
         },
         "yaxis": "y"
        },
        {
         "hovertemplate": "variable=AHS Simple Average (%)<br>Year=%{x}<br>value=%{y}<extra></extra>",
         "legendgroup": "AHS Simple Average (%)",
         "line": {
          "color": "#EF553B",
          "dash": "solid"
         },
         "marker": {
          "symbol": "circle"
         },
         "mode": "lines",
         "name": "AHS Simple Average (%)",
         "orientation": "v",
         "showlegend": true,
         "type": "scatter",
         "x": {
          "bdata": "xAfFB8YHxwfIB8kHygfLB8wHzQfOB88H0AfRB9IH0wfUB9UH1gfXB9gH2QfaB9sH3AfdB94H3wfgB+EH4gfjB+QH5Qc=",
          "dtype": "i2"
         },
         "xaxis": "x",
         "y": {
          "bdata": "PQrXo3D9MUA9CtejcL03QNejcD0Kd0pA16NwPQpXLUApXI/C9SgtQJqZmZmZmShAPQrXo3C9L0ApXI/C9SgqQJqZmZmZmSNAZmZmZmbmJECkcD0K1yMlQFK4HoXrUSVA9ihcj8J1JkA9CtejcD0jQK5H4XoULiRAKVyPwvUoI0CF61G4HgUiQK5H4XoUriBAXI/C9ShcIEAfhetRuB4eQAAAAAAAAB5ASOF6FK5HHED2KFyPwvUcQPYoXI/C9RxAcT0K16NwGkBcj8L1KFwbQK5H4XoUrhhAmpmZmZmZGECkcD0K16MaQKRwPQrXoxZAZmZmZmZmGEA9CtejcD0cQHsUrkfhehhACtejcD0KF0A=",
          "dtype": "f8"
         },
         "yaxis": "y"
        },
        {
         "hovertemplate": "variable=MFN Simple Average (%)<br>Year=%{x}<br>value=%{y}<extra></extra>",
         "legendgroup": "MFN Simple Average (%)",
         "line": {
          "color": "#00cc96",
          "dash": "solid"
         },
         "marker": {
          "symbol": "circle"
         },
         "mode": "lines",
         "name": "MFN Simple Average (%)",
         "orientation": "v",
         "showlegend": true,
         "type": "scatter",
         "x": {
          "bdata": "xAfFB8YHxwfIB8kHygfLB8wHzQfOB88H0AfRB9IH0wfUB9UH1gfXB9gH2QfaB9sH3AfdB94H3wfgB+EH4gfjB+QH5Qc=",
          "dtype": "i2"
         },
         "xaxis": "x",
         "y": {
          "bdata": "NDMzMzNzPEDsUbgehWtHQDMzMzMz00RAPQrXo3A9L0CuR+F6FK4vQJqZmZmZGTBAZmZmZmamMkBcj8L1KNwsQI/C9ShcDyhA16NwPQrXKECuR+F6FC4qQNejcD0K1ylAexSuR+F6J0AUrkfhehQmQIXrUbgeBSdAFK5H4XoUJUAAAAAAAAAjQDMzMzMzsyNAFK5H4XoUI0AK16NwPQoiQD0K16NwPSJAH4XrUbgeIkC4HoXrUbghQNejcD0K1yFA9ihcj8J1IUCF61G4HoUhQEjhehSuxyBAZmZmZmZmIUA9CtejcD0hQLgehetRuCBAexSuR+F6IUDhehSuR2EiQJqZmZmZmSBACtejcD0KIUA=",
          "dtype": "f8"
         },
         "yaxis": "y"
        }
       ],
       "layout": {
        "legend": {
         "title": {
          "text": "variable"
         },
         "tracegroupgap": 0
        },
        "template": {
         "data": {
          "bar": [
           {
            "error_x": {
             "color": "#2a3f5f"
            },
            "error_y": {
             "color": "#2a3f5f"
            },
            "marker": {
             "line": {
              "color": "#E5ECF6",
              "width": 0.5
             },
             "pattern": {
              "fillmode": "overlay",
              "size": 10,
              "solidity": 0.2
             }
            },
            "type": "bar"
           }
          ],
          "barpolar": [
           {
            "marker": {
             "line": {
              "color": "#E5ECF6",
              "width": 0.5
             },
             "pattern": {
              "fillmode": "overlay",
              "size": 10,
              "solidity": 0.2
             }
            },
            "type": "barpolar"
           }
          ],
          "carpet": [
           {
            "aaxis": {
             "endlinecolor": "#2a3f5f",
             "gridcolor": "white",
             "linecolor": "white",
             "minorgridcolor": "white",
             "startlinecolor": "#2a3f5f"
            },
            "baxis": {
             "endlinecolor": "#2a3f5f",
             "gridcolor": "white",
             "linecolor": "white",
             "minorgridcolor": "white",
             "startlinecolor": "#2a3f5f"
            },
            "type": "carpet"
           }
          ],
          "choropleth": [
           {
            "colorbar": {
             "outlinewidth": 0,
             "ticks": ""
            },
            "type": "choropleth"
           }
          ],
          "contour": [
           {
            "colorbar": {
             "outlinewidth": 0,
             "ticks": ""
            },
            "colorscale": [
             [
              0,
              "#0d0887"
             ],
             [
              0.1111111111111111,
              "#46039f"
             ],
             [
              0.2222222222222222,
              "#7201a8"
             ],
             [
              0.3333333333333333,
              "#9c179e"
             ],
             [
              0.4444444444444444,
              "#bd3786"
             ],
             [
              0.5555555555555556,
              "#d8576b"
             ],
             [
              0.6666666666666666,
              "#ed7953"
             ],
             [
              0.7777777777777778,
              "#fb9f3a"
             ],
             [
              0.8888888888888888,
              "#fdca26"
             ],
             [
              1,
              "#f0f921"
             ]
            ],
            "type": "contour"
           }
          ],
          "contourcarpet": [
           {
            "colorbar": {
             "outlinewidth": 0,
             "ticks": ""
            },
            "type": "contourcarpet"
           }
          ],
          "heatmap": [
           {
            "colorbar": {
             "outlinewidth": 0,
             "ticks": ""
            },
            "colorscale": [
             [
              0,
              "#0d0887"
             ],
             [
              0.1111111111111111,
              "#46039f"
             ],
             [
              0.2222222222222222,
              "#7201a8"
             ],
             [
              0.3333333333333333,
              "#9c179e"
             ],
             [
              0.4444444444444444,
              "#bd3786"
             ],
             [
              0.5555555555555556,
              "#d8576b"
             ],
             [
              0.6666666666666666,
              "#ed7953"
             ],
             [
              0.7777777777777778,
              "#fb9f3a"
             ],
             [
              0.8888888888888888,
              "#fdca26"
             ],
             [
              1,
              "#f0f921"
             ]
            ],
            "type": "heatmap"
           }
          ],
          "histogram": [
           {
            "marker": {
             "pattern": {
              "fillmode": "overlay",
              "size": 10,
              "solidity": 0.2
             }
            },
            "type": "histogram"
           }
          ],
          "histogram2d": [
           {
            "colorbar": {
             "outlinewidth": 0,
             "ticks": ""
            },
            "colorscale": [
             [
              0,
              "#0d0887"
             ],
             [
              0.1111111111111111,
              "#46039f"
             ],
             [
              0.2222222222222222,
              "#7201a8"
             ],
             [
              0.3333333333333333,
              "#9c179e"
             ],
             [
              0.4444444444444444,
              "#bd3786"
             ],
             [
              0.5555555555555556,
              "#d8576b"
             ],
             [
              0.6666666666666666,
              "#ed7953"
             ],
             [
              0.7777777777777778,
              "#fb9f3a"
             ],
             [
              0.8888888888888888,
              "#fdca26"
             ],
             [
              1,
              "#f0f921"
             ]
            ],
            "type": "histogram2d"
           }
          ],
          "histogram2dcontour": [
           {
            "colorbar": {
             "outlinewidth": 0,
             "ticks": ""
            },
            "colorscale": [
             [
              0,
              "#0d0887"
             ],
             [
              0.1111111111111111,
              "#46039f"
             ],
             [
              0.2222222222222222,
              "#7201a8"
             ],
             [
              0.3333333333333333,
              "#9c179e"
             ],
             [
              0.4444444444444444,
              "#bd3786"
             ],
             [
              0.5555555555555556,
              "#d8576b"
             ],
             [
              0.6666666666666666,
              "#ed7953"
             ],
             [
              0.7777777777777778,
              "#fb9f3a"
             ],
             [
              0.8888888888888888,
              "#fdca26"
             ],
             [
              1,
              "#f0f921"
             ]
            ],
            "type": "histogram2dcontour"
           }
          ],
          "mesh3d": [
           {
            "colorbar": {
             "outlinewidth": 0,
             "ticks": ""
            },
            "type": "mesh3d"
           }
          ],
          "parcoords": [
           {
            "line": {
             "colorbar": {
              "outlinewidth": 0,
              "ticks": ""
             }
            },
            "type": "parcoords"
           }
          ],
          "pie": [
           {
            "automargin": true,
            "type": "pie"
           }
          ],
          "scatter": [
           {
            "fillpattern": {
             "fillmode": "overlay",
             "size": 10,
             "solidity": 0.2
            },
            "type": "scatter"
           }
          ],
          "scatter3d": [
           {
            "line": {
             "colorbar": {
              "outlinewidth": 0,
              "ticks": ""
             }
            },
            "marker": {
             "colorbar": {
              "outlinewidth": 0,
              "ticks": ""
             }
            },
            "type": "scatter3d"
           }
          ],
          "scattercarpet": [
           {
            "marker": {
             "colorbar": {
              "outlinewidth": 0,
              "ticks": ""
             }
            },
            "type": "scattercarpet"
           }
          ],
          "scattergeo": [
           {
            "marker": {
             "colorbar": {
              "outlinewidth": 0,
              "ticks": ""
             }
            },
            "type": "scattergeo"
           }
          ],
          "scattergl": [
           {
            "marker": {
             "colorbar": {
              "outlinewidth": 0,
              "ticks": ""
             }
            },
            "type": "scattergl"
           }
          ],
          "scattermap": [
           {
            "marker": {
             "colorbar": {
              "outlinewidth": 0,
              "ticks": ""
             }
            },
            "type": "scattermap"
           }
          ],
          "scattermapbox": [
           {
            "marker": {
             "colorbar": {
              "outlinewidth": 0,
              "ticks": ""
             }
            },
            "type": "scattermapbox"
           }
          ],
          "scatterpolar": [
           {
            "marker": {
             "colorbar": {
              "outlinewidth": 0,
              "ticks": ""
             }
            },
            "type": "scatterpolar"
           }
          ],
          "scatterpolargl": [
           {
            "marker": {
             "colorbar": {
              "outlinewidth": 0,
              "ticks": ""
             }
            },
            "type": "scatterpolargl"
           }
          ],
          "scatterternary": [
           {
            "marker": {
             "colorbar": {
              "outlinewidth": 0,
              "ticks": ""
             }
            },
            "type": "scatterternary"
           }
          ],
          "surface": [
           {
            "colorbar": {
             "outlinewidth": 0,
             "ticks": ""
            },
            "colorscale": [
             [
              0,
              "#0d0887"
             ],
             [
              0.1111111111111111,
              "#46039f"
             ],
             [
              0.2222222222222222,
              "#7201a8"
             ],
             [
              0.3333333333333333,
              "#9c179e"
             ],
             [
              0.4444444444444444,
              "#bd3786"
             ],
             [
              0.5555555555555556,
              "#d8576b"
             ],
             [
              0.6666666666666666,
              "#ed7953"
             ],
             [
              0.7777777777777778,
              "#fb9f3a"
             ],
             [
              0.8888888888888888,
              "#fdca26"
             ],
             [
              1,
              "#f0f921"
             ]
            ],
            "type": "surface"
           }
          ],
          "table": [
           {
            "cells": {
             "fill": {
              "color": "#EBF0F8"
             },
             "line": {
              "color": "white"
             }
            },
            "header": {
             "fill": {
              "color": "#C8D4E3"
             },
             "line": {
              "color": "white"
             }
            },
            "type": "table"
           }
          ]
         },
         "layout": {
          "annotationdefaults": {
           "arrowcolor": "#2a3f5f",
           "arrowhead": 0,
           "arrowwidth": 1
          },
          "autotypenumbers": "strict",
          "coloraxis": {
           "colorbar": {
            "outlinewidth": 0,
            "ticks": ""
           }
          },
          "colorscale": {
           "diverging": [
            [
             0,
             "#8e0152"
            ],
            [
             0.1,
             "#c51b7d"
            ],
            [
             0.2,
             "#de77ae"
            ],
            [
             0.3,
             "#f1b6da"
            ],
            [
             0.4,
             "#fde0ef"
            ],
            [
             0.5,
             "#f7f7f7"
            ],
            [
             0.6,
             "#e6f5d0"
            ],
            [
             0.7,
             "#b8e186"
            ],
            [
             0.8,
             "#7fbc41"
            ],
            [
             0.9,
             "#4d9221"
            ],
            [
             1,
             "#276419"
            ]
           ],
           "sequential": [
            [
             0,
             "#0d0887"
            ],
            [
             0.1111111111111111,
             "#46039f"
            ],
            [
             0.2222222222222222,
             "#7201a8"
            ],
            [
             0.3333333333333333,
             "#9c179e"
            ],
            [
             0.4444444444444444,
             "#bd3786"
            ],
            [
             0.5555555555555556,
             "#d8576b"
            ],
            [
             0.6666666666666666,
             "#ed7953"
            ],
            [
             0.7777777777777778,
             "#fb9f3a"
            ],
            [
             0.8888888888888888,
             "#fdca26"
            ],
            [
             1,
             "#f0f921"
            ]
           ],
           "sequentialminus": [
            [
             0,
             "#0d0887"
            ],
            [
             0.1111111111111111,
             "#46039f"
            ],
            [
             0.2222222222222222,
             "#7201a8"
            ],
            [
             0.3333333333333333,
             "#9c179e"
            ],
            [
             0.4444444444444444,
             "#bd3786"
            ],
            [
             0.5555555555555556,
             "#d8576b"
            ],
            [
             0.6666666666666666,
             "#ed7953"
            ],
            [
             0.7777777777777778,
             "#fb9f3a"
            ],
            [
             0.8888888888888888,
             "#fdca26"
            ],
            [
             1,
             "#f0f921"
            ]
           ]
          },
          "colorway": [
           "#636efa",
           "#EF553B",
           "#00cc96",
           "#ab63fa",
           "#FFA15A",
           "#19d3f3",
           "#FF6692",
           "#B6E880",
           "#FF97FF",
           "#FECB52"
          ],
          "font": {
           "color": "#2a3f5f"
          },
          "geo": {
           "bgcolor": "white",
           "lakecolor": "white",
           "landcolor": "#E5ECF6",
           "showlakes": true,
           "showland": true,
           "subunitcolor": "white"
          },
          "hoverlabel": {
           "align": "left"
          },
          "hovermode": "closest",
          "mapbox": {
           "style": "light"
          },
          "paper_bgcolor": "white",
          "plot_bgcolor": "#E5ECF6",
          "polar": {
           "angularaxis": {
            "gridcolor": "white",
            "linecolor": "white",
            "ticks": ""
           },
           "bgcolor": "#E5ECF6",
           "radialaxis": {
            "gridcolor": "white",
            "linecolor": "white",
            "ticks": ""
           }
          },
          "scene": {
           "xaxis": {
            "backgroundcolor": "#E5ECF6",
            "gridcolor": "white",
            "gridwidth": 2,
            "linecolor": "white",
            "showbackground": true,
            "ticks": "",
            "zerolinecolor": "white"
           },
           "yaxis": {
            "backgroundcolor": "#E5ECF6",
            "gridcolor": "white",
            "gridwidth": 2,
            "linecolor": "white",
            "showbackground": true,
            "ticks": "",
            "zerolinecolor": "white"
           },
           "zaxis": {
            "backgroundcolor": "#E5ECF6",
            "gridcolor": "white",
            "gridwidth": 2,
            "linecolor": "white",
            "showbackground": true,
            "ticks": "",
            "zerolinecolor": "white"
           }
          },
          "shapedefaults": {
           "line": {
            "color": "#2a3f5f"
           }
          },
          "ternary": {
           "aaxis": {
            "gridcolor": "white",
            "linecolor": "white",
            "ticks": ""
           },
           "baxis": {
            "gridcolor": "white",
            "linecolor": "white",
            "ticks": ""
           },
           "bgcolor": "#E5ECF6",
           "caxis": {
            "gridcolor": "white",
            "linecolor": "white",
            "ticks": ""
           }
          },
          "title": {
           "x": 0.05
          },
          "xaxis": {
           "automargin": true,
           "gridcolor": "white",
           "linecolor": "white",
           "ticks": "",
           "title": {
            "standoff": 15
           },
           "zerolinecolor": "white",
           "zerolinewidth": 2
          },
          "yaxis": {
           "automargin": true,
           "gridcolor": "white",
           "linecolor": "white",
           "ticks": "",
           "title": {
            "standoff": 15
           },
           "zerolinecolor": "white",
           "zerolinewidth": 2
          }
         }
        },
        "title": {
         "text": "Germany's Economic Growth and Tariff Rates (1988-2021)"
        },
        "xaxis": {
         "anchor": "y",
         "domain": [
          0,
          1
         ],
         "title": {
          "text": "Year"
         }
        },
        "yaxis": {
         "anchor": "x",
         "domain": [
          0,
          1
         ],
         "title": {
          "text": "Percentage (%)"
         }
        }
       }
      }
     },
     "metadata": {},
     "output_type": "display_data"
    }
   ],
   "source": [
    "# Create a combined time series plot for growth and tariffs\n",
    "fig = px.line(\n",
    "    ger_trade,\n",
    "    x=\"Year\",\n",
    "    y=[\"Country Growth (%)\", \"AHS Simple Average (%)\", \"MFN Simple Average (%)\"],\n",
    "    title=\"Germany's Economic Growth and Tariff Rates (1988-2021)\",\n",
    ")\n",
    "fig.update_layout(yaxis_title=\"Percentage (%)\")\n",
    "fig.show()"
   ]
  },
  {
   "cell_type": "code",
   "execution_count": 30,
   "id": "a036d6a7",
   "metadata": {},
   "outputs": [
    {
     "name": "stdout",
     "output_type": "stream",
     "text": [
      "Period Averages:\n"
     ]
    },
    {
     "data": {
      "text/html": [
       "<div>\n",
       "<style scoped>\n",
       "    .dataframe tbody tr th:only-of-type {\n",
       "        vertical-align: middle;\n",
       "    }\n",
       "\n",
       "    .dataframe tbody tr th {\n",
       "        vertical-align: top;\n",
       "    }\n",
       "\n",
       "    .dataframe thead th {\n",
       "        text-align: right;\n",
       "    }\n",
       "</style>\n",
       "<table border=\"1\" class=\"dataframe\">\n",
       "  <thead>\n",
       "    <tr style=\"text-align: right;\">\n",
       "      <th></th>\n",
       "      <th>Period</th>\n",
       "      <th>Average Growth Rate (%)</th>\n",
       "      <th>Average AHS Tariff (%)</th>\n",
       "      <th>Average MFN Tariff (%)</th>\n",
       "    </tr>\n",
       "  </thead>\n",
       "  <tbody>\n",
       "    <tr>\n",
       "      <th>0</th>\n",
       "      <td>Early Period (1988-1995)</td>\n",
       "      <td>4.87</td>\n",
       "      <td>20.64</td>\n",
       "      <td>24.70</td>\n",
       "    </tr>\n",
       "    <tr>\n",
       "      <th>1</th>\n",
       "      <td>Middle Period (1996-2008)</td>\n",
       "      <td>3.78</td>\n",
       "      <td>9.43</td>\n",
       "      <td>10.95</td>\n",
       "    </tr>\n",
       "    <tr>\n",
       "      <th>2</th>\n",
       "      <td>Recent Period (2009-2021)</td>\n",
       "      <td>0.88</td>\n",
       "      <td>6.51</td>\n",
       "      <td>8.70</td>\n",
       "    </tr>\n",
       "  </tbody>\n",
       "</table>\n",
       "</div>"
      ],
      "text/plain": [
       "                      Period  Average Growth Rate (%)  Average AHS Tariff (%)  \\\n",
       "0   Early Period (1988-1995)                     4.87                   20.64   \n",
       "1  Middle Period (1996-2008)                     3.78                    9.43   \n",
       "2  Recent Period (2009-2021)                     0.88                    6.51   \n",
       "\n",
       "   Average MFN Tariff (%)  \n",
       "0                   24.70  \n",
       "1                   10.95  \n",
       "2                    8.70  "
      ]
     },
     "execution_count": 30,
     "metadata": {},
     "output_type": "execute_result"
    }
   ],
   "source": [
    "# Calculate period averages\n",
    "periods = {\n",
    "    \"Early Period (1988-1995)\": (1988, 1995),\n",
    "    \"Middle Period (1996-2008)\": (1996, 2008),\n",
    "    \"Recent Period (2009-2021)\": (2009, 2021),\n",
    "}\n",
    "\n",
    "print(\"Period Averages:\")\n",
    "\n",
    "# Create a list to store summary stats for each period\n",
    "summary_data = []\n",
    "\n",
    "# Loop through periods and calculate metrics\n",
    "for period, (start, end) in periods.items():\n",
    "    mask = (ger_trade[\"Year\"] >= start) & (ger_trade[\"Year\"] <= end)\n",
    "    period_data = ger_trade[mask]\n",
    "\n",
    "    summary_data.append(\n",
    "        {\n",
    "            \"Period\": period,\n",
    "            \"Average Growth Rate (%)\": period_data[\"Country Growth (%)\"].mean(),\n",
    "            \"Average AHS Tariff (%)\": period_data[\"AHS Simple Average (%)\"].mean(),\n",
    "            \"Average MFN Tariff (%)\": period_data[\"MFN Simple Average (%)\"].mean(),\n",
    "        }\n",
    "    )\n",
    "\n",
    "# Convert list of dicts to a DataFrame\n",
    "summary_df = pd.DataFrame(summary_data)\n",
    "summary_df"
   ]
  },
  {
   "cell_type": "markdown",
   "id": "1b2b8211",
   "metadata": {},
   "source": [
    "### **3.1.2 Correlation Analysis** <a id='312-correlation-analysis'></a>\n",
    "\n",
    "Let's examine the relationship between economic growth and tariff rates through visual and statistical analysis."
   ]
  },
  {
   "cell_type": "code",
   "execution_count": 31,
   "id": "beb0bdbd",
   "metadata": {},
   "outputs": [
    {
     "data": {
      "application/vnd.plotly.v1+json": {
       "config": {
        "plotlyServerURL": "https://plot.ly"
       },
       "data": [
        {
         "hovertemplate": "AHS Simple Average (%)=%{x}<br>Country Growth (%)=%{y}<extra></extra>",
         "legendgroup": "",
         "marker": {
          "color": "#636efa",
          "symbol": "circle"
         },
         "mode": "markers",
         "name": "",
         "orientation": "v",
         "showlegend": false,
         "type": "scatter",
         "x": {
          "bdata": "PQrXo3D9MUA9CtejcL03QNejcD0Kd0pA16NwPQpXLUApXI/C9SgtQJqZmZmZmShAPQrXo3C9L0ApXI/C9SgqQJqZmZmZmSNAZmZmZmbmJECkcD0K1yMlQFK4HoXrUSVA9ihcj8J1JkA9CtejcD0jQK5H4XoULiRAKVyPwvUoI0CF61G4HgUiQK5H4XoUriBAXI/C9ShcIEAfhetRuB4eQAAAAAAAAB5ASOF6FK5HHED2KFyPwvUcQPYoXI/C9RxAcT0K16NwGkBcj8L1KFwbQK5H4XoUrhhAmpmZmZmZGECkcD0K16MaQKRwPQrXoxZAZmZmZmZmGEA9CtejcD0cQHsUrkfhehhACtejcD0KF0A=",
          "dtype": "f8"
         },
         "xaxis": "x",
         "y": {
          "bdata": "CtejcD0KGEA9CtejcD0OQOxRuB6FaylAPQrXo3A9GkCuR+F6FK4DQM3MzMzMzCDAKVyPwvUoFkCamZmZmZkkQOF6FK5H4eK/MzMzMzMz97/NzMzMzMwGQLgehetRuM4/zczMzMzMBkDXo3A9Ctf3v83MzMzMzNw/CtejcD2KJUB7FK5H4XoiQNejcD0K1xBAAAAAAACAIUC4HoXrUbgcQGZmZmZmZhhAAAAAAACAJ8BxPQrXo3AbQB+F61G4HiJAw/UoXI/CD8BSuB6F61HwP4/C9Shcj/I/zczMzMzMGsB7FK5H4XrEP9ejcD0K1wVAzczMzMzMHUB7FK5H4XoAwNejcD0K1wXAZmZmZmZmJEA=",
          "dtype": "f8"
         },
         "yaxis": "y"
        },
        {
         "hovertemplate": "<b>OLS trendline</b><br>Country Growth (%) = 0.225336 * AHS Simple Average (%) + 0.458381<br>R<sup>2</sup>=0.108862<br><br>AHS Simple Average (%)=%{x}<br>Country Growth (%)=%{y} <b>(trend)</b><extra></extra>",
         "legendgroup": "",
         "marker": {
          "color": "#636efa",
          "symbol": "circle"
         },
         "mode": "lines",
         "name": "",
         "showlegend": false,
         "type": "scatter",
         "x": {
          "bdata": "pHA9CtejFkAK16NwPQoXQGZmZmZmZhhAexSuR+F6GECamZmZmZkYQK5H4XoUrhhAcT0K16NwGkCkcD0K16MaQFyPwvUoXBtAPQrXo3A9HEBI4XoUrkccQPYoXI/C9RxA9ihcj8L1HEAAAAAAAAAeQB+F61G4Hh5AXI/C9ShcIECuR+F6FK4gQIXrUbgeBSJAKVyPwvUoI0A9CtejcD0jQJqZmZmZmSNArkfhehQuJEBmZmZmZuYkQKRwPQrXIyVAUrgehetRJUD2KFyPwnUmQJqZmZmZmShAKVyPwvUoKkApXI/C9SgtQNejcD0KVy1APQrXo3C9L0A9CtejcP0xQD0K16NwvTdA16NwPQp3SkA=",
          "dtype": "f8"
         },
         "xaxis": "x",
         "y": {
          "bdata": "4+g3r5G9+z/W6bza3Rn8P6mG56GtU/0/p1M1RCNm/T8jB6q304H9PyDU91lJlP0/53GnTGUq/z9g8mlii1j/P0gnJheu/v8/Fvs+CN5kAEBVbtJwe2kAQIoVnWLvtwBAihWdYu+3AED5yZYB7C8BQLcjUTvEPQFAzGbByLtpAkDCmvhRkrMCQFbEj7DE6ANAcG1k+dDvBEBtOrKbRgIFQOJUEPZXVQVAD2PEzizbBUD3l4CDT4EGQO/+aWqwuAZAKgyZFzniBkBEtW1gRekHQL7gDhYQ1wlAC/778gU/C0AohWE5QfMNQGKSkObJHA5ACkzXdUkjEEBEBOXCdgwSQOjxfLQ9OxdAxT6QtFPFKEA=",
          "dtype": "f8"
         },
         "yaxis": "y"
        }
       ],
       "layout": {
        "legend": {
         "tracegroupgap": 0
        },
        "template": {
         "data": {
          "bar": [
           {
            "error_x": {
             "color": "#2a3f5f"
            },
            "error_y": {
             "color": "#2a3f5f"
            },
            "marker": {
             "line": {
              "color": "#E5ECF6",
              "width": 0.5
             },
             "pattern": {
              "fillmode": "overlay",
              "size": 10,
              "solidity": 0.2
             }
            },
            "type": "bar"
           }
          ],
          "barpolar": [
           {
            "marker": {
             "line": {
              "color": "#E5ECF6",
              "width": 0.5
             },
             "pattern": {
              "fillmode": "overlay",
              "size": 10,
              "solidity": 0.2
             }
            },
            "type": "barpolar"
           }
          ],
          "carpet": [
           {
            "aaxis": {
             "endlinecolor": "#2a3f5f",
             "gridcolor": "white",
             "linecolor": "white",
             "minorgridcolor": "white",
             "startlinecolor": "#2a3f5f"
            },
            "baxis": {
             "endlinecolor": "#2a3f5f",
             "gridcolor": "white",
             "linecolor": "white",
             "minorgridcolor": "white",
             "startlinecolor": "#2a3f5f"
            },
            "type": "carpet"
           }
          ],
          "choropleth": [
           {
            "colorbar": {
             "outlinewidth": 0,
             "ticks": ""
            },
            "type": "choropleth"
           }
          ],
          "contour": [
           {
            "colorbar": {
             "outlinewidth": 0,
             "ticks": ""
            },
            "colorscale": [
             [
              0,
              "#0d0887"
             ],
             [
              0.1111111111111111,
              "#46039f"
             ],
             [
              0.2222222222222222,
              "#7201a8"
             ],
             [
              0.3333333333333333,
              "#9c179e"
             ],
             [
              0.4444444444444444,
              "#bd3786"
             ],
             [
              0.5555555555555556,
              "#d8576b"
             ],
             [
              0.6666666666666666,
              "#ed7953"
             ],
             [
              0.7777777777777778,
              "#fb9f3a"
             ],
             [
              0.8888888888888888,
              "#fdca26"
             ],
             [
              1,
              "#f0f921"
             ]
            ],
            "type": "contour"
           }
          ],
          "contourcarpet": [
           {
            "colorbar": {
             "outlinewidth": 0,
             "ticks": ""
            },
            "type": "contourcarpet"
           }
          ],
          "heatmap": [
           {
            "colorbar": {
             "outlinewidth": 0,
             "ticks": ""
            },
            "colorscale": [
             [
              0,
              "#0d0887"
             ],
             [
              0.1111111111111111,
              "#46039f"
             ],
             [
              0.2222222222222222,
              "#7201a8"
             ],
             [
              0.3333333333333333,
              "#9c179e"
             ],
             [
              0.4444444444444444,
              "#bd3786"
             ],
             [
              0.5555555555555556,
              "#d8576b"
             ],
             [
              0.6666666666666666,
              "#ed7953"
             ],
             [
              0.7777777777777778,
              "#fb9f3a"
             ],
             [
              0.8888888888888888,
              "#fdca26"
             ],
             [
              1,
              "#f0f921"
             ]
            ],
            "type": "heatmap"
           }
          ],
          "histogram": [
           {
            "marker": {
             "pattern": {
              "fillmode": "overlay",
              "size": 10,
              "solidity": 0.2
             }
            },
            "type": "histogram"
           }
          ],
          "histogram2d": [
           {
            "colorbar": {
             "outlinewidth": 0,
             "ticks": ""
            },
            "colorscale": [
             [
              0,
              "#0d0887"
             ],
             [
              0.1111111111111111,
              "#46039f"
             ],
             [
              0.2222222222222222,
              "#7201a8"
             ],
             [
              0.3333333333333333,
              "#9c179e"
             ],
             [
              0.4444444444444444,
              "#bd3786"
             ],
             [
              0.5555555555555556,
              "#d8576b"
             ],
             [
              0.6666666666666666,
              "#ed7953"
             ],
             [
              0.7777777777777778,
              "#fb9f3a"
             ],
             [
              0.8888888888888888,
              "#fdca26"
             ],
             [
              1,
              "#f0f921"
             ]
            ],
            "type": "histogram2d"
           }
          ],
          "histogram2dcontour": [
           {
            "colorbar": {
             "outlinewidth": 0,
             "ticks": ""
            },
            "colorscale": [
             [
              0,
              "#0d0887"
             ],
             [
              0.1111111111111111,
              "#46039f"
             ],
             [
              0.2222222222222222,
              "#7201a8"
             ],
             [
              0.3333333333333333,
              "#9c179e"
             ],
             [
              0.4444444444444444,
              "#bd3786"
             ],
             [
              0.5555555555555556,
              "#d8576b"
             ],
             [
              0.6666666666666666,
              "#ed7953"
             ],
             [
              0.7777777777777778,
              "#fb9f3a"
             ],
             [
              0.8888888888888888,
              "#fdca26"
             ],
             [
              1,
              "#f0f921"
             ]
            ],
            "type": "histogram2dcontour"
           }
          ],
          "mesh3d": [
           {
            "colorbar": {
             "outlinewidth": 0,
             "ticks": ""
            },
            "type": "mesh3d"
           }
          ],
          "parcoords": [
           {
            "line": {
             "colorbar": {
              "outlinewidth": 0,
              "ticks": ""
             }
            },
            "type": "parcoords"
           }
          ],
          "pie": [
           {
            "automargin": true,
            "type": "pie"
           }
          ],
          "scatter": [
           {
            "fillpattern": {
             "fillmode": "overlay",
             "size": 10,
             "solidity": 0.2
            },
            "type": "scatter"
           }
          ],
          "scatter3d": [
           {
            "line": {
             "colorbar": {
              "outlinewidth": 0,
              "ticks": ""
             }
            },
            "marker": {
             "colorbar": {
              "outlinewidth": 0,
              "ticks": ""
             }
            },
            "type": "scatter3d"
           }
          ],
          "scattercarpet": [
           {
            "marker": {
             "colorbar": {
              "outlinewidth": 0,
              "ticks": ""
             }
            },
            "type": "scattercarpet"
           }
          ],
          "scattergeo": [
           {
            "marker": {
             "colorbar": {
              "outlinewidth": 0,
              "ticks": ""
             }
            },
            "type": "scattergeo"
           }
          ],
          "scattergl": [
           {
            "marker": {
             "colorbar": {
              "outlinewidth": 0,
              "ticks": ""
             }
            },
            "type": "scattergl"
           }
          ],
          "scattermap": [
           {
            "marker": {
             "colorbar": {
              "outlinewidth": 0,
              "ticks": ""
             }
            },
            "type": "scattermap"
           }
          ],
          "scattermapbox": [
           {
            "marker": {
             "colorbar": {
              "outlinewidth": 0,
              "ticks": ""
             }
            },
            "type": "scattermapbox"
           }
          ],
          "scatterpolar": [
           {
            "marker": {
             "colorbar": {
              "outlinewidth": 0,
              "ticks": ""
             }
            },
            "type": "scatterpolar"
           }
          ],
          "scatterpolargl": [
           {
            "marker": {
             "colorbar": {
              "outlinewidth": 0,
              "ticks": ""
             }
            },
            "type": "scatterpolargl"
           }
          ],
          "scatterternary": [
           {
            "marker": {
             "colorbar": {
              "outlinewidth": 0,
              "ticks": ""
             }
            },
            "type": "scatterternary"
           }
          ],
          "surface": [
           {
            "colorbar": {
             "outlinewidth": 0,
             "ticks": ""
            },
            "colorscale": [
             [
              0,
              "#0d0887"
             ],
             [
              0.1111111111111111,
              "#46039f"
             ],
             [
              0.2222222222222222,
              "#7201a8"
             ],
             [
              0.3333333333333333,
              "#9c179e"
             ],
             [
              0.4444444444444444,
              "#bd3786"
             ],
             [
              0.5555555555555556,
              "#d8576b"
             ],
             [
              0.6666666666666666,
              "#ed7953"
             ],
             [
              0.7777777777777778,
              "#fb9f3a"
             ],
             [
              0.8888888888888888,
              "#fdca26"
             ],
             [
              1,
              "#f0f921"
             ]
            ],
            "type": "surface"
           }
          ],
          "table": [
           {
            "cells": {
             "fill": {
              "color": "#EBF0F8"
             },
             "line": {
              "color": "white"
             }
            },
            "header": {
             "fill": {
              "color": "#C8D4E3"
             },
             "line": {
              "color": "white"
             }
            },
            "type": "table"
           }
          ]
         },
         "layout": {
          "annotationdefaults": {
           "arrowcolor": "#2a3f5f",
           "arrowhead": 0,
           "arrowwidth": 1
          },
          "autotypenumbers": "strict",
          "coloraxis": {
           "colorbar": {
            "outlinewidth": 0,
            "ticks": ""
           }
          },
          "colorscale": {
           "diverging": [
            [
             0,
             "#8e0152"
            ],
            [
             0.1,
             "#c51b7d"
            ],
            [
             0.2,
             "#de77ae"
            ],
            [
             0.3,
             "#f1b6da"
            ],
            [
             0.4,
             "#fde0ef"
            ],
            [
             0.5,
             "#f7f7f7"
            ],
            [
             0.6,
             "#e6f5d0"
            ],
            [
             0.7,
             "#b8e186"
            ],
            [
             0.8,
             "#7fbc41"
            ],
            [
             0.9,
             "#4d9221"
            ],
            [
             1,
             "#276419"
            ]
           ],
           "sequential": [
            [
             0,
             "#0d0887"
            ],
            [
             0.1111111111111111,
             "#46039f"
            ],
            [
             0.2222222222222222,
             "#7201a8"
            ],
            [
             0.3333333333333333,
             "#9c179e"
            ],
            [
             0.4444444444444444,
             "#bd3786"
            ],
            [
             0.5555555555555556,
             "#d8576b"
            ],
            [
             0.6666666666666666,
             "#ed7953"
            ],
            [
             0.7777777777777778,
             "#fb9f3a"
            ],
            [
             0.8888888888888888,
             "#fdca26"
            ],
            [
             1,
             "#f0f921"
            ]
           ],
           "sequentialminus": [
            [
             0,
             "#0d0887"
            ],
            [
             0.1111111111111111,
             "#46039f"
            ],
            [
             0.2222222222222222,
             "#7201a8"
            ],
            [
             0.3333333333333333,
             "#9c179e"
            ],
            [
             0.4444444444444444,
             "#bd3786"
            ],
            [
             0.5555555555555556,
             "#d8576b"
            ],
            [
             0.6666666666666666,
             "#ed7953"
            ],
            [
             0.7777777777777778,
             "#fb9f3a"
            ],
            [
             0.8888888888888888,
             "#fdca26"
            ],
            [
             1,
             "#f0f921"
            ]
           ]
          },
          "colorway": [
           "#636efa",
           "#EF553B",
           "#00cc96",
           "#ab63fa",
           "#FFA15A",
           "#19d3f3",
           "#FF6692",
           "#B6E880",
           "#FF97FF",
           "#FECB52"
          ],
          "font": {
           "color": "#2a3f5f"
          },
          "geo": {
           "bgcolor": "white",
           "lakecolor": "white",
           "landcolor": "#E5ECF6",
           "showlakes": true,
           "showland": true,
           "subunitcolor": "white"
          },
          "hoverlabel": {
           "align": "left"
          },
          "hovermode": "closest",
          "mapbox": {
           "style": "light"
          },
          "paper_bgcolor": "white",
          "plot_bgcolor": "#E5ECF6",
          "polar": {
           "angularaxis": {
            "gridcolor": "white",
            "linecolor": "white",
            "ticks": ""
           },
           "bgcolor": "#E5ECF6",
           "radialaxis": {
            "gridcolor": "white",
            "linecolor": "white",
            "ticks": ""
           }
          },
          "scene": {
           "xaxis": {
            "backgroundcolor": "#E5ECF6",
            "gridcolor": "white",
            "gridwidth": 2,
            "linecolor": "white",
            "showbackground": true,
            "ticks": "",
            "zerolinecolor": "white"
           },
           "yaxis": {
            "backgroundcolor": "#E5ECF6",
            "gridcolor": "white",
            "gridwidth": 2,
            "linecolor": "white",
            "showbackground": true,
            "ticks": "",
            "zerolinecolor": "white"
           },
           "zaxis": {
            "backgroundcolor": "#E5ECF6",
            "gridcolor": "white",
            "gridwidth": 2,
            "linecolor": "white",
            "showbackground": true,
            "ticks": "",
            "zerolinecolor": "white"
           }
          },
          "shapedefaults": {
           "line": {
            "color": "#2a3f5f"
           }
          },
          "ternary": {
           "aaxis": {
            "gridcolor": "white",
            "linecolor": "white",
            "ticks": ""
           },
           "baxis": {
            "gridcolor": "white",
            "linecolor": "white",
            "ticks": ""
           },
           "bgcolor": "#E5ECF6",
           "caxis": {
            "gridcolor": "white",
            "linecolor": "white",
            "ticks": ""
           }
          },
          "title": {
           "x": 0.05
          },
          "xaxis": {
           "automargin": true,
           "gridcolor": "white",
           "linecolor": "white",
           "ticks": "",
           "title": {
            "standoff": 15
           },
           "zerolinecolor": "white",
           "zerolinewidth": 2
          },
          "yaxis": {
           "automargin": true,
           "gridcolor": "white",
           "linecolor": "white",
           "ticks": "",
           "title": {
            "standoff": 15
           },
           "zerolinecolor": "white",
           "zerolinewidth": 2
          }
         }
        },
        "title": {
         "text": "Growth vs AHS Tariff Rates"
        },
        "xaxis": {
         "anchor": "y",
         "domain": [
          0,
          1
         ],
         "title": {
          "text": "AHS Simple Average (%)"
         }
        },
        "yaxis": {
         "anchor": "x",
         "domain": [
          0,
          1
         ],
         "title": {
          "text": "Country Growth (%)"
         }
        }
       }
      }
     },
     "metadata": {},
     "output_type": "display_data"
    },
    {
     "data": {
      "application/vnd.plotly.v1+json": {
       "config": {
        "plotlyServerURL": "https://plot.ly"
       },
       "data": [
        {
         "hovertemplate": "MFN Simple Average (%)=%{x}<br>Country Growth (%)=%{y}<extra></extra>",
         "legendgroup": "",
         "marker": {
          "color": "#636efa",
          "symbol": "circle"
         },
         "mode": "markers",
         "name": "",
         "orientation": "v",
         "showlegend": false,
         "type": "scatter",
         "x": {
          "bdata": "NDMzMzNzPEDsUbgehWtHQDMzMzMz00RAPQrXo3A9L0CuR+F6FK4vQJqZmZmZGTBAZmZmZmamMkBcj8L1KNwsQI/C9ShcDyhA16NwPQrXKECuR+F6FC4qQNejcD0K1ylAexSuR+F6J0AUrkfhehQmQIXrUbgeBSdAFK5H4XoUJUAAAAAAAAAjQDMzMzMzsyNAFK5H4XoUI0AK16NwPQoiQD0K16NwPSJAH4XrUbgeIkC4HoXrUbghQNejcD0K1yFA9ihcj8J1IUCF61G4HoUhQEjhehSuxyBAZmZmZmZmIUA9CtejcD0hQLgehetRuCBAexSuR+F6IUDhehSuR2EiQJqZmZmZmSBACtejcD0KIUA=",
          "dtype": "f8"
         },
         "xaxis": "x",
         "y": {
          "bdata": "CtejcD0KGEA9CtejcD0OQOxRuB6FaylAPQrXo3A9GkCuR+F6FK4DQM3MzMzMzCDAKVyPwvUoFkCamZmZmZkkQOF6FK5H4eK/MzMzMzMz97/NzMzMzMwGQLgehetRuM4/zczMzMzMBkDXo3A9Ctf3v83MzMzMzNw/CtejcD2KJUB7FK5H4XoiQNejcD0K1xBAAAAAAACAIUC4HoXrUbgcQGZmZmZmZhhAAAAAAACAJ8BxPQrXo3AbQB+F61G4HiJAw/UoXI/CD8BSuB6F61HwP4/C9Shcj/I/zczMzMzMGsB7FK5H4XrEP9ejcD0K1wVAzczMzMzMHUB7FK5H4XoAwNejcD0K1wXAZmZmZmZmJEA=",
          "dtype": "f8"
         },
         "yaxis": "y"
        },
        {
         "hovertemplate": "<b>OLS trendline</b><br>Country Growth (%) = 0.150878 * MFN Simple Average (%) + 0.916015<br>R<sup>2</sup>=0.053805<br><br>MFN Simple Average (%)=%{x}<br>Country Growth (%)=%{y} <b>(trend)</b><extra></extra>",
         "legendgroup": "",
         "marker": {
          "color": "#636efa",
          "symbol": "circle"
         },
         "mode": "lines",
         "name": "",
         "showlegend": false,
         "type": "scatter",
         "x": {
          "bdata": "mpmZmZmZIEC4HoXrUbggQEjhehSuxyBACtejcD0KIUA9CtejcD0hQGZmZmZmZiFA9ihcj8J1IUB7FK5H4XohQIXrUbgehSFAuB6F61G4IUDXo3A9CtchQArXo3A9CiJAH4XrUbgeIkA9CtejcD0iQOF6FK5HYSJAAAAAAAAAI0AUrkfhehQjQDMzMzMzsyNAFK5H4XoUJUAUrkfhehQmQIXrUbgeBSdAexSuR+F6J0CPwvUoXA8oQNejcD0K1yhA16NwPQrXKUCuR+F6FC4qQFyPwvUo3CxAPQrXo3A9L0CuR+F6FK4vQJqZmZmZGTBAZmZmZmamMkA0MzMzM3M8QDMzMzMz00RA7FG4HoVrR0A=",
          "dtype": "f8"
         },
         "xaxis": "x",
         "y": {
          "bdata": "DIW1+rBYAUDzg5Q0O2sBQGgDhFGAdAFAsyvnzqucAUCK1FovkrsBQGoohHxK1AFA36dzmY/dAUBb0hijpuABQFInY7bU5gFAKtDWFrsFAkASz7VQRRgCQOp3KbErNwJA2iG+14dDAkDCIJ0RElYCQCZKIVWzawJAKm8hgH3LAkAZGbam2dcCQBw+ttGjNwNAiLE6a9kMBEC+/XxNWacEQILKzxKUOAVAppum8KV/BUCwa1wIQtkFQJTkhYDEUQZAzDDIYkTsBkAHA8AGzCAHQO0/NBPbvghAjv/6jpAuCkA2pixji3IKQM728l3iwgpATUh4+dTWDUB3dd/ygtUUQBr9sNDnzBxAyY2dF8LuH0A=",
          "dtype": "f8"
         },
         "yaxis": "y"
        }
       ],
       "layout": {
        "legend": {
         "tracegroupgap": 0
        },
        "template": {
         "data": {
          "bar": [
           {
            "error_x": {
             "color": "#2a3f5f"
            },
            "error_y": {
             "color": "#2a3f5f"
            },
            "marker": {
             "line": {
              "color": "#E5ECF6",
              "width": 0.5
             },
             "pattern": {
              "fillmode": "overlay",
              "size": 10,
              "solidity": 0.2
             }
            },
            "type": "bar"
           }
          ],
          "barpolar": [
           {
            "marker": {
             "line": {
              "color": "#E5ECF6",
              "width": 0.5
             },
             "pattern": {
              "fillmode": "overlay",
              "size": 10,
              "solidity": 0.2
             }
            },
            "type": "barpolar"
           }
          ],
          "carpet": [
           {
            "aaxis": {
             "endlinecolor": "#2a3f5f",
             "gridcolor": "white",
             "linecolor": "white",
             "minorgridcolor": "white",
             "startlinecolor": "#2a3f5f"
            },
            "baxis": {
             "endlinecolor": "#2a3f5f",
             "gridcolor": "white",
             "linecolor": "white",
             "minorgridcolor": "white",
             "startlinecolor": "#2a3f5f"
            },
            "type": "carpet"
           }
          ],
          "choropleth": [
           {
            "colorbar": {
             "outlinewidth": 0,
             "ticks": ""
            },
            "type": "choropleth"
           }
          ],
          "contour": [
           {
            "colorbar": {
             "outlinewidth": 0,
             "ticks": ""
            },
            "colorscale": [
             [
              0,
              "#0d0887"
             ],
             [
              0.1111111111111111,
              "#46039f"
             ],
             [
              0.2222222222222222,
              "#7201a8"
             ],
             [
              0.3333333333333333,
              "#9c179e"
             ],
             [
              0.4444444444444444,
              "#bd3786"
             ],
             [
              0.5555555555555556,
              "#d8576b"
             ],
             [
              0.6666666666666666,
              "#ed7953"
             ],
             [
              0.7777777777777778,
              "#fb9f3a"
             ],
             [
              0.8888888888888888,
              "#fdca26"
             ],
             [
              1,
              "#f0f921"
             ]
            ],
            "type": "contour"
           }
          ],
          "contourcarpet": [
           {
            "colorbar": {
             "outlinewidth": 0,
             "ticks": ""
            },
            "type": "contourcarpet"
           }
          ],
          "heatmap": [
           {
            "colorbar": {
             "outlinewidth": 0,
             "ticks": ""
            },
            "colorscale": [
             [
              0,
              "#0d0887"
             ],
             [
              0.1111111111111111,
              "#46039f"
             ],
             [
              0.2222222222222222,
              "#7201a8"
             ],
             [
              0.3333333333333333,
              "#9c179e"
             ],
             [
              0.4444444444444444,
              "#bd3786"
             ],
             [
              0.5555555555555556,
              "#d8576b"
             ],
             [
              0.6666666666666666,
              "#ed7953"
             ],
             [
              0.7777777777777778,
              "#fb9f3a"
             ],
             [
              0.8888888888888888,
              "#fdca26"
             ],
             [
              1,
              "#f0f921"
             ]
            ],
            "type": "heatmap"
           }
          ],
          "histogram": [
           {
            "marker": {
             "pattern": {
              "fillmode": "overlay",
              "size": 10,
              "solidity": 0.2
             }
            },
            "type": "histogram"
           }
          ],
          "histogram2d": [
           {
            "colorbar": {
             "outlinewidth": 0,
             "ticks": ""
            },
            "colorscale": [
             [
              0,
              "#0d0887"
             ],
             [
              0.1111111111111111,
              "#46039f"
             ],
             [
              0.2222222222222222,
              "#7201a8"
             ],
             [
              0.3333333333333333,
              "#9c179e"
             ],
             [
              0.4444444444444444,
              "#bd3786"
             ],
             [
              0.5555555555555556,
              "#d8576b"
             ],
             [
              0.6666666666666666,
              "#ed7953"
             ],
             [
              0.7777777777777778,
              "#fb9f3a"
             ],
             [
              0.8888888888888888,
              "#fdca26"
             ],
             [
              1,
              "#f0f921"
             ]
            ],
            "type": "histogram2d"
           }
          ],
          "histogram2dcontour": [
           {
            "colorbar": {
             "outlinewidth": 0,
             "ticks": ""
            },
            "colorscale": [
             [
              0,
              "#0d0887"
             ],
             [
              0.1111111111111111,
              "#46039f"
             ],
             [
              0.2222222222222222,
              "#7201a8"
             ],
             [
              0.3333333333333333,
              "#9c179e"
             ],
             [
              0.4444444444444444,
              "#bd3786"
             ],
             [
              0.5555555555555556,
              "#d8576b"
             ],
             [
              0.6666666666666666,
              "#ed7953"
             ],
             [
              0.7777777777777778,
              "#fb9f3a"
             ],
             [
              0.8888888888888888,
              "#fdca26"
             ],
             [
              1,
              "#f0f921"
             ]
            ],
            "type": "histogram2dcontour"
           }
          ],
          "mesh3d": [
           {
            "colorbar": {
             "outlinewidth": 0,
             "ticks": ""
            },
            "type": "mesh3d"
           }
          ],
          "parcoords": [
           {
            "line": {
             "colorbar": {
              "outlinewidth": 0,
              "ticks": ""
             }
            },
            "type": "parcoords"
           }
          ],
          "pie": [
           {
            "automargin": true,
            "type": "pie"
           }
          ],
          "scatter": [
           {
            "fillpattern": {
             "fillmode": "overlay",
             "size": 10,
             "solidity": 0.2
            },
            "type": "scatter"
           }
          ],
          "scatter3d": [
           {
            "line": {
             "colorbar": {
              "outlinewidth": 0,
              "ticks": ""
             }
            },
            "marker": {
             "colorbar": {
              "outlinewidth": 0,
              "ticks": ""
             }
            },
            "type": "scatter3d"
           }
          ],
          "scattercarpet": [
           {
            "marker": {
             "colorbar": {
              "outlinewidth": 0,
              "ticks": ""
             }
            },
            "type": "scattercarpet"
           }
          ],
          "scattergeo": [
           {
            "marker": {
             "colorbar": {
              "outlinewidth": 0,
              "ticks": ""
             }
            },
            "type": "scattergeo"
           }
          ],
          "scattergl": [
           {
            "marker": {
             "colorbar": {
              "outlinewidth": 0,
              "ticks": ""
             }
            },
            "type": "scattergl"
           }
          ],
          "scattermap": [
           {
            "marker": {
             "colorbar": {
              "outlinewidth": 0,
              "ticks": ""
             }
            },
            "type": "scattermap"
           }
          ],
          "scattermapbox": [
           {
            "marker": {
             "colorbar": {
              "outlinewidth": 0,
              "ticks": ""
             }
            },
            "type": "scattermapbox"
           }
          ],
          "scatterpolar": [
           {
            "marker": {
             "colorbar": {
              "outlinewidth": 0,
              "ticks": ""
             }
            },
            "type": "scatterpolar"
           }
          ],
          "scatterpolargl": [
           {
            "marker": {
             "colorbar": {
              "outlinewidth": 0,
              "ticks": ""
             }
            },
            "type": "scatterpolargl"
           }
          ],
          "scatterternary": [
           {
            "marker": {
             "colorbar": {
              "outlinewidth": 0,
              "ticks": ""
             }
            },
            "type": "scatterternary"
           }
          ],
          "surface": [
           {
            "colorbar": {
             "outlinewidth": 0,
             "ticks": ""
            },
            "colorscale": [
             [
              0,
              "#0d0887"
             ],
             [
              0.1111111111111111,
              "#46039f"
             ],
             [
              0.2222222222222222,
              "#7201a8"
             ],
             [
              0.3333333333333333,
              "#9c179e"
             ],
             [
              0.4444444444444444,
              "#bd3786"
             ],
             [
              0.5555555555555556,
              "#d8576b"
             ],
             [
              0.6666666666666666,
              "#ed7953"
             ],
             [
              0.7777777777777778,
              "#fb9f3a"
             ],
             [
              0.8888888888888888,
              "#fdca26"
             ],
             [
              1,
              "#f0f921"
             ]
            ],
            "type": "surface"
           }
          ],
          "table": [
           {
            "cells": {
             "fill": {
              "color": "#EBF0F8"
             },
             "line": {
              "color": "white"
             }
            },
            "header": {
             "fill": {
              "color": "#C8D4E3"
             },
             "line": {
              "color": "white"
             }
            },
            "type": "table"
           }
          ]
         },
         "layout": {
          "annotationdefaults": {
           "arrowcolor": "#2a3f5f",
           "arrowhead": 0,
           "arrowwidth": 1
          },
          "autotypenumbers": "strict",
          "coloraxis": {
           "colorbar": {
            "outlinewidth": 0,
            "ticks": ""
           }
          },
          "colorscale": {
           "diverging": [
            [
             0,
             "#8e0152"
            ],
            [
             0.1,
             "#c51b7d"
            ],
            [
             0.2,
             "#de77ae"
            ],
            [
             0.3,
             "#f1b6da"
            ],
            [
             0.4,
             "#fde0ef"
            ],
            [
             0.5,
             "#f7f7f7"
            ],
            [
             0.6,
             "#e6f5d0"
            ],
            [
             0.7,
             "#b8e186"
            ],
            [
             0.8,
             "#7fbc41"
            ],
            [
             0.9,
             "#4d9221"
            ],
            [
             1,
             "#276419"
            ]
           ],
           "sequential": [
            [
             0,
             "#0d0887"
            ],
            [
             0.1111111111111111,
             "#46039f"
            ],
            [
             0.2222222222222222,
             "#7201a8"
            ],
            [
             0.3333333333333333,
             "#9c179e"
            ],
            [
             0.4444444444444444,
             "#bd3786"
            ],
            [
             0.5555555555555556,
             "#d8576b"
            ],
            [
             0.6666666666666666,
             "#ed7953"
            ],
            [
             0.7777777777777778,
             "#fb9f3a"
            ],
            [
             0.8888888888888888,
             "#fdca26"
            ],
            [
             1,
             "#f0f921"
            ]
           ],
           "sequentialminus": [
            [
             0,
             "#0d0887"
            ],
            [
             0.1111111111111111,
             "#46039f"
            ],
            [
             0.2222222222222222,
             "#7201a8"
            ],
            [
             0.3333333333333333,
             "#9c179e"
            ],
            [
             0.4444444444444444,
             "#bd3786"
            ],
            [
             0.5555555555555556,
             "#d8576b"
            ],
            [
             0.6666666666666666,
             "#ed7953"
            ],
            [
             0.7777777777777778,
             "#fb9f3a"
            ],
            [
             0.8888888888888888,
             "#fdca26"
            ],
            [
             1,
             "#f0f921"
            ]
           ]
          },
          "colorway": [
           "#636efa",
           "#EF553B",
           "#00cc96",
           "#ab63fa",
           "#FFA15A",
           "#19d3f3",
           "#FF6692",
           "#B6E880",
           "#FF97FF",
           "#FECB52"
          ],
          "font": {
           "color": "#2a3f5f"
          },
          "geo": {
           "bgcolor": "white",
           "lakecolor": "white",
           "landcolor": "#E5ECF6",
           "showlakes": true,
           "showland": true,
           "subunitcolor": "white"
          },
          "hoverlabel": {
           "align": "left"
          },
          "hovermode": "closest",
          "mapbox": {
           "style": "light"
          },
          "paper_bgcolor": "white",
          "plot_bgcolor": "#E5ECF6",
          "polar": {
           "angularaxis": {
            "gridcolor": "white",
            "linecolor": "white",
            "ticks": ""
           },
           "bgcolor": "#E5ECF6",
           "radialaxis": {
            "gridcolor": "white",
            "linecolor": "white",
            "ticks": ""
           }
          },
          "scene": {
           "xaxis": {
            "backgroundcolor": "#E5ECF6",
            "gridcolor": "white",
            "gridwidth": 2,
            "linecolor": "white",
            "showbackground": true,
            "ticks": "",
            "zerolinecolor": "white"
           },
           "yaxis": {
            "backgroundcolor": "#E5ECF6",
            "gridcolor": "white",
            "gridwidth": 2,
            "linecolor": "white",
            "showbackground": true,
            "ticks": "",
            "zerolinecolor": "white"
           },
           "zaxis": {
            "backgroundcolor": "#E5ECF6",
            "gridcolor": "white",
            "gridwidth": 2,
            "linecolor": "white",
            "showbackground": true,
            "ticks": "",
            "zerolinecolor": "white"
           }
          },
          "shapedefaults": {
           "line": {
            "color": "#2a3f5f"
           }
          },
          "ternary": {
           "aaxis": {
            "gridcolor": "white",
            "linecolor": "white",
            "ticks": ""
           },
           "baxis": {
            "gridcolor": "white",
            "linecolor": "white",
            "ticks": ""
           },
           "bgcolor": "#E5ECF6",
           "caxis": {
            "gridcolor": "white",
            "linecolor": "white",
            "ticks": ""
           }
          },
          "title": {
           "x": 0.05
          },
          "xaxis": {
           "automargin": true,
           "gridcolor": "white",
           "linecolor": "white",
           "ticks": "",
           "title": {
            "standoff": 15
           },
           "zerolinecolor": "white",
           "zerolinewidth": 2
          },
          "yaxis": {
           "automargin": true,
           "gridcolor": "white",
           "linecolor": "white",
           "ticks": "",
           "title": {
            "standoff": 15
           },
           "zerolinecolor": "white",
           "zerolinewidth": 2
          }
         }
        },
        "title": {
         "text": "Growth vs MFN Tariff Rates"
        },
        "xaxis": {
         "anchor": "y",
         "domain": [
          0,
          1
         ],
         "title": {
          "text": "MFN Simple Average (%)"
         }
        },
        "yaxis": {
         "anchor": "x",
         "domain": [
          0,
          1
         ],
         "title": {
          "text": "Country Growth (%)"
         }
        }
       }
      }
     },
     "metadata": {},
     "output_type": "display_data"
    },
    {
     "name": "stdout",
     "output_type": "stream",
     "text": [
      "\n",
      "Correlation Analysis:\n",
      "AHS Tariff vs Growth: 0.330\n",
      "MFN Tariff vs Growth: 0.232\n"
     ]
    }
   ],
   "source": [
    "# Create scatter plots with trend lines for both tariff types\n",
    "fig_ahs = px.scatter(\n",
    "    ger_trade,\n",
    "    x=\"AHS Simple Average (%)\",\n",
    "    y=\"Country Growth (%)\",\n",
    "    title=\"Growth vs AHS Tariff Rates\",\n",
    "    trendline=\"ols\",\n",
    ")\n",
    "fig_ahs.show()\n",
    "\n",
    "fig_mfn = px.scatter(\n",
    "    ger_trade,\n",
    "    x=\"MFN Simple Average (%)\",\n",
    "    y=\"Country Growth (%)\",\n",
    "    title=\"Growth vs MFN Tariff Rates\",\n",
    "    trendline=\"ols\",\n",
    ")\n",
    "fig_mfn.show()\n",
    "\n",
    "# Calculate and display correlations\n",
    "correlations = {\n",
    "    \"AHS Tariff vs Growth\": ger_trade[\"Country Growth (%)\"].corr(\n",
    "        ger_trade[\"AHS Simple Average (%)\"]\n",
    "    ),\n",
    "    \"MFN Tariff vs Growth\": ger_trade[\"Country Growth (%)\"].corr(\n",
    "        ger_trade[\"MFN Simple Average (%)\"]\n",
    "    ),\n",
    "}\n",
    "\n",
    "print(\"\\nCorrelation Analysis:\")\n",
    "for relationship, corr in correlations.items():\n",
    "    print(f\"{relationship}: {corr:.3f}\")"
   ]
  },
  {
   "cell_type": "markdown",
   "id": "898ce55c",
   "metadata": {},
   "source": [
    "### **3.1.3 Trade Volume and Policy Analysis** <a id='313-trade-volume-and-policy-analysis'></a>\n",
    "\n",
    "Let's analyze how trade volumes relate to tariff rates and economic growth."
   ]
  },
  {
   "cell_type": "code",
   "execution_count": 32,
   "id": "9bad6c54",
   "metadata": {},
   "outputs": [
    {
     "data": {
      "application/vnd.plotly.v1+json": {
       "config": {
        "plotlyServerURL": "https://plot.ly"
       },
       "data": [
        {
         "hovertemplate": "variable=Export (US$)<br>Year=%{x}<br>value=%{y}<extra></extra>",
         "legendgroup": "Export (US$)",
         "line": {
          "color": "#636efa",
          "dash": "solid"
         },
         "marker": {
          "symbol": "circle"
         },
         "mode": "lines",
         "name": "Export (US$)",
         "orientation": "v",
         "showlegend": true,
         "type": "scatter",
         "x": {
          "bdata": "xAfFB8YHxwfIB8kHygfLB8wHzQfOB88H0AfRB9IH0wfUB9UH1gfXB9gH2QfaB9sH3AfdB94H3wfgB+EH4gfjB+QH5Qc=",
          "dtype": "i2"
         },
         "xaxis": "x",
         "y": {
          "bdata": "AADANYTyIEIAANQRFB0rQgAAmt/YMjFCAAC6rLAROEIAADoAP19DQgAAPFY4KUZCAIAa6vhgUkIAgGRTO8RYQgCAOgdO61hCAADEU/3RWEIAAJERH+1ZQgAAor6qcVlCAICTMB1RW0IAAHQn7i1bQgAASHSJhVtCAABeQFCDYEIAgIAT8aBjQgAAaS2dSGVCAIA4oil3aEIAAHLaTE9sQgAAq4FrIHBCAEDPHNElaUIAgJj3mHdrQgDAdopFFnBCAMBDPAVqbkIAwAYcthVvQgAgpm8NAnBCAMDZoDj9a0IAQJ3ozypsQgBAWSdY8G5CAKCWWPw1cUIAoGTFF5BwQgCA0uRdyG9CAMAxnKayc0I=",
          "dtype": "f8"
         },
         "yaxis": "y"
        },
        {
         "hovertemplate": "variable=Import (US$)<br>Year=%{x}<br>value=%{y}<extra></extra>",
         "legendgroup": "Import (US$)",
         "line": {
          "color": "#EF553B",
          "dash": "solid"
         },
         "marker": {
          "symbol": "circle"
         },
         "mode": "lines",
         "name": "Import (US$)",
         "orientation": "v",
         "showlegend": true,
         "type": "scatter",
         "x": {
          "bdata": "xAfFB8YHxwfIB8kHygfLB8wHzQfOB88H0AfRB9IH0wfUB9UH1gfXB9gH2QfaB9sH3AfdB94H3wfgB+EH4gfjB+QH5Qc=",
          "dtype": "i2"
         },
         "xaxis": "x",
         "y": {
          "bdata": "AABsDpBPJEIAALwGlAUyQv//edwikzZCAAD210dVPEIAAOf07yxGQgAAJuyoaEhCAABzMtFMVEIAgO7bTjxbQgAA6CUSzltCAIDua23YW0IAAFmbOFFdQgCAJ2bDjl1CAID8/MvIXkIAAJY5sZZfQgAAV4imJ2FCAIDBeMbJZEIAAGsA1RlpQgAAYqw1+2pCAABFg8FhbkIAAMjEZjZyQgDgHOsoCHRCAECXZmmFbkIAYBs7nBRxQgBg+wMPCnRCAICTDuQTc0IAAGvvGblzQgCA/cinUnRCACA4i8sWckIAYDYhrQZyQgCgbiKGinNCAGBzqyj9dEIAAHOWqORzQgDg0GS7y3JCAACa1pZkdkI=",
          "dtype": "f8"
         },
         "yaxis": "y"
        }
       ],
       "layout": {
        "legend": {
         "title": {
          "text": "variable"
         },
         "tracegroupgap": 0
        },
        "template": {
         "data": {
          "bar": [
           {
            "error_x": {
             "color": "#2a3f5f"
            },
            "error_y": {
             "color": "#2a3f5f"
            },
            "marker": {
             "line": {
              "color": "#E5ECF6",
              "width": 0.5
             },
             "pattern": {
              "fillmode": "overlay",
              "size": 10,
              "solidity": 0.2
             }
            },
            "type": "bar"
           }
          ],
          "barpolar": [
           {
            "marker": {
             "line": {
              "color": "#E5ECF6",
              "width": 0.5
             },
             "pattern": {
              "fillmode": "overlay",
              "size": 10,
              "solidity": 0.2
             }
            },
            "type": "barpolar"
           }
          ],
          "carpet": [
           {
            "aaxis": {
             "endlinecolor": "#2a3f5f",
             "gridcolor": "white",
             "linecolor": "white",
             "minorgridcolor": "white",
             "startlinecolor": "#2a3f5f"
            },
            "baxis": {
             "endlinecolor": "#2a3f5f",
             "gridcolor": "white",
             "linecolor": "white",
             "minorgridcolor": "white",
             "startlinecolor": "#2a3f5f"
            },
            "type": "carpet"
           }
          ],
          "choropleth": [
           {
            "colorbar": {
             "outlinewidth": 0,
             "ticks": ""
            },
            "type": "choropleth"
           }
          ],
          "contour": [
           {
            "colorbar": {
             "outlinewidth": 0,
             "ticks": ""
            },
            "colorscale": [
             [
              0,
              "#0d0887"
             ],
             [
              0.1111111111111111,
              "#46039f"
             ],
             [
              0.2222222222222222,
              "#7201a8"
             ],
             [
              0.3333333333333333,
              "#9c179e"
             ],
             [
              0.4444444444444444,
              "#bd3786"
             ],
             [
              0.5555555555555556,
              "#d8576b"
             ],
             [
              0.6666666666666666,
              "#ed7953"
             ],
             [
              0.7777777777777778,
              "#fb9f3a"
             ],
             [
              0.8888888888888888,
              "#fdca26"
             ],
             [
              1,
              "#f0f921"
             ]
            ],
            "type": "contour"
           }
          ],
          "contourcarpet": [
           {
            "colorbar": {
             "outlinewidth": 0,
             "ticks": ""
            },
            "type": "contourcarpet"
           }
          ],
          "heatmap": [
           {
            "colorbar": {
             "outlinewidth": 0,
             "ticks": ""
            },
            "colorscale": [
             [
              0,
              "#0d0887"
             ],
             [
              0.1111111111111111,
              "#46039f"
             ],
             [
              0.2222222222222222,
              "#7201a8"
             ],
             [
              0.3333333333333333,
              "#9c179e"
             ],
             [
              0.4444444444444444,
              "#bd3786"
             ],
             [
              0.5555555555555556,
              "#d8576b"
             ],
             [
              0.6666666666666666,
              "#ed7953"
             ],
             [
              0.7777777777777778,
              "#fb9f3a"
             ],
             [
              0.8888888888888888,
              "#fdca26"
             ],
             [
              1,
              "#f0f921"
             ]
            ],
            "type": "heatmap"
           }
          ],
          "histogram": [
           {
            "marker": {
             "pattern": {
              "fillmode": "overlay",
              "size": 10,
              "solidity": 0.2
             }
            },
            "type": "histogram"
           }
          ],
          "histogram2d": [
           {
            "colorbar": {
             "outlinewidth": 0,
             "ticks": ""
            },
            "colorscale": [
             [
              0,
              "#0d0887"
             ],
             [
              0.1111111111111111,
              "#46039f"
             ],
             [
              0.2222222222222222,
              "#7201a8"
             ],
             [
              0.3333333333333333,
              "#9c179e"
             ],
             [
              0.4444444444444444,
              "#bd3786"
             ],
             [
              0.5555555555555556,
              "#d8576b"
             ],
             [
              0.6666666666666666,
              "#ed7953"
             ],
             [
              0.7777777777777778,
              "#fb9f3a"
             ],
             [
              0.8888888888888888,
              "#fdca26"
             ],
             [
              1,
              "#f0f921"
             ]
            ],
            "type": "histogram2d"
           }
          ],
          "histogram2dcontour": [
           {
            "colorbar": {
             "outlinewidth": 0,
             "ticks": ""
            },
            "colorscale": [
             [
              0,
              "#0d0887"
             ],
             [
              0.1111111111111111,
              "#46039f"
             ],
             [
              0.2222222222222222,
              "#7201a8"
             ],
             [
              0.3333333333333333,
              "#9c179e"
             ],
             [
              0.4444444444444444,
              "#bd3786"
             ],
             [
              0.5555555555555556,
              "#d8576b"
             ],
             [
              0.6666666666666666,
              "#ed7953"
             ],
             [
              0.7777777777777778,
              "#fb9f3a"
             ],
             [
              0.8888888888888888,
              "#fdca26"
             ],
             [
              1,
              "#f0f921"
             ]
            ],
            "type": "histogram2dcontour"
           }
          ],
          "mesh3d": [
           {
            "colorbar": {
             "outlinewidth": 0,
             "ticks": ""
            },
            "type": "mesh3d"
           }
          ],
          "parcoords": [
           {
            "line": {
             "colorbar": {
              "outlinewidth": 0,
              "ticks": ""
             }
            },
            "type": "parcoords"
           }
          ],
          "pie": [
           {
            "automargin": true,
            "type": "pie"
           }
          ],
          "scatter": [
           {
            "fillpattern": {
             "fillmode": "overlay",
             "size": 10,
             "solidity": 0.2
            },
            "type": "scatter"
           }
          ],
          "scatter3d": [
           {
            "line": {
             "colorbar": {
              "outlinewidth": 0,
              "ticks": ""
             }
            },
            "marker": {
             "colorbar": {
              "outlinewidth": 0,
              "ticks": ""
             }
            },
            "type": "scatter3d"
           }
          ],
          "scattercarpet": [
           {
            "marker": {
             "colorbar": {
              "outlinewidth": 0,
              "ticks": ""
             }
            },
            "type": "scattercarpet"
           }
          ],
          "scattergeo": [
           {
            "marker": {
             "colorbar": {
              "outlinewidth": 0,
              "ticks": ""
             }
            },
            "type": "scattergeo"
           }
          ],
          "scattergl": [
           {
            "marker": {
             "colorbar": {
              "outlinewidth": 0,
              "ticks": ""
             }
            },
            "type": "scattergl"
           }
          ],
          "scattermap": [
           {
            "marker": {
             "colorbar": {
              "outlinewidth": 0,
              "ticks": ""
             }
            },
            "type": "scattermap"
           }
          ],
          "scattermapbox": [
           {
            "marker": {
             "colorbar": {
              "outlinewidth": 0,
              "ticks": ""
             }
            },
            "type": "scattermapbox"
           }
          ],
          "scatterpolar": [
           {
            "marker": {
             "colorbar": {
              "outlinewidth": 0,
              "ticks": ""
             }
            },
            "type": "scatterpolar"
           }
          ],
          "scatterpolargl": [
           {
            "marker": {
             "colorbar": {
              "outlinewidth": 0,
              "ticks": ""
             }
            },
            "type": "scatterpolargl"
           }
          ],
          "scatterternary": [
           {
            "marker": {
             "colorbar": {
              "outlinewidth": 0,
              "ticks": ""
             }
            },
            "type": "scatterternary"
           }
          ],
          "surface": [
           {
            "colorbar": {
             "outlinewidth": 0,
             "ticks": ""
            },
            "colorscale": [
             [
              0,
              "#0d0887"
             ],
             [
              0.1111111111111111,
              "#46039f"
             ],
             [
              0.2222222222222222,
              "#7201a8"
             ],
             [
              0.3333333333333333,
              "#9c179e"
             ],
             [
              0.4444444444444444,
              "#bd3786"
             ],
             [
              0.5555555555555556,
              "#d8576b"
             ],
             [
              0.6666666666666666,
              "#ed7953"
             ],
             [
              0.7777777777777778,
              "#fb9f3a"
             ],
             [
              0.8888888888888888,
              "#fdca26"
             ],
             [
              1,
              "#f0f921"
             ]
            ],
            "type": "surface"
           }
          ],
          "table": [
           {
            "cells": {
             "fill": {
              "color": "#EBF0F8"
             },
             "line": {
              "color": "white"
             }
            },
            "header": {
             "fill": {
              "color": "#C8D4E3"
             },
             "line": {
              "color": "white"
             }
            },
            "type": "table"
           }
          ]
         },
         "layout": {
          "annotationdefaults": {
           "arrowcolor": "#2a3f5f",
           "arrowhead": 0,
           "arrowwidth": 1
          },
          "autotypenumbers": "strict",
          "coloraxis": {
           "colorbar": {
            "outlinewidth": 0,
            "ticks": ""
           }
          },
          "colorscale": {
           "diverging": [
            [
             0,
             "#8e0152"
            ],
            [
             0.1,
             "#c51b7d"
            ],
            [
             0.2,
             "#de77ae"
            ],
            [
             0.3,
             "#f1b6da"
            ],
            [
             0.4,
             "#fde0ef"
            ],
            [
             0.5,
             "#f7f7f7"
            ],
            [
             0.6,
             "#e6f5d0"
            ],
            [
             0.7,
             "#b8e186"
            ],
            [
             0.8,
             "#7fbc41"
            ],
            [
             0.9,
             "#4d9221"
            ],
            [
             1,
             "#276419"
            ]
           ],
           "sequential": [
            [
             0,
             "#0d0887"
            ],
            [
             0.1111111111111111,
             "#46039f"
            ],
            [
             0.2222222222222222,
             "#7201a8"
            ],
            [
             0.3333333333333333,
             "#9c179e"
            ],
            [
             0.4444444444444444,
             "#bd3786"
            ],
            [
             0.5555555555555556,
             "#d8576b"
            ],
            [
             0.6666666666666666,
             "#ed7953"
            ],
            [
             0.7777777777777778,
             "#fb9f3a"
            ],
            [
             0.8888888888888888,
             "#fdca26"
            ],
            [
             1,
             "#f0f921"
            ]
           ],
           "sequentialminus": [
            [
             0,
             "#0d0887"
            ],
            [
             0.1111111111111111,
             "#46039f"
            ],
            [
             0.2222222222222222,
             "#7201a8"
            ],
            [
             0.3333333333333333,
             "#9c179e"
            ],
            [
             0.4444444444444444,
             "#bd3786"
            ],
            [
             0.5555555555555556,
             "#d8576b"
            ],
            [
             0.6666666666666666,
             "#ed7953"
            ],
            [
             0.7777777777777778,
             "#fb9f3a"
            ],
            [
             0.8888888888888888,
             "#fdca26"
            ],
            [
             1,
             "#f0f921"
            ]
           ]
          },
          "colorway": [
           "#636efa",
           "#EF553B",
           "#00cc96",
           "#ab63fa",
           "#FFA15A",
           "#19d3f3",
           "#FF6692",
           "#B6E880",
           "#FF97FF",
           "#FECB52"
          ],
          "font": {
           "color": "#2a3f5f"
          },
          "geo": {
           "bgcolor": "white",
           "lakecolor": "white",
           "landcolor": "#E5ECF6",
           "showlakes": true,
           "showland": true,
           "subunitcolor": "white"
          },
          "hoverlabel": {
           "align": "left"
          },
          "hovermode": "closest",
          "mapbox": {
           "style": "light"
          },
          "paper_bgcolor": "white",
          "plot_bgcolor": "#E5ECF6",
          "polar": {
           "angularaxis": {
            "gridcolor": "white",
            "linecolor": "white",
            "ticks": ""
           },
           "bgcolor": "#E5ECF6",
           "radialaxis": {
            "gridcolor": "white",
            "linecolor": "white",
            "ticks": ""
           }
          },
          "scene": {
           "xaxis": {
            "backgroundcolor": "#E5ECF6",
            "gridcolor": "white",
            "gridwidth": 2,
            "linecolor": "white",
            "showbackground": true,
            "ticks": "",
            "zerolinecolor": "white"
           },
           "yaxis": {
            "backgroundcolor": "#E5ECF6",
            "gridcolor": "white",
            "gridwidth": 2,
            "linecolor": "white",
            "showbackground": true,
            "ticks": "",
            "zerolinecolor": "white"
           },
           "zaxis": {
            "backgroundcolor": "#E5ECF6",
            "gridcolor": "white",
            "gridwidth": 2,
            "linecolor": "white",
            "showbackground": true,
            "ticks": "",
            "zerolinecolor": "white"
           }
          },
          "shapedefaults": {
           "line": {
            "color": "#2a3f5f"
           }
          },
          "ternary": {
           "aaxis": {
            "gridcolor": "white",
            "linecolor": "white",
            "ticks": ""
           },
           "baxis": {
            "gridcolor": "white",
            "linecolor": "white",
            "ticks": ""
           },
           "bgcolor": "#E5ECF6",
           "caxis": {
            "gridcolor": "white",
            "linecolor": "white",
            "ticks": ""
           }
          },
          "title": {
           "x": 0.05
          },
          "xaxis": {
           "automargin": true,
           "gridcolor": "white",
           "linecolor": "white",
           "ticks": "",
           "title": {
            "standoff": 15
           },
           "zerolinecolor": "white",
           "zerolinewidth": 2
          },
          "yaxis": {
           "automargin": true,
           "gridcolor": "white",
           "linecolor": "white",
           "ticks": "",
           "title": {
            "standoff": 15
           },
           "zerolinecolor": "white",
           "zerolinewidth": 2
          }
         }
        },
        "title": {
         "text": "Trade Volumes Over Time (Trillion US$)"
        },
        "xaxis": {
         "anchor": "y",
         "domain": [
          0,
          1
         ],
         "title": {
          "text": "Year"
         }
        },
        "yaxis": {
         "anchor": "x",
         "domain": [
          0,
          1
         ],
         "title": {
          "text": "value"
         }
        }
       }
      }
     },
     "metadata": {},
     "output_type": "display_data"
    },
    {
     "name": "stdout",
     "output_type": "stream",
     "text": [
      "\n",
      "Trade Volume Correlations:\n",
      "\n",
      "Country Growth (%)\n",
      "Correlation with Exports: -0.065\n",
      "Correlation with Imports: -0.065\n",
      "\n",
      "AHS Simple Average (%)\n",
      "Correlation with Exports: -0.642\n",
      "Correlation with Imports: -0.634\n",
      "\n",
      "MFN Simple Average (%)\n",
      "Correlation with Exports: -0.693\n",
      "Correlation with Imports: -0.685\n",
      "\n",
      "Trade Balance Summary:\n",
      "Average Trade Balance: -152,694,639,823 US$\n",
      "Trade Balance Growth: 2464.1%\n"
     ]
    }
   ],
   "source": [
    "# Create trade volume trends\n",
    "fig_trade = px.line(\n",
    "    ger_trade,\n",
    "    x=\"Year\",\n",
    "    y=[\"Export (US$)\", \"Import (US$)\"],\n",
    "    title=\"Trade Volumes Over Time (Trillion US$)\",\n",
    ")\n",
    "fig_trade.show()\n",
    "\n",
    "# Calculate correlations between trade volumes and other variables\n",
    "print(\"\\nTrade Volume Correlations:\")\n",
    "variables = [\"Country Growth (%)\", \"AHS Simple Average (%)\", \"MFN Simple Average (%)\"]\n",
    "for var in variables:\n",
    "    corr_export = ger_trade[\"Export (US$)\"].corr(ger_trade[var])\n",
    "    corr_import = ger_trade[\"Import (US$)\"].corr(ger_trade[var])\n",
    "    print(f\"\\n{var}\")\n",
    "    print(f\"Correlation with Exports: {corr_export:.3f}\")\n",
    "    print(f\"Correlation with Imports: {corr_import:.3f}\")\n",
    "\n",
    "# Calculate trade balance trend\n",
    "ger_trade[\"Trade Balance\"] = ger_trade[\"Export (US$)\"] - ger_trade[\"Import (US$)\"]\n",
    "print(\"\\nTrade Balance Summary:\")\n",
    "print(f\"Average Trade Balance: {ger_trade['Trade Balance'].mean():,.0f} US$\")\n",
    "print(\n",
    "    f\"Trade Balance Growth: {(ger_trade['Trade Balance'].iloc[-1] / ger_trade['Trade Balance'].iloc[0] - 1) * 100:.1f}%\"\n",
    ")"
   ]
  },
  {
   "cell_type": "markdown",
   "id": "fe1ceaf6",
   "metadata": {},
   "source": [
    "**Research Question Answers**\n",
    "\n",
    "* **Temporal Analysis (Historical Periods):**\n",
    "\n",
    "  Period averages reveal a **clear liberalization trend** over time, with tariffs falling sharply across decades:\n",
    "\n",
    "  * **1988–1995:** AHS = **20.64%**, MFN = **24.70%**, Avg. Growth = **4.87%**\n",
    "  * **1996–2008:** AHS = **9.43%**, MFN = **10.95%**, Avg. Growth = **3.78%**\n",
    "  * **2009–2021:** AHS = **6.51%**, MFN = **8.70%**, Avg. Growth = **0.88%**\n",
    "  \n",
    "    As tariffs declined, **economic growth also slowed**, suggesting other factors beyond trade policy likely influenced growth dynamics.\n",
    "\n",
    "* **Tariffs and Economic Growth:**\n",
    "\n",
    "  A **weak positive correlation** indicates that **reducing tariffs alone did not guarantee stronger economic growth**, highlighting the role of broader macroeconomic conditions.\n",
    "\n",
    "* **Tariffs and Trade Volumes:**\n",
    "\n",
    "  **Negative correlations** between tariffs and both exports and imports confirm that **lower tariffs were consistently associated with higher trade volumes**."
   ]
  },
  {
   "cell_type": "markdown",
   "id": "4f998552",
   "metadata": {},
   "source": [
    "### **3.2 Insights & Conclusion** <a id='32-insights--conclusion'></a>\n",
    "\n",
    "#### **Summary of Key Findings**\n",
    "\n",
    "* **Trade Liberalization Trend:**\n",
    "  Over the 33-year period, Germany **significantly reduced trade barriers**, with AHS tariffs declining from **20.64%** to **6.51%** and MFN tariffs from **24.70%** to **8.70%**.\n",
    "\n",
    "* **Tariffs and Trade Volumes:**\n",
    "  As tariffs decreased, both **exports and imports expanded sharply**, reflected in the strong negative correlations between tariffs and trade volumes (e.g., MFN vs. Exports = **-0.693**).\n",
    "\n",
    "* **Tariffs and Economic Growth:**\n",
    "  The **weak positive correlations** (AHS = **0.330**, MFN = **0.232**) indicate that **lower tariffs alone were insufficient to explain economic growth trends**.\n",
    "\n",
    "\n",
    "#### **Implications of the Results**\n",
    "\n",
    "The findings suggest that while **trade liberalization clearly promoted trade expansion**, its **direct impact on GDP growth** was minimal. Economic growth likely relied on a combination of factors, including **domestic economic policies, technological advancements, global demand conditions, and investment dynamics**.\n",
    "\n",
    "\n",
    "#### **Future Research Directions**\n",
    "\n",
    "1. **Multivariate Regression Analysis:**\n",
    "   To account for additional macroeconomic variables influencing growth and trade.\n",
    "2. **Time-Series Causality Tests:**\n",
    "   To explore the directionality of relationships (e.g., using Granger causality).\n",
    "3. **Cross-Country Comparative Studies:**\n",
    "   To distinguish **country-specific effects** from **broader global patterns**."
   ]
  },
  {
   "cell_type": "code",
   "execution_count": null,
   "id": "024ec67f-9951-4da9-abcc-0639b4c123de",
   "metadata": {},
   "outputs": [],
   "source": []
  }
 ],
 "metadata": {
  "kernelspec": {
   "display_name": "eda-project (3.11.6)",
   "language": "python",
   "name": "python3"
  },
  "language_info": {
   "codemirror_mode": {
    "name": "ipython",
    "version": 3
   },
   "file_extension": ".py",
   "mimetype": "text/x-python",
   "name": "python",
   "nbconvert_exporter": "python",
   "pygments_lexer": "ipython3",
   "version": "3.11.6"
  }
 },
 "nbformat": 4,
 "nbformat_minor": 5
}
